{
 "cells": [
  {
   "cell_type": "markdown",
   "metadata": {},
   "source": [
    "## Text Normalization"
   ]
  },
  {
   "cell_type": "code",
   "execution_count": 1,
   "outputs": [],
   "source": [
    "import pandas as pd\n",
    "import seaborn as sns"
   ],
   "metadata": {
    "collapsed": false,
    "ExecuteTime": {
     "start_time": "2023-05-01T11:31:23.699806Z",
     "end_time": "2023-05-01T11:31:23.703737Z"
    }
   }
  },
  {
   "cell_type": "code",
   "execution_count": 2,
   "metadata": {
    "ExecuteTime": {
     "start_time": "2023-05-01T11:36:51.232245Z",
     "end_time": "2023-05-01T11:36:51.258435Z"
    }
   },
   "outputs": [
    {
     "name": "stdout",
     "output_type": "stream",
     "text": [
      "taj mahal is one of the beautiful monuments. it is one of the wonders of the world. it was built by shah jahan in 1631 in memory of his third beloved wife mumtaj mahal.\n"
     ]
    }
   ],
   "source": [
    "# Input text\n",
    "paragraph=\"\"\"Taj Mahal is one of the beautiful monuments. It is one of the wonders of the world. It was built by Shah Jahan in 1631 in memory of his third beloved wife Mumtaj Mahal.\"\"\"\n",
    "\n",
    "# Converting paragraph in lowercase \n",
    "print(paragraph.lower()) "
   ]
  },
  {
   "cell_type": "markdown",
   "metadata": {},
   "source": [
    "## Tokenization"
   ]
  },
  {
   "cell_type": "code",
   "execution_count": 3,
   "metadata": {
    "ExecuteTime": {
     "start_time": "2023-05-01T11:36:52.663961Z",
     "end_time": "2023-05-01T11:36:55.687318Z"
    }
   },
   "outputs": [
    {
     "name": "stderr",
     "output_type": "stream",
     "text": [
      "[nltk_data] Downloading package punkt to /Users/dmmil/nltk_data...\n",
      "[nltk_data]   Package punkt is already up-to-date!\n",
      "[nltk_data] Downloading package stopwords to /Users/dmmil/nltk_data...\n",
      "[nltk_data]   Package stopwords is already up-to-date!\n",
      "[nltk_data] Downloading package wordnet to /Users/dmmil/nltk_data...\n",
      "[nltk_data]   Package wordnet is already up-to-date!\n",
      "[nltk_data] Downloading package averaged_perceptron_tagger to\n",
      "[nltk_data]     /Users/dmmil/nltk_data...\n",
      "[nltk_data]   Package averaged_perceptron_tagger is already up-to-\n",
      "[nltk_data]       date!\n"
     ]
    },
    {
     "data": {
      "text/plain": "True"
     },
     "execution_count": 3,
     "metadata": {},
     "output_type": "execute_result"
    }
   ],
   "source": [
    "# Loading NLTK module\n",
    "import nltk\n",
    "\n",
    "# downloading punkt\n",
    "nltk.download('punkt')\n",
    "\n",
    "# downloading stopwords\n",
    "nltk.download('stopwords')\n",
    "\n",
    "# downloading wordnet\n",
    "nltk.download('wordnet')\n",
    "\n",
    "# downloading average_perception_tagger \n",
    "nltk.download('averaged_perceptron_tagger')"
   ]
  },
  {
   "cell_type": "code",
   "execution_count": 4,
   "metadata": {
    "ExecuteTime": {
     "start_time": "2023-05-01T11:36:57.005945Z",
     "end_time": "2023-05-01T11:36:57.023460Z"
    }
   },
   "outputs": [
    {
     "name": "stdout",
     "output_type": "stream",
     "text": [
      "['Taj Mahal is one of the beautiful monuments.', 'It is one of the wonders of the world.', 'It was built by Shah Jahan in 1631 in memory of his third beloved wife Mumtaj Mahal.']\n"
     ]
    }
   ],
   "source": [
    "# Sentence Tokenization\n",
    "from nltk.tokenize import sent_tokenize\n",
    " \n",
    "paragraph=\"\"\"Taj Mahal is one of the beautiful monuments. It is one of the wonders of the world. It was built by Shah Jahan in 1631 in memory of his third beloved wife Mumtaj Mahal.\"\"\"\n",
    " \n",
    "tokenized_sentences=sent_tokenize(paragraph)\n",
    "print(tokenized_sentences)"
   ]
  },
  {
   "cell_type": "code",
   "execution_count": 5,
   "metadata": {
    "ExecuteTime": {
     "start_time": "2023-05-01T11:36:57.962275Z",
     "end_time": "2023-05-01T11:37:17.546975Z"
    }
   },
   "outputs": [
    {
     "name": "stdout",
     "output_type": "stream",
     "text": [
      "['Taj Mahal is one of the beautiful monuments.', 'It is one of the wonders of the world.', 'It was built by Shah Jahan in 1631 in memory of his third beloved wife Mumtaj Mahal.']\n"
     ]
    }
   ],
   "source": [
    "# Import spacy\n",
    "import spacy\n",
    "\n",
    "# Loading english language model \n",
    "nlp = spacy.load(\"en_core_web_sm\")\n",
    "\n",
    "# Append the sentencizer pipe to the nlp pipeline\n",
    "nlp.add_pipe('sentencizer')\n",
    " \n",
    "paragraph = \"\"\"Taj Mahal is one of the beautiful monuments. It is one of the wonders of the world. It was built by Shah Jahan in 1631 in memory of his third beloved wife Mumtaj Mahal.\"\"\"\n",
    " \n",
    "# Create nlp Object to handle linguistic annotations in a documents.\n",
    "nlp_doc = nlp(paragraph)\n",
    " \n",
    "# Generate list of tokenized sentence\n",
    "tokenized_sentences = []\n",
    "for sentence in nlp_doc.sents:\n",
    "    tokenized_sentences.append(sentence.text)\n",
    "print(tokenized_sentences)"
   ]
  },
  {
   "cell_type": "code",
   "execution_count": 6,
   "metadata": {
    "ExecuteTime": {
     "start_time": "2023-05-01T11:37:18.857501Z",
     "end_time": "2023-05-01T11:37:18.870129Z"
    }
   },
   "outputs": [
    {
     "name": "stdout",
     "output_type": "stream",
     "text": [
      "['Taj', 'Mahal', 'is', 'one', 'of', 'the', 'beautiful', 'monuments', '.', 'It', 'is', 'one', 'of', 'the', 'wonders', 'of', 'the', 'world', '.', 'It', 'was', 'built', 'by', 'Shah', 'Jahan', 'in', '1631', 'in', 'memory', 'of', 'his', 'third', 'beloved', 'wife', 'Mumtaj', 'Mahal', '.']\n"
     ]
    }
   ],
   "source": [
    "# Import nltk word_tokenize method\n",
    "from nltk.tokenize import word_tokenize\n",
    " \n",
    "# Split paragraph into words\n",
    "tokenized_words=word_tokenize(paragraph)\n",
    "print(tokenized_words)"
   ]
  },
  {
   "cell_type": "code",
   "execution_count": 7,
   "metadata": {
    "ExecuteTime": {
     "start_time": "2023-05-01T11:37:19.731363Z",
     "end_time": "2023-05-01T11:37:20.594177Z"
    }
   },
   "outputs": [
    {
     "name": "stdout",
     "output_type": "stream",
     "text": [
      "['Taj', 'Mahal', 'is', 'one', 'of', 'the', 'beautiful', 'monuments', '.', 'It', 'is', 'one', 'of', 'the', 'wonders', 'of', 'the', 'world', '.', 'It', 'was', 'built', 'by', 'Shah', 'Jahan', 'in', '1631', 'in', 'memory', 'of', 'his', 'third', 'beloved', 'wife', 'Mumtaj', 'Mahal', '.']\n"
     ]
    }
   ],
   "source": [
    "# Import spacy\n",
    "import spacy\n",
    "\n",
    "# Loading english language model \n",
    "nlp = spacy.load(\"en_core_web_sm\")\n",
    " \n",
    "paragraph = \"\"\"Taj Mahal is one of the beautiful monuments. It is one of the wonders of the world. It was built by Shah Jahan in 1631 in memory of his third beloved wife Mumtaj Mahal.\"\"\"\n",
    " \n",
    "# Create nlp Object to handle linguistic annotations in a documents.\n",
    "my_doc = nlp(paragraph)\n",
    " \n",
    "# tokenize paragraph into words\n",
    "tokenized_words = []\n",
    "for token in my_doc:\n",
    "    tokenized_words.append(token.text)\n",
    "print(tokenized_words)"
   ]
  },
  {
   "cell_type": "code",
   "execution_count": 8,
   "metadata": {
    "ExecuteTime": {
     "start_time": "2023-05-01T11:37:21.566328Z",
     "end_time": "2023-05-01T11:37:21.579024Z"
    }
   },
   "outputs": [
    {
     "data": {
      "text/plain": "[('of', 4), ('the', 3), ('.', 3), ('Mahal', 2), ('is', 2)]"
     },
     "execution_count": 8,
     "metadata": {},
     "output_type": "execute_result"
    }
   ],
   "source": [
    "# Import frequency distribution  \n",
    "from nltk.probability import FreqDist\n",
    " \n",
    "# Find frequency distribution of paragraph\n",
    "fdist = FreqDist(tokenized_words)\n",
    " \n",
    "# Check top 5 common words\n",
    "fdist.most_common(5)"
   ]
  },
  {
   "cell_type": "code",
   "execution_count": 9,
   "metadata": {
    "ExecuteTime": {
     "start_time": "2023-05-01T11:37:22.460089Z",
     "end_time": "2023-05-01T11:37:22.823568Z"
    }
   },
   "outputs": [
    {
     "data": {
      "text/plain": "<Figure size 432x288 with 1 Axes>",
      "image/png": "[encoded data removed]"
     },
     "metadata": {
      "needs_background": "light"
     },
     "output_type": "display_data"
    }
   ],
   "source": [
    "# Import matplotlib\n",
    "import matplotlib.pyplot as plt\n",
    " \n",
    "# Plot Frequency Distribution\n",
    "fdist.plot(20, cumulative=False)\n",
    "plt.show()"
   ]
  },
  {
   "cell_type": "code",
   "execution_count": 10,
   "outputs": [
    {
     "data": {
      "text/plain": "<Figure size 720x576 with 1 Axes>",
      "image/png": "[encoded data removed]"
     },
     "metadata": {
      "needs_background": "light"
     },
     "output_type": "display_data"
    }
   ],
   "source": [
    "## Conversion to Pandas series via Python Dictionary for easier plotting\n",
    "all_fdist = pd.Series(dict(fdist))\n",
    "all_fdist.sort_values(ascending=False, inplace=True)\n",
    "\n",
    "## Setting figure, ax into variables\n",
    "fig, ax = plt.subplots(figsize=(10,8))\n",
    "\n",
    "## Seaborn plotting using Pandas attributes + xtick rotation for ease of viewing\n",
    "all_plot = sns.lineplot(x=all_fdist.index, y=all_fdist.values, ax=ax)\n",
    "\n",
    "plt.xticks(rotation=60);"
   ],
   "metadata": {
    "collapsed": false,
    "ExecuteTime": {
     "start_time": "2023-05-01T11:37:23.621207Z",
     "end_time": "2023-05-01T11:37:24.037672Z"
    }
   }
  },
  {
   "cell_type": "markdown",
   "metadata": {},
   "source": [
    "## Stopwords"
   ]
  },
  {
   "cell_type": "code",
   "execution_count": 11,
   "metadata": {
    "ExecuteTime": {
     "start_time": "2023-05-01T11:37:25.960821Z",
     "end_time": "2023-05-01T11:37:25.973687Z"
    }
   },
   "outputs": [
    {
     "name": "stdout",
     "output_type": "stream",
     "text": [
      "Tokenized Word List: ['Taj', 'Mahal', 'is', 'one', 'of', 'the', 'beautiful', 'monuments', '.', 'It', 'is', 'one', 'of', 'the', 'wonders', 'of', 'the', 'world', '.', 'It', 'was', 'built', 'by', 'Shah', 'Jahan', 'in', '1631', 'in', 'memory', 'of', 'his', 'third', 'beloved', 'wife', 'Mumtaj', 'Mahal', '.']\n",
      "Filtered Word List: ['Taj', 'Mahal', 'one', 'beautiful', 'monuments', '.', 'It', 'one', 'wonders', 'world', '.', 'It', 'built', 'Shah', 'Jahan', '1631', 'memory', 'third', 'beloved', 'wife', 'Mumtaj', 'Mahal', '.']\n"
     ]
    }
   ],
   "source": [
    "# import the nltk stopwords \n",
    "from nltk.corpus import stopwords\n",
    " \n",
    "# Load english stopwords list\n",
    "stopwords_set = set(stopwords.words(\"english\"))\n",
    " \n",
    "# Removing stopwords from text\n",
    "filtered_word_list=[]\n",
    "for word in tokenized_words:\n",
    "    # filter stopwords\n",
    "    if word not in stopwords_set:\n",
    "        filtered_word_list.append(word)\n",
    "\n",
    "# print tokenized words\n",
    "print(\"Tokenized Word List:\", tokenized_words)\n",
    "\n",
    "# print filtered words\n",
    "print(\"Filtered Word List:\", filtered_word_list)"
   ]
  },
  {
   "cell_type": "code",
   "execution_count": 12,
   "metadata": {
    "ExecuteTime": {
     "start_time": "2023-05-01T11:37:27.200990Z",
     "end_time": "2023-05-01T11:37:27.859573Z"
    }
   },
   "outputs": [
    {
     "name": "stdout",
     "output_type": "stream",
     "text": [
      "Filtered Word List: [Taj, Mahal, beautiful, monuments, ., wonders, world, ., built, Shah, Jahan, 1631, memory, beloved, wife, Mumtaj, Mahal, .]\n"
     ]
    }
   ],
   "source": [
    "# Import spacy \n",
    "import spacy\n",
    " \n",
    "# Loading english language model \n",
    "nlp = spacy.load(\"en_core_web_sm\")\n",
    " \n",
    "# text paragraph\n",
    "paragraph = \"\"\"Taj Mahal is one of the beautiful monuments. It is one of the wonders of the world. It was built by Shah Jahan in 1631 in memory of his third beloved wife Mumtaj Mahal.\"\"\"\n",
    "\n",
    "# Create nlp Object to handle linguistic annotations in a documents.\n",
    "my_doc = nlp(paragraph)\n",
    " \n",
    "# Removing stopwords from text\n",
    "filtered_token_list=[]\n",
    "for token in my_doc:\n",
    "    # filter stopwords \n",
    "    if token.is_stop==False:\n",
    "        filtered_token_list.append(token)\n",
    "        \n",
    "print(\"Filtered Word List:\",filtered_token_list)"
   ]
  },
  {
   "cell_type": "markdown",
   "metadata": {},
   "source": [
    "## Stemming and Lemmatization"
   ]
  },
  {
   "cell_type": "code",
   "execution_count": 13,
   "metadata": {
    "ExecuteTime": {
     "start_time": "2023-05-01T11:37:30.035334Z",
     "end_time": "2023-05-01T11:37:31.448100Z"
    }
   },
   "outputs": [
    {
     "name": "stdout",
     "output_type": "stream",
     "text": [
      "Original Word:  cry\n",
      "Stemmed Word: cri\n",
      "Lemmatized Word: cry\n",
      "Original Word:  cries\n",
      "Stemmed Word: cri\n",
      "Lemmatized Word: cry\n",
      "Original Word:  crying\n",
      "Stemmed Word: cri\n",
      "Lemmatized Word: cry\n"
     ]
    }
   ],
   "source": [
    "# Import Lemmatizer\n",
    "from nltk.stem.wordnet import WordNetLemmatizer\n",
    "\n",
    "# Create lemmatizer object\n",
    "lemmatizer = WordNetLemmatizer()\n",
    " \n",
    "# Import Porter Stemmer\n",
    "from nltk.stem.porter import PorterStemmer\n",
    "\n",
    "# Create stemmer object\n",
    "stemmer = PorterStemmer()\n",
    "\n",
    "# take a sample word\n",
    "sample_words = [\"cry\",\"cries\",\"crying\"]\n",
    "\n",
    "for word in sample_words:\n",
    "    print('Original Word: ', word)\n",
    "    print(\"Stemmed Word:\", stemmer.stem(word))\n",
    "    print(\"Lemmatized Word:\", lemmatizer.lemmatize(word,\"v\"))"
   ]
  },
  {
   "cell_type": "code",
   "execution_count": 14,
   "metadata": {
    "ExecuteTime": {
     "start_time": "2023-05-01T11:37:32.593521Z",
     "end_time": "2023-05-01T11:37:33.237172Z"
    }
   },
   "outputs": [
    {
     "name": "stdout",
     "output_type": "stream",
     "text": [
      "Original Word:  cry\n",
      "Lemmatized Word:  cry\n",
      "Original Word:  cries\n",
      "Lemmatized Word:  cry\n",
      "Original Word:  crying\n",
      "Lemmatized Word:  cry\n"
     ]
    }
   ],
   "source": [
    "# Import english language model\n",
    "import spacy\n",
    " \n",
    "# Loading english language model \n",
    "nlp = spacy.load(\"en_core_web_sm\")\n",
    " \n",
    "# Create nlp Object to handle linguistic annotations in documents.\n",
    "words = nlp(\"cry cries crying\")\n",
    " \n",
    "# Find lemmatized word\n",
    "for w in words:\n",
    "    print('Original Word: ', w.text)\n",
    "    print('Lemmatized Word: ',w.lemma_)"
   ]
  },
  {
   "cell_type": "markdown",
   "metadata": {},
   "source": [
    "## PoS Tagging"
   ]
  },
  {
   "cell_type": "code",
   "execution_count": 15,
   "metadata": {
    "ExecuteTime": {
     "start_time": "2023-05-01T11:37:36.174020Z",
     "end_time": "2023-05-01T11:37:36.272358Z"
    }
   },
   "outputs": [
    {
     "name": "stdout",
     "output_type": "stream",
     "text": [
      "[('Taj', 'NNP'), ('Mahal', 'NNP'), ('is', 'VBZ'), ('one', 'CD'), ('of', 'IN'), ('the', 'DT'), ('beautiful', 'JJ'), ('monument', 'NN'), ('.', '.')]\n"
     ]
    }
   ],
   "source": [
    "# import Word Tokenizer and Pos Tagger\n",
    "from nltk.tokenize import word_tokenize\n",
    "from nltk import pos_tag\n",
    " \n",
    "# Sample sentence\n",
    "sentence = \"Taj Mahal is one of the beautiful monument.\"\n",
    " \n",
    "# Tokenize the sentence\n",
    "sent_tokens = word_tokenize(sentence)\n",
    " \n",
    "# Create PoS tags\n",
    "sent_pos = pos_tag(sent_tokens)\n",
    " \n",
    "# Print tokens with PoS\n",
    "print(sent_pos)"
   ]
  },
  {
   "cell_type": "code",
   "execution_count": 16,
   "metadata": {
    "ExecuteTime": {
     "start_time": "2023-05-01T11:37:38.092174Z",
     "end_time": "2023-05-01T11:37:38.795566Z"
    }
   },
   "outputs": [
    {
     "name": "stdout",
     "output_type": "stream",
     "text": [
      "Taj PROPN\n",
      "Mahal PROPN\n",
      "is AUX\n",
      "one NUM\n",
      "of ADP\n",
      "the DET\n",
      "beautiful ADJ\n",
      "monument NOUN\n",
      ". PUNCT\n"
     ]
    }
   ],
   "source": [
    "# Import english language model\n",
    "import spacy\n",
    " \n",
    "# Loading small english language model \n",
    "nlp = spacy.load(\"en_core_web_sm\")\n",
    "\n",
    "# Create nlp Object to handle linguistic annotations in a documents.\n",
    "sentence = nlp(u\"Taj Mahal is one of the beautiful monument.\")\n",
    " \n",
    "for token in sentence:\n",
    "    print(token.text, token.pos_)"
   ]
  },
  {
   "cell_type": "markdown",
   "metadata": {},
   "source": [
    "## Entity Recognition"
   ]
  },
  {
   "cell_type": "code",
   "execution_count": 17,
   "metadata": {
    "ExecuteTime": {
     "start_time": "2023-05-01T11:37:42.792402Z",
     "end_time": "2023-05-01T11:37:43.429475Z"
    }
   },
   "outputs": [
    {
     "name": "stdout",
     "output_type": "stream",
     "text": [
      "[('Taj Mahal', 'PERSON'), ('Shah Jahan', 'ORG'), ('1631', 'DATE'), ('third', 'ORDINAL'), ('Mumtaj Mahal', 'PERSON')]\n"
     ]
    }
   ],
   "source": [
    "# Import spacy\n",
    "import spacy\n",
    " \n",
    "# Load English model for tokenizer, tagger, parser, and NER \n",
    "nlp = spacy.load('en_core_web_sm')\n",
    " \n",
    "# Sample paragraph\n",
    "paragraph = \"\"\"Taj Mahal is one of the beautiful monuments. It is one of the wonders of the world. It was built by Shah Jahan in 1631 in memory of his third beloved wife Mumtaj Mahal.\"\"\"\n",
    " \n",
    "# Create nlp Object to handle linguistic annotations in documents.\n",
    "docs=nlp(paragraph)\n",
    " \n",
    "entities=[(i.text, i.label_) for i in docs.ents]\n",
    "print(entities)"
   ]
  },
  {
   "cell_type": "markdown",
   "metadata": {},
   "source": [
    "## Dependency Parsing"
   ]
  },
  {
   "cell_type": "code",
   "execution_count": 18,
   "metadata": {
    "ExecuteTime": {
     "start_time": "2023-05-01T11:37:45.943702Z",
     "end_time": "2023-05-01T11:37:45.957962Z"
    }
   },
   "outputs": [
    {
     "data": {
      "text/plain": "<IPython.core.display.HTML object>",
      "text/html": "<span class=\"tex2jax_ignore\"><div class=\"entities\" style=\"line-height: 2.5; direction: ltr\">\n<mark class=\"entity\" style=\"background: #aa9cfc; padding: 0.45em 0.6em; margin: 0 0.25em; line-height: 1; border-radius: 0.35em;\">\n    Taj Mahal\n    <span style=\"font-size: 0.8em; font-weight: bold; line-height: 1; border-radius: 0.35em; vertical-align: middle; margin-left: 0.5rem\">PERSON</span>\n</mark>\n is one of the beautiful monuments. It is one of the wonders of the world. It was built by \n<mark class=\"entity\" style=\"background: #7aecec; padding: 0.45em 0.6em; margin: 0 0.25em; line-height: 1; border-radius: 0.35em;\">\n    Shah Jahan\n    <span style=\"font-size: 0.8em; font-weight: bold; line-height: 1; border-radius: 0.35em; vertical-align: middle; margin-left: 0.5rem\">ORG</span>\n</mark>\n in \n<mark class=\"entity\" style=\"background: #bfe1d9; padding: 0.45em 0.6em; margin: 0 0.25em; line-height: 1; border-radius: 0.35em;\">\n    1631\n    <span style=\"font-size: 0.8em; font-weight: bold; line-height: 1; border-radius: 0.35em; vertical-align: middle; margin-left: 0.5rem\">DATE</span>\n</mark>\n in memory of his \n<mark class=\"entity\" style=\"background: #e4e7d2; padding: 0.45em 0.6em; margin: 0 0.25em; line-height: 1; border-radius: 0.35em;\">\n    third\n    <span style=\"font-size: 0.8em; font-weight: bold; line-height: 1; border-radius: 0.35em; vertical-align: middle; margin-left: 0.5rem\">ORDINAL</span>\n</mark>\n beloved wife \n<mark class=\"entity\" style=\"background: #aa9cfc; padding: 0.45em 0.6em; margin: 0 0.25em; line-height: 1; border-radius: 0.35em;\">\n    Mumtaj Mahal\n    <span style=\"font-size: 0.8em; font-weight: bold; line-height: 1; border-radius: 0.35em; vertical-align: middle; margin-left: 0.5rem\">PERSON</span>\n</mark>\n.</div></span>"
     },
     "metadata": {},
     "output_type": "display_data"
    }
   ],
   "source": [
    "# Import display for visualizing the Entities \n",
    "from spacy import displacy\n",
    " \n",
    "# Visualize the entities using render function\n",
    "displacy.render(docs, style = \"ent\",jupyter = True)"
   ]
  },
  {
   "cell_type": "code",
   "execution_count": 19,
   "metadata": {
    "ExecuteTime": {
     "start_time": "2023-05-01T11:37:47.384490Z",
     "end_time": "2023-05-01T11:37:48.069323Z"
    }
   },
   "outputs": [
    {
     "data": {
      "text/plain": "<IPython.core.display.HTML object>",
      "text/html": "<span class=\"tex2jax_ignore\"><svg xmlns=\"http://www.w3.org/2000/svg\" xmlns:xlink=\"http://www.w3.org/1999/xlink\" xml:lang=\"en\" id=\"2bf68731741a4778b689c1a37db54242-0\" class=\"displacy\" width=\"1250\" height=\"362.0\" direction=\"ltr\" style=\"max-width: none; height: 362.0px; color: #000000; background: #ffffff; font-family: Arial; direction: ltr\">\n<text class=\"displacy-token\" fill=\"currentColor\" text-anchor=\"middle\" y=\"272.0\">\n    <tspan class=\"displacy-word\" fill=\"currentColor\" x=\"50\">Taj</tspan>\n    <tspan class=\"displacy-tag\" dy=\"2em\" fill=\"currentColor\" x=\"50\">PROPN</tspan>\n</text>\n\n<text class=\"displacy-token\" fill=\"currentColor\" text-anchor=\"middle\" y=\"272.0\">\n    <tspan class=\"displacy-word\" fill=\"currentColor\" x=\"200\">Mahal</tspan>\n    <tspan class=\"displacy-tag\" dy=\"2em\" fill=\"currentColor\" x=\"200\">PROPN</tspan>\n</text>\n\n<text class=\"displacy-token\" fill=\"currentColor\" text-anchor=\"middle\" y=\"272.0\">\n    <tspan class=\"displacy-word\" fill=\"currentColor\" x=\"350\">is</tspan>\n    <tspan class=\"displacy-tag\" dy=\"2em\" fill=\"currentColor\" x=\"350\">AUX</tspan>\n</text>\n\n<text class=\"displacy-token\" fill=\"currentColor\" text-anchor=\"middle\" y=\"272.0\">\n    <tspan class=\"displacy-word\" fill=\"currentColor\" x=\"500\">one</tspan>\n    <tspan class=\"displacy-tag\" dy=\"2em\" fill=\"currentColor\" x=\"500\">NUM</tspan>\n</text>\n\n<text class=\"displacy-token\" fill=\"currentColor\" text-anchor=\"middle\" y=\"272.0\">\n    <tspan class=\"displacy-word\" fill=\"currentColor\" x=\"650\">of</tspan>\n    <tspan class=\"displacy-tag\" dy=\"2em\" fill=\"currentColor\" x=\"650\">ADP</tspan>\n</text>\n\n<text class=\"displacy-token\" fill=\"currentColor\" text-anchor=\"middle\" y=\"272.0\">\n    <tspan class=\"displacy-word\" fill=\"currentColor\" x=\"800\">the</tspan>\n    <tspan class=\"displacy-tag\" dy=\"2em\" fill=\"currentColor\" x=\"800\">DET</tspan>\n</text>\n\n<text class=\"displacy-token\" fill=\"currentColor\" text-anchor=\"middle\" y=\"272.0\">\n    <tspan class=\"displacy-word\" fill=\"currentColor\" x=\"950\">beautiful</tspan>\n    <tspan class=\"displacy-tag\" dy=\"2em\" fill=\"currentColor\" x=\"950\">ADJ</tspan>\n</text>\n\n<text class=\"displacy-token\" fill=\"currentColor\" text-anchor=\"middle\" y=\"272.0\">\n    <tspan class=\"displacy-word\" fill=\"currentColor\" x=\"1100\">monument.</tspan>\n    <tspan class=\"displacy-tag\" dy=\"2em\" fill=\"currentColor\" x=\"1100\">NOUN</tspan>\n</text>\n\n<g class=\"displacy-arrow\">\n    <path class=\"displacy-arc\" id=\"arrow-2bf68731741a4778b689c1a37db54242-0-0\" stroke-width=\"2px\" d=\"M70,227.0 C70,152.0 190.0,152.0 190.0,227.0\" fill=\"none\" stroke=\"currentColor\"/>\n    <text dy=\"1.25em\" style=\"font-size: 0.8em; letter-spacing: 1px\">\n        <textPath xlink:href=\"#arrow-2bf68731741a4778b689c1a37db54242-0-0\" class=\"displacy-label\" startOffset=\"50%\" side=\"left\" fill=\"currentColor\" text-anchor=\"middle\">compound</textPath>\n    </text>\n    <path class=\"displacy-arrowhead\" d=\"M70,229.0 L62,217.0 78,217.0\" fill=\"currentColor\"/>\n</g>\n\n<g class=\"displacy-arrow\">\n    <path class=\"displacy-arc\" id=\"arrow-2bf68731741a4778b689c1a37db54242-0-1\" stroke-width=\"2px\" d=\"M220,227.0 C220,152.0 340.0,152.0 340.0,227.0\" fill=\"none\" stroke=\"currentColor\"/>\n    <text dy=\"1.25em\" style=\"font-size: 0.8em; letter-spacing: 1px\">\n        <textPath xlink:href=\"#arrow-2bf68731741a4778b689c1a37db54242-0-1\" class=\"displacy-label\" startOffset=\"50%\" side=\"left\" fill=\"currentColor\" text-anchor=\"middle\">nsubj</textPath>\n    </text>\n    <path class=\"displacy-arrowhead\" d=\"M220,229.0 L212,217.0 228,217.0\" fill=\"currentColor\"/>\n</g>\n\n<g class=\"displacy-arrow\">\n    <path class=\"displacy-arc\" id=\"arrow-2bf68731741a4778b689c1a37db54242-0-2\" stroke-width=\"2px\" d=\"M370,227.0 C370,152.0 490.0,152.0 490.0,227.0\" fill=\"none\" stroke=\"currentColor\"/>\n    <text dy=\"1.25em\" style=\"font-size: 0.8em; letter-spacing: 1px\">\n        <textPath xlink:href=\"#arrow-2bf68731741a4778b689c1a37db54242-0-2\" class=\"displacy-label\" startOffset=\"50%\" side=\"left\" fill=\"currentColor\" text-anchor=\"middle\">attr</textPath>\n    </text>\n    <path class=\"displacy-arrowhead\" d=\"M490.0,229.0 L498.0,217.0 482.0,217.0\" fill=\"currentColor\"/>\n</g>\n\n<g class=\"displacy-arrow\">\n    <path class=\"displacy-arc\" id=\"arrow-2bf68731741a4778b689c1a37db54242-0-3\" stroke-width=\"2px\" d=\"M520,227.0 C520,152.0 640.0,152.0 640.0,227.0\" fill=\"none\" stroke=\"currentColor\"/>\n    <text dy=\"1.25em\" style=\"font-size: 0.8em; letter-spacing: 1px\">\n        <textPath xlink:href=\"#arrow-2bf68731741a4778b689c1a37db54242-0-3\" class=\"displacy-label\" startOffset=\"50%\" side=\"left\" fill=\"currentColor\" text-anchor=\"middle\">prep</textPath>\n    </text>\n    <path class=\"displacy-arrowhead\" d=\"M640.0,229.0 L648.0,217.0 632.0,217.0\" fill=\"currentColor\"/>\n</g>\n\n<g class=\"displacy-arrow\">\n    <path class=\"displacy-arc\" id=\"arrow-2bf68731741a4778b689c1a37db54242-0-4\" stroke-width=\"2px\" d=\"M820,227.0 C820,77.0 1095.0,77.0 1095.0,227.0\" fill=\"none\" stroke=\"currentColor\"/>\n    <text dy=\"1.25em\" style=\"font-size: 0.8em; letter-spacing: 1px\">\n        <textPath xlink:href=\"#arrow-2bf68731741a4778b689c1a37db54242-0-4\" class=\"displacy-label\" startOffset=\"50%\" side=\"left\" fill=\"currentColor\" text-anchor=\"middle\">det</textPath>\n    </text>\n    <path class=\"displacy-arrowhead\" d=\"M820,229.0 L812,217.0 828,217.0\" fill=\"currentColor\"/>\n</g>\n\n<g class=\"displacy-arrow\">\n    <path class=\"displacy-arc\" id=\"arrow-2bf68731741a4778b689c1a37db54242-0-5\" stroke-width=\"2px\" d=\"M970,227.0 C970,152.0 1090.0,152.0 1090.0,227.0\" fill=\"none\" stroke=\"currentColor\"/>\n    <text dy=\"1.25em\" style=\"font-size: 0.8em; letter-spacing: 1px\">\n        <textPath xlink:href=\"#arrow-2bf68731741a4778b689c1a37db54242-0-5\" class=\"displacy-label\" startOffset=\"50%\" side=\"left\" fill=\"currentColor\" text-anchor=\"middle\">amod</textPath>\n    </text>\n    <path class=\"displacy-arrowhead\" d=\"M970,229.0 L962,217.0 978,217.0\" fill=\"currentColor\"/>\n</g>\n\n<g class=\"displacy-arrow\">\n    <path class=\"displacy-arc\" id=\"arrow-2bf68731741a4778b689c1a37db54242-0-6\" stroke-width=\"2px\" d=\"M670,227.0 C670,2.0 1100.0,2.0 1100.0,227.0\" fill=\"none\" stroke=\"currentColor\"/>\n    <text dy=\"1.25em\" style=\"font-size: 0.8em; letter-spacing: 1px\">\n        <textPath xlink:href=\"#arrow-2bf68731741a4778b689c1a37db54242-0-6\" class=\"displacy-label\" startOffset=\"50%\" side=\"left\" fill=\"currentColor\" text-anchor=\"middle\">pobj</textPath>\n    </text>\n    <path class=\"displacy-arrowhead\" d=\"M1100.0,229.0 L1108.0,217.0 1092.0,217.0\" fill=\"currentColor\"/>\n</g>\n</svg></span>"
     },
     "metadata": {},
     "output_type": "display_data"
    }
   ],
   "source": [
    "# Import spacy\n",
    "import spacy\n",
    " \n",
    "# Load English model for tokenizer, tagger, parser, and NER \n",
    "nlp = spacy.load('en_core_web_sm')\n",
    " \n",
    "# Sample sentence\n",
    "sentence=\"Taj Mahal is one of the beautiful monument.\"\n",
    "\n",
    "# Create nlp Object to handle linguistic annotations in a documents.\n",
    "docs=nlp(sentence)\n",
    " \n",
    "# Visualize the  using render function\n",
    "displacy.render(docs, style=\"dep\", jupyter= True, options={'distance': 150})"
   ]
  },
  {
   "cell_type": "markdown",
   "metadata": {},
   "source": [
    "## WordCloud"
   ]
  },
  {
   "cell_type": "code",
   "execution_count": 20,
   "metadata": {
    "ExecuteTime": {
     "start_time": "2023-05-01T11:38:07.024475Z",
     "end_time": "2023-05-01T11:38:07.493502Z"
    }
   },
   "outputs": [
    {
     "data": {
      "text/plain": "<Figure size 576x432 with 1 Axes>",
      "image/png": "[encoded data removed]"
     },
     "metadata": {
      "needs_background": "light"
     },
     "output_type": "display_data"
    }
   ],
   "source": [
    "# importing all necessary modules \n",
    "from wordcloud import WordCloud\n",
    "from wordcloud import STOPWORDS\n",
    "import matplotlib.pyplot as plt\n",
    " \n",
    "stopword_list = set(STOPWORDS) \n",
    " \n",
    "paragraph=\"\"\"Taj Mahal is one of the beautiful monuments. It is one of the wonders of the world. It was built by Shah Jahan in 1631 in memory of his third beloved wife Mumtaj Mahal.\"\"\"\n",
    " \n",
    "word_cloud = WordCloud(width = 550, height = 550, \n",
    "                       background_color ='white', \n",
    "                       stopwords = stopword_list, \n",
    "                       min_font_size = 10)\\\n",
    "                    .generate(paragraph)\n",
    "  \n",
    "# Visualize the WordCloud Plot\n",
    "\n",
    "# Set wordcloud figure size\n",
    "plt.figure(figsize = (8, 6)) \n",
    "# Show image\n",
    "plt.imshow(word_cloud) \n",
    "# Remove Axis\n",
    "plt.axis(\"off\")  \n",
    "# show plot\n",
    "plt.show() "
   ]
  },
  {
   "cell_type": "markdown",
   "metadata": {},
   "source": [
    "## Sentiment Analysis using Text Classification"
   ]
  },
  {
   "cell_type": "markdown",
   "metadata": {},
   "source": [
    "### Classification using Bag of Words"
   ]
  },
  {
   "cell_type": "markdown",
   "metadata": {},
   "source": [
    "#### Load the Dataset"
   ]
  },
  {
   "cell_type": "code",
   "execution_count": 22,
   "metadata": {
    "ExecuteTime": {
     "start_time": "2023-05-01T11:38:36.722375Z",
     "end_time": "2023-05-01T11:38:36.739665Z"
    }
   },
   "outputs": [
    {
     "data": {
      "text/plain": "   rating       date         variation  \\\n0       5  31-Jul-18  Charcoal Fabric    \n1       5  31-Jul-18  Charcoal Fabric    \n2       4  31-Jul-18    Walnut Finish    \n3       5  31-Jul-18  Charcoal Fabric    \n4       5  31-Jul-18  Charcoal Fabric    \n\n                                    verified_reviews  feedback  \n0                                      Love my Echo!         1  \n1                                          Loved it!         1  \n2  Sometimes while playing a game, you can answer...         1  \n3  I have had a lot of fun with this thing. My 4 ...         1  \n4                                              Music         1  ",
      "text/html": "<div>\n<style scoped>\n    .dataframe tbody tr th:only-of-type {\n        vertical-align: middle;\n    }\n\n    .dataframe tbody tr th {\n        vertical-align: top;\n    }\n\n    .dataframe thead th {\n        text-align: right;\n    }\n</style>\n<table border=\"1\" class=\"dataframe\">\n  <thead>\n    <tr style=\"text-align: right;\">\n      <th></th>\n      <th>rating</th>\n      <th>date</th>\n      <th>variation</th>\n      <th>verified_reviews</th>\n      <th>feedback</th>\n    </tr>\n  </thead>\n  <tbody>\n    <tr>\n      <th>0</th>\n      <td>5</td>\n      <td>31-Jul-18</td>\n      <td>Charcoal Fabric</td>\n      <td>Love my Echo!</td>\n      <td>1</td>\n    </tr>\n    <tr>\n      <th>1</th>\n      <td>5</td>\n      <td>31-Jul-18</td>\n      <td>Charcoal Fabric</td>\n      <td>Loved it!</td>\n      <td>1</td>\n    </tr>\n    <tr>\n      <th>2</th>\n      <td>4</td>\n      <td>31-Jul-18</td>\n      <td>Walnut Finish</td>\n      <td>Sometimes while playing a game, you can answer...</td>\n      <td>1</td>\n    </tr>\n    <tr>\n      <th>3</th>\n      <td>5</td>\n      <td>31-Jul-18</td>\n      <td>Charcoal Fabric</td>\n      <td>I have had a lot of fun with this thing. My 4 ...</td>\n      <td>1</td>\n    </tr>\n    <tr>\n      <th>4</th>\n      <td>5</td>\n      <td>31-Jul-18</td>\n      <td>Charcoal Fabric</td>\n      <td>Music</td>\n      <td>1</td>\n    </tr>\n  </tbody>\n</table>\n</div>"
     },
     "execution_count": 22,
     "metadata": {},
     "output_type": "execute_result"
    }
   ],
   "source": [
    "# read the dataset\n",
    "df = pd.read_csv('amazon_alexa.tsv', sep='\\t')\n",
    "    \n",
    "# Show top 5-records\n",
    "df.head()"
   ]
  },
  {
   "cell_type": "markdown",
   "metadata": {},
   "source": [
    "#### Explore the dataset"
   ]
  },
  {
   "cell_type": "code",
   "execution_count": 23,
   "metadata": {
    "ExecuteTime": {
     "start_time": "2023-05-01T11:38:57.070059Z",
     "end_time": "2023-05-01T11:38:57.185924Z"
    }
   },
   "outputs": [
    {
     "data": {
      "text/plain": "<Figure size 432x288 with 1 Axes>",
      "image/png": "[encoded data removed]"
     },
     "metadata": {
      "needs_background": "light"
     },
     "output_type": "display_data"
    }
   ],
   "source": [
    "# Count plot\n",
    "sns.countplot(x='feedback', data=df)\n",
    " \n",
    "# Set X-axis and Y-axis labels\n",
    "plt.xlabel('Sentiment Score')\n",
    "plt.ylabel('Number of Records')\n",
    " \n",
    "# Show the plot using show() function\n",
    "plt.show()\n"
   ]
  },
  {
   "cell_type": "markdown",
   "metadata": {},
   "source": [
    "#### Feature Generation using CountVectorizer "
   ]
  },
  {
   "cell_type": "code",
   "execution_count": 43,
   "metadata": {
    "ExecuteTime": {
     "start_time": "2023-05-01T13:15:19.927127Z",
     "end_time": "2023-05-01T13:15:19.940843Z"
    }
   },
   "outputs": [
    {
     "name": "stderr",
     "output_type": "stream",
     "text": [
      "/Users/dmmil/.pyenv/versions/env3.10.8/lib/python3.10/site-packages/sklearn/feature_extraction/text.py:528: UserWarning: The parameter 'token_pattern' will not be used since 'tokenizer' is not None'\n",
      "  warnings.warn(\n"
     ]
    }
   ],
   "source": [
    "# Import CountVectorizer and RegexTokenizer\n",
    "from nltk.tokenize import RegexpTokenizer\n",
    "from sklearn.feature_extraction.text import CountVectorizer\n",
    "\n",
    " \n",
    "# Create Regex tokenizer for removing special symbols and numeric values \n",
    "regex_tokenizer = RegexpTokenizer(r'[a-zA-Z]+')\n",
    " \n",
    "# Initialize CountVectorizer object\n",
    "count_vectorizer = CountVectorizer(\n",
    "                    lowercase=True,\n",
    "                    stop_words='english',\n",
    "                    ngram_range = (1,1),\n",
    "                    tokenizer = regex_tokenizer.tokenize)\n",
    " \n",
    "# Fit and transform the dataset\n",
    "count_vectors = count_vectorizer.fit_transform(df['verified_reviews'])"
   ]
  },
  {
   "cell_type": "code",
   "execution_count": 32,
   "outputs": [
    {
     "name": "stdout",
     "output_type": "stream",
     "text": [
      "Vocabulary:  {'love': 1962, 'echo': 1026, 'loved': 1963, 'playing': 2408, 'game': 1345, 'answer': 162, 'question': 2562, 'correctly': 723, 'alexa': 116, 'says': 2827, 'got': 1405, 'wrong': 3703, 'answers': 165, 'like': 1888, 'able': 5, 'turn': 3446, 'lights': 1887, 'away': 263, 'home': 1547, 'lot': 1956, 'fun': 1327, 'thing': 3333, 'yr': 3729, 'old': 2226, 'learns': 1860, 'dinosaurs': 910, 'control': 697, 'play': 2405, 'games': 1346, 'categories': 491, 'nice': 2165, 'sound': 3059, 'music': 2118, 'received': 2622, 'gift': 1376, 'needed': 2145, 'bluetooth': 362, 'easily': 1022, 'accessible': 15, 'smart': 3004, 'speaker': 3080, 't': 3259, 'wait': 3594, 'having': 1490, 'cellphone': 502, 'use': 3525, 'features': 1232, 'ipad': 1735, 'great': 1427, 'alarm': 109, 'u': 3464, 'r': 2575, 'deaf': 811, 'hear': 1502, 'bedroom': 311, 'living': 1916, 'room': 2783, 'reason': 2611, 'ask': 214, 'random': 2582, 'questions': 2564, 'response': 2748, 'does': 967, 'smartbon': 3005, 'politics': 2430, 'think': 3335, 'th': 3321, 've': 3548, 'purchased': 2544, 'm': 1981, 'working': 3687, 'getting': 1372, 'house': 1570, 'really': 2610, 'offer': 2216, 'specifily': 3088, 'echos': 1029, 'controlling': 702, 'looks': 1946, 'listened': 1905, 'songs': 3044, 'haven': 1488, 'heard': 1503, 'childhood': 540, 'news': 2160, 'weather': 3631, 'information': 1656, 's': 2805, 'sent': 2888, 'year': 3715, 'dad': 793, 'talks': 3272, 'constantly': 681, 'learning': 1859, 'knew': 1804, 'things': 3334, 'eveyday': 1129, 'figuring': 1251, 'works': 3690, 'far': 1216, 'easy': 1024, 'understand': 3475, 'make': 1997, 'laugh': 1845, 'times': 3362, 'mother': 2105, 'knee': 1803, 'problems': 2495, 'trying': 3438, 'come': 601, 'fast': 1220, 'did': 886, 'enjoys': 1087, 'little': 1912, 'big': 337, 'song': 3043, 'time': 3359, 'cook': 710, 'just': 1781, 'expected': 1161, 'wife': 3658, 'hates': 1486, 'happy': 1474, 'purchase': 2543, 'set': 2900, 'using': 3532, 'couple': 737, 'days': 808, 'new': 2157, 'toy': 3401, 'household': 1571, 'member': 2039, 'learn': 1856, 'different': 894, 'featues': 1229, 'benefits': 326, 'size': 2980, 'nd': 2138, 'generation': 1366, 'needs': 2147, 'improvement': 1620, 'liked': 1889, 'original': 2265, 'shorter': 2933, 'greater': 1428, 'fabric': 1189, 'color': 594, 'choices': 544, 'miss': 2081, 'volume': 3590, 'ring': 2775, 'plus': 2421, 'minus': 2075, 'buttons': 438, 'deal': 812, 'w': 3593, 'comforting': 606, 'standard': 3133, 'usb': 3523, 'charger': 525, 'port': 2436, 'instead': 1680, 'previous': 2477, 'round': 2791, 'pin': 2389, 'guess': 1446, 'sounds': 3064, 'work': 3683, 'computer': 646, 'good': 1399, 'understands': 3477, 'commands': 610, 'difficult': 896, 'specific': 3086, 'playlists': 2410, 'spotify': 3113, 'amazon': 146, 'lacking': 1823, 'major': 1996, 'programs': 2508, 'radio': 2576, 'itunes': 1755, 'podcasts': 2426, 'anypod': 173, 'reminders': 2697, 'listen': 1904, 'flash': 1275, 'briefing': 400, 'morning': 2104, 'rely': 2688, 'custom': 777, 'lists': 1908, 'voice': 3584, 'sure': 3237, 'll': 1918, 'continue': 693, 'uses': 3531, 'bit': 345, 'frustrating': 1322, 'doesn': 968, 'saying': 2826, 'adding': 56, 'devices': 879, 'stationed': 3150, 'kitchen': 1802, 'counter': 731, 'intrusive': 1720, 'look': 1943, 'plays': 2411, 'sleep': 2988, 'immediately': 1609, 'second': 2863, 'unit': 3487, 'expecting': 1162, 'improved': 1619, 'didnt': 888, 'difference': 892, 'overall': 2279, 'st': 3126, 'amazing': 144, 'product': 2499, 'operate': 2243, 'loads': 1925, 'advertised': 81, 'mainly': 1990, 'favorite': 1227, 'tunes': 3445, 'test': 3313, 'knowledge': 1811, 'item': 1753, 'used': 3526, 'hard': 1475, 'answering': 164, 'better': 330, 'capabilities': 468, 'pretty': 2473, 'command': 608, 'unique': 3486, 'owners': 2291, 'users': 3530, 'tasha': 3280, 'birthday': 344, 'definition': 836, 'fine': 1259, 'speakers': 3081, 'small': 3002, 'setup': 2907, 'bought': 387, 'rate': 2590, 'followed': 1292, 'instructions': 1682, 'synching': 3256, 'units': 3488, 'know': 1808, 'won': 3672, 'sync': 3254, 'primary': 2485, 'motivation': 2106, 'purchasing': 2547, 'multiple': 2117, 'device': 877, 'awesome': 264, 'compare': 628, 'quality': 2557, 'ship': 2922, 'daughter': 806, 'fact': 1195, 'chargeable': 524, 'base': 291, 'keeps': 1788, 'mobile': 2088, 'wasn': 3615, 'follow': 1291, 'included': 1629, 'package': 2294, 'tube': 3440, 'way': 3625, 'cool': 712, 'want': 3607, 'digital': 899, 'assistant': 225, 'giving': 1382, 'review': 2765, 'cheap': 533, 'price': 2479, 'prime': 2486, 'day': 807, 'clock': 572, 'going': 1395, 'place': 2393, 'ended': 1072, 'definitely': 835, 'try': 3437, 'best': 327, 'number': 2200, 'connect': 667, 'came': 457, 'plug': 2417, 'lamp': 1831, 'husband': 1586, 'likes': 1891, 'wish': 3667, 'android': 158, 'allow': 125, 'fortunately': 1308, 'sister': 2974, 'apple': 183, 'cell': 501, 'hour': 1568, 'tech': 3287, 'support': 3231, 'fixed': 1270, 'glitches': 1388, 'running': 2802, 'tried': 3425, 'certain': 505, 'broadway': 408, 'shows': 2942, 'camelot': 458, 'gives': 1381, 'ne': 2139, 'group': 1438, 'satisfied': 2817, 'controls': 703, 'family': 1211, 'jimmy': 1767, 'buffet': 418, 'asking': 217, 'siri': 2971, 'accurately': 30, 'don': 976, 'real': 2605, 'need': 2144, 'bargain': 286, 'deals': 813, 'tons': 3384, 'list': 1903, 'account': 26, 'pay': 2333, 'stars': 3139, 'excelente': 1140, 'lo': 1922, 'unico': 3483, 'es': 1106, 'que': 2559, 'esta': 1115, 'en': 1066, 'espa': 1109, 'ol': 2225, 'actually': 46, 'd': 792, 'expect': 1158, 'considering': 676, 'sale': 2810, 'phenomenal': 2365, 'mention': 2043, 'helpful': 1517, 'google': 1403, 'lets': 1873, 'friends': 1320, 'company': 626, 'say': 2825, 'tells': 3303, 'joke': 1771, 'available': 259, 'overview': 2285, 'built': 424, 'hub': 1575, 'primarily': 2484, 'wonderfully': 3675, 'tips': 3371, 'thanks': 3323, 'help': 1514, 'clear': 566, 'concise': 653, 'fantastic': 1215, 'alexia': 119, 'usde': 3524, 'extent': 1180, 'na': 2123, 'nana': 2126, 'said': 2809, 'speak': 3079, 'function': 1331, 'collections': 590, 'setting': 2902, 'fios': 1263, 'television': 3300, 'hoping': 1559, 'discovered': 938, 'stations': 3151, 'long': 1940, 'ranger': 2585, 'apps': 194, 'add': 51, 'abilities': 3, 'played': 2406, 'madlibs': 1986, 'appliances': 185, 'compatible': 630, 'power': 2451, 'strips': 3183, 'lighting': 1885, 'fans': 1214, 'tv': 3450, 'components': 644, 'looking': 1945, 'forward': 1310, 'implementing': 1613, 'controll': 698, 'chosen': 550, 'rooms': 2785, 'located': 1928, 'excellent': 1141, 'perfectly': 2345, 'nervous': 2152, 'savvy': 2822, 'intimidating': 1716, 'didn': 887, 'figure': 1249, 'thinking': 3336, 'spot': 3112, 'technology': 3294, 'believe': 321, 'wonderful': 3674, 'dot': 982, 'fathers': 1224, 'hearing': 1504, 'brainer': 390, 'charge': 523, 'cent': 503, 'unlimited': 3492, 'buy': 439, 'fuller': 1324, 'phone': 2372, 'calls': 452, 'contact': 685, 'patient': 2328, 'discount': 934, 'offered': 2217, 'pass': 2323, 'comes': 603, 'playlist': 2409, 'iphone': 1738, 'pandora': 2307, 'youtube': 3728, 'videos': 3567, 'types': 3460, 'countries': 734, 'downside': 990, 'limited': 1896, 'data': 802, 'wifi': 3659, 'plan': 2399, 'burns': 433, 'strictly': 3181, 'material': 2023, 'hooked': 1555, 'light': 1882, 'additional': 58, 'thermostat': 3330, 'traffic': 3405, 'trivia': 3429, 'entire': 1095, 'loves': 1966, 'functions': 1334, 'wow': 3700, 'homework': 1550, 'talking': 3271, 'grandchildren': 1412, 'huge': 1581, 'bonus': 370, 'worked': 3685, 'exactly': 1134, 'perfect': 2344, 'classroom': 562, 'gadget': 1341, 'lives': 1915, 'easier': 1021, 'personal': 2357, 'secretary': 2866, 'hardly': 1478, 'cd': 496, 'anymore': 172, 'dots': 983, 'soon': 3048, 'surprising': 3242, 'impressed': 1616, 'bass': 297, 'coming': 607, 'bigger': 338, 'props': 2520, 'worse': 3694, 'feels': 1240, 'gen': 1362, 'addition': 57, 'outlet': 2270, 'disappointed': 922, 'responsive': 2750, 'terrible': 3311, 'bose': 379, 'troubling': 3433, 'paid': 2301, 'extra': 1182, 'money': 2098, 'access': 13, 'million': 2064, 'ex': 1132, 'italian': 1751, 'opera': 2242, 'tosca': 3391, 'sorry': 3057, 'bad': 274, 'plugged': 2418, 'outside': 2274, 'battery': 302, 'recharged': 2630, 'ways': 3626, 'hit': 1537, 'grandkids': 1415, 'dance': 796, 'yrs': 3730, 'cute': 784, 'generally': 1365, 'doing': 972, 'timers': 3361, 'making': 1999, 'connection': 670, 'dies': 890, 'stops': 3168, 'red': 2652, 'issue': 1747, 'upgraded': 3512, 'couldn': 730, 'happier': 1473, 'lilttle': 1894, 'ease': 1020, 'provides': 2531, 'enhanced': 1081, 'clarity': 558, 'age': 95, 'delivery': 847, 'initially': 1661, 'harder': 1477, 'called': 450, 'knowledgeable': 1812, 'live': 1913, 'enjoy': 1082, 'style': 3195, 'greade': 1426, 'wireless': 3666, 'blasting': 350, 'busy': 435, 'picks': 2383, 'asked': 215, 'check': 536, 'remembering': 2693, 'week': 3636, 'quicker': 2566, 'grab': 1408, 'twist': 3455, 'press': 2470, 'thoroughly': 3339, 'enjoying': 1085, 'ecoo': 1032, 'read': 2600, 'audiobook': 245, 'office': 2219, 'simply': 2961, 'open': 2238, 'kindle': 1799, 'listening': 1906, 'mood': 2103, 'book': 371, 'talk': 3269, 'turning': 3448, 'job': 1768, 'streaming': 3179, 'sirius': 2972, 'process': 2497, 'started': 3141, 'keeping': 1787, 'shopping': 2929, 'grocery': 1435, 'search': 2859, 'paper': 2309, 'pencil': 2339, 'temperature': 3305, 'reports': 2724, 'fussy': 1338, 'woofers': 3679, 'tweeters': 3453, 'afternoon': 94, 'dropping': 1005, 'son': 3042, 'gets': 1371, 'surprise': 3240, 'multi': 2116, 'qvc': 2574, 'annoying': 161, 'downloaded': 987, 'spend': 3099, 'phrase': 2378, 'machine': 1983, 'beginning': 318, 'accidentally': 20, 'spilled': 3103, 'water': 3622, 'replaced': 2716, 'decided': 818, 'minutes': 2077, 'tell': 3301, 'trouble': 3430, 'finding': 1257, 'title': 3373, 'moved': 2110, 'basement': 294, 'requests': 2729, 'somewhat': 3041, 'half': 1460, 'recognize': 2635, 'sprinkler': 3117, 'controller': 701, 'details': 871, 'program': 2504, 'change': 515, 'settings': 2903, 'matched': 2022, 'router': 2793, 'handy': 1467, 'player': 2407, 'kids': 1795, 'pleasantly': 2412, 'surprised': 3241, 'particular': 2317, 'artist': 210, 'books': 372, 'simple': 2956, 'exploring': 1174, 'options': 2254, 'met': 2051, 'exceeded': 1138, 'expectations': 1160, 'quick': 2565, 'responses': 2749, 'kind': 1797, 'request': 2727, 'informative': 1657, 'photo': 2375, 'pamphlet': 2306, 'thorough': 3338, 'line': 1897, 'video': 3566, 'app': 177, 'define': 834, 'example': 1135, 'integrated': 1684, 'words': 3682, 'exact': 1133, 'match': 2021, 'names': 2125, 'remember': 2692, 'ready': 2604, 'nature': 2130, 'respond': 2745, 'queries': 2561, 'added': 52, 'audible': 241, 'makes': 1998, 'thank': 3322, 'resist': 2740, 'connecting': 669, 'plugs': 2420, 'let': 1872, 'skills': 2984, 'routines': 2796, 'audiophile': 247, 'watching': 3621, 'movies': 2112, 'high': 1528, 'design': 863, 'modern': 2093, 'touch': 3396, 'covers': 743, 'enables': 1069, 'possibilities': 2444, 'versatile': 3554, 'killer': 1796, 'regret': 2675, 'waiting': 3596, 'pleased': 2413, 'stopped': 3167, 'weeks': 3641, 'performs': 2351, 'provide': 2528, 'terminology': 3310, 'various': 3546, 'kinds': 1800, 'subscribing': 3202, 'service': 2898, 'knowing': 1809, 'provided': 2529, 'free': 1312, 'chart': 530, 'showing': 2939, 'language': 1834, 'investment': 1729, 'helped': 1515, 'exho': 1152, 'gender': 1363, 'band': 279, 'jazz': 1762, 'local': 1926, 'stop': 3166, 'value': 3543, 'super': 3226, 'loving': 1967, 'whats': 3648, 'father': 1223, 'joked': 1772, 'mom': 2094, 'repeated': 2711, 'stories': 3171, 'breakfast': 396, 'instantly': 1679, 'slowly': 3000, 'sad': 2806, 'worthless': 3697, 'entertainment': 1094, 'beat': 305, 'portability': 2437, 'till': 3358, 'stoled': 3165, 'afford': 91, 'replace': 2715, 'rocks': 2780, 'allows': 128, 'amozon': 153, 'worth': 3696, 'briefs': 402, 'jokes': 1773, 'told': 3379, 'hours': 1569, 'later': 1843, 'life': 1879, 'large': 1837, 'returning': 2764, 'order': 2257, 'tou': 3395, 'user': 3529, 'friendly': 1319, 'wall': 3605, 'socket': 3026, 'fault': 1225, 'checking': 538, 'assumption': 229, 'technologically': 3293, 'advanced': 77, 'sell': 2877, 'rechargeable': 2629, 'return': 2761, 'boom': 373, 'flexibility': 1283, 'aux': 254, 'external': 1181, 'wouldn': 3699, 'isn': 1744, 'override': 2283, 'default': 828, 'prevents': 2475, 'blue': 360, 'tooth': 3389, 'delay': 842, 'bt': 412, 'interaction': 1696, 'schedule': 2831, 'connected': 668, 'supberb': 3225, 'lots': 1957, 'updates': 3509, 'sports': 3111, 'intuitive': 1721, 'link': 1899, 'hang': 1468, 'complaints': 637, 'suggestions': 3220, 'future': 1339, 'series': 2893, 'communication': 619, 'ability': 4, 'unless': 3490, 'specify': 3089, 'prior': 2489, 'repeat': 2710, 'odd': 2214, 'maybe': 2026, 'southern': 3068, 'manners': 2009, 'described': 861, 'automatic': 251, 'enrolment': 1088, 'owned': 2289, 'overa': 2278, 'lacks': 1824, 'increase': 1637, 'decrease': 824, 'telling': 3302, 'english': 1080, 'born': 378, 'korea': 1817, 'superb': 3227, 'info': 1654, 'hot': 1566, 'recognizes': 2636, 'discovering': 940, 'paroduct': 2315, 'range': 2584, 'complicated': 641, 'quite': 2570, 'speaking': 3082, 'clearly': 568, 'feature': 1230, 'interfacing': 1704, 'abode': 6, 'security': 2868, 'absolutely': 7, 'dislike': 943, 'installation': 1673, 'kasa': 1784, 'sinqued': 2970, 'right': 2774, 'bulb': 425, 'seamless': 2856, 'automation': 253, 'anticipated': 169, 'fairly': 1204, 'manufacturers': 2013, 'lg': 1876, 'supporting': 3233, 'older': 2227, 'tvs': 3451, 'locks': 1933, 'piece': 2388, 'equipment': 1102, 'fabulous': 1190, 'invested': 1727, 'extremely': 1184, 'warehouse': 3610, 'minor': 2071, 'imperfection': 1612, 'packaging': 2297, 'sealed': 2855, 'damage': 795, 'missing': 2083, 'knock': 1806, 'curve': 776, 'integrates': 1685, 'seamlessly': 2857, 'services': 2899, 'sleeping': 2990, 'changer': 517, 'seriously': 2894, 'start': 3140, 'wake': 3598, 'gotten': 1406, 'hesitate': 1522, 'unbelievable': 3472, 'buying': 442, 'cordless': 718, 'holder': 1542, 'lapsed': 1835, 'differentiate': 895, 'accounts': 27, 'randomly': 2583, 'speaks': 3083, 'today': 3376, 'unplugged': 3498, 'electronics': 1056, 'comment': 611, 'pod': 2424, 'car': 473, 'penny': 2340, 'employees': 1065, 'flat': 1277, 'bedrooms': 312, 'drop': 1003, 'intercom': 1699, 'alarms': 110, 'school': 2835, 'timer': 3360, 'condition': 654, 'responds': 2747, 'quickly': 2567, 'issues': 1748, 'scheduling': 2834, 'thoughts': 3342, 'recorded': 2647, 'amazed': 142, 'actions': 37, 'perform': 2347, 'smaller': 3003, 'funny': 1335, 'winds': 3664, 'totally': 3394, 'useful': 3527, 'slightly': 2997, 'hears': 1505, 'unfortunately': 3480, 'frequently': 1315, 'usually': 3534, 'consider': 675, 'upgrade': 3511, 'experience': 1164, 'personality': 2358, 'mini': 2068, 'yes': 3721, 'excited': 1149, 'begin': 316, 'grandsons': 1421, 'watch': 3619, 'goo': 1398, 'enjoyed': 1084, 'result': 2757, 'straightforward': 3176, 'messed': 2050, 'thought': 3341, 'step': 3158, 'complete': 638, 'lose': 1951, 'ground': 1437, 'figured': 1250, 'advice': 84, 'biggest': 339, 'moment': 2095, 'intercoms': 1700, 'aware': 262, 'existence': 1153, 'likely': 1890, 'designers': 865, 'anticipate': 168, 'people': 2341, 'challenge': 511, 'tap': 3275, 'improvements': 1621, 'bugs': 421, 'adjust': 67, 'treble': 3418, 'probably': 2493, 'fan': 1212, 'deep': 826, 'sufficient': 3215, 'potential': 2449, 'option': 2252, 'explore': 1172, 'evolve': 1130, 'recognition': 2634, 'impressive': 1617, 'stylish': 3196, 'regrets': 2676, 'technically': 3290, 'changes': 518, 'movie': 2111, 'elderly': 1050, 'premium': 2465, 'blown': 358, 'dj': 962, 'conversations': 707, 'embarrassed': 1062, 'packages': 2296, 'addict': 53, 'arrived': 207, 'ago': 98, 'forget': 1302, 'ordering': 2259, 'pool': 2431, 'worry': 3693, 'hiring': 1535, 'electrician': 1052, 'outlets': 2271, 'yard': 3712, 'terrific': 3312, 'nicer': 2167, 'late': 1841, 'adopters': 72, 'decide': 817, 'serve': 2896, 'source': 3066, 'changing': 519, 'directv': 916, 'channels': 521, 'iheartradio': 1598, 'adjusts': 70, 'ac': 9, 'turns': 3449, 'wanting': 3609, 'glad': 1384, 'stuff': 3191, 'non': 2180, 'personally': 2361, 'cooking': 711, 'simultaneously': 2962, 'integration': 1687, 'daily': 794, 'subject': 3199, 'hesitant': 1521, 'feel': 1238, 'superior': 3228, 'greatest': 1429, 'showman': 2940, 'pain': 2302, 'crappy': 751, 'internet': 1711, 'inside': 1669, 'bummed': 429, 'efficient': 1044, 'comparable': 627, 'gave': 1355, 'concerned': 650, 'enjoyment': 1086, 'pleasure': 2415, 'timing': 3363, 'enter': 1089, 'password': 2324, 'apartment': 176, 'given': 1380, 'bathroom': 298, 'metro': 2052, 'booming': 375, 'replacement': 2717, 'night': 2170, 'stand': 3131, 'barely': 285, 'sf': 2911, 'sitting': 2978, 'functionality': 1333, 'discover': 937, 'pure': 2548, 'especially': 1111, 'communicate': 616, 'turned': 3447, 'calling': 451, 'dancing': 797, 'lol': 1937, 'wedding': 3635, 'update': 3507, 'genre': 1368, 'wi': 3655, 'fi': 1246, 'entertaining': 1093, 'products': 2501, 'helps': 1519, 'prepare': 2466, 'weak': 3627, 'stream': 3178, 'months': 2102, 'kinda': 1798, 'useless': 3528, 'hoped': 1557, 'download': 986, 'pc': 2336, 'installing': 1675, 'invasive': 1724, 'drivers': 1000, 'retired': 2760, 'install': 1672, 'supplying': 3230, 'inconvenient': 1635, 'compact': 624, 'upstairs': 3518, 'lve': 1977, 'tekkie': 3298, 'prize': 2491, 'course': 738, 'longer': 1941, 'unresponsive': 3499, 'reset': 2738, 'grandaughter': 1411, 'miles': 2063, 'ones': 2232, 'duty': 1013, 'boost': 376, 'definitively': 837, 'star': 3137, 'ahead': 101, 'audio': 243, 'auxiliary': 255, 'input': 1665, 'dedicated': 825, 'proved': 2526, 'brand': 391, 'main': 1989, 'refurbished': 2666, 'relaxing': 2682, 'recommend': 2638, 'loud': 1958, 'select': 2872, 'rd': 2595, 'party': 2322, 'box': 388, 'sending': 2882, 'asap': 212, 'waste': 3617, 'man': 2004, 'pictures': 2387, 'cord': 717, 'prefer': 2462, 'purpose': 2550, 'cheaper': 534, 'act': 34, 'encyclopedias': 1070, 'nest': 2153, 'phillips': 2370, 'hue': 1579, 'leaving': 1864, 'chair': 509, 'aren': 197, 'dislikes': 944, 'amazons': 148, 'promised': 2512, 'returned': 2762, 'refund': 2662, 'refunds': 2663, 'weird': 3643, 'pauses': 2332, 'speech': 3093, 'pattern': 2330, 'present': 2468, 'shower': 2937, 'spoken': 3109, 'promp': 2515, 'word': 3681, 'shipping': 2925, 'poop': 2432, 'month': 2100, 'poor': 2433, 'arent': 198, 'naw': 2134, 'techie': 3288, 'friend': 1318, 'looked': 1944, 'adapter': 49, 'strong': 3184, 'dollar': 973, 'store': 3170, 'hope': 1556, 'trek': 3419, 'outsmart': 2275, 'include': 1628, 'spelling': 3098, 'background': 271, 'wanted': 3608, 'responding': 2746, 'foot': 1294, 'yelling': 3718, 'performing': 2350, 'dont': 977, 'trust': 3436, 'beautiful': 306, 'accessories': 17, 'divertido': 961, 'guest': 1447, 'center': 504, 'save': 2819, 'bucks': 413, 'prompt': 2516, 'flawlessly': 1280, 'complain': 633, 'n': 2122, 'spell': 3097, 'iove': 1734, 'tinny': 3368, 'attach': 233, 'fm': 1289, 'reception': 2628, 'software': 3030, 'horrible': 1561, 'native': 2128, 'americans': 151, 'north': 2185, 'texas': 3316, 'accent': 10, 'birth': 343, 'area': 195, 'understanding': 3476, 'additionally': 59, 'marginal': 2014, 'extender': 1177, 'feet': 1242, 'switched': 3251, 'disconnected': 930, 'dust': 1012, 'collectors': 591, 'broken': 410, 'spent': 3101, 'fixes': 1271, 'accomplished': 23, 'went': 3646, 'rubber': 2800, 'unplug': 3497, 'laundry': 1848, 'granddaughter': 1413, 'moving': 2113, 'outdoors': 2269, 'certified': 507, 'receiving': 2625, 'acknowledge': 32, 'indicated': 1642, 'productsand': 2502, 'journey': 1774, 'improve': 1618, 'problem': 2494, 'surely': 3238, 'larger': 1838, 'portion': 2439, 'leary': 1861, 'puny': 2540, 'wear': 3629, 'tear': 3285, 'shuts': 2946, 'mint': 2074, 'owning': 2293, 'frustrated': 1321, 'finally': 1256, 'reach': 2596, 'remote': 2701, 'parts': 2321, 'teenagers': 3296, 'insist': 1670, 'dinner': 909, 'convenient': 705, 'refurb': 2664, 'saved': 2820, 'worried': 3692, 'nights': 2172, 'planning': 2401, 'parents': 2313, 'everyday': 1127, 'granted': 1423, 'young': 3725, 'simplicity': 2958, 'gazebo': 1356, 'sort': 3058, 'research': 2733, 'tool': 3387, 'variety': 3545, 'louder': 1959, 'internal': 1709, 'universal': 3489, 'charging': 526, 'outstanding': 2276, 'saving': 2821, 'means': 2030, 'run': 2801, 'diagnostics': 883, 'corrected': 722, 'roomba': 2784, 'goes': 1394, 'mean': 2028, 'crashed': 752, 'disconnect': 929, 'orange': 2255, 'freeze': 1313, 'reboot': 2615, 'mid': 2060, 'sentence': 2889, 'holding': 1543, 'action': 36, 'button': 437, 'seconds': 2864, 'fix': 1269, 'buyer': 440, 'purchases': 2546, 'ordered': 2258, 'honestly': 1552, 'performance': 2348, 'learned': 1857, 'portable': 2438, 'highly': 1531, 'recommended': 2639, 'rep': 2707, 'walked': 3602, 'solved': 3038, 'shocked': 2926, 'effort': 1045, 'including': 1631, 'email': 1061, 'clone': 576, 'boat': 365, 'garage': 1350, 'gf': 1373, 'intermittently': 1708, 'channel': 520, 'okay': 2224, 'confusing': 665, 'green': 1431, 'case': 486, 'took': 3386, 'notification': 2191, 'supposed': 3236, 'yellow': 3719, 'pulsate': 2537, 'message': 2047, 'pulsed': 2538, 'buddies': 414, 'breeze': 397, 'close': 577, 'psychological': 2533, 'haha': 1455, 'defective': 830, 'taken': 3265, 'excellently': 1142, 'amazingly': 145, 'helping': 1518, 'appointments': 188, 'whe': 3650, 'showering': 2938, 'reconditioned': 2641, 'pare': 2312, 'weary': 3630, 'picking': 2382, 'actively': 43, 'happening': 1471, 'concerning': 651, 'release': 2684, 'widespread': 3657, 'push': 2552, 'firmware': 1266, 'prevent': 2474, 'cortna': 725, 'application': 186, 'alive': 123, 'thumbs': 3349, 'workreat': 3689, 'spoke': 3108, 'registered': 2674, 'spanking': 3076, 'grandson': 1420, 'taking': 3267, 'laying': 1851, 'bed': 310, 'moana': 2087, 'completely': 640, 'scared': 2828, 'sh': 2912, 'essentially': 1113, 'opening': 2240, 'versatility': 3555, 'fee': 1233, 'cordthank': 719, 'shouldn': 2935, 'brandnew': 392, 'collection': 589, 'god': 1392, 'sonos': 3045, 'worst': 3695, 'online': 2234, 'microphone': 2057, 'pick': 2380, 'appear': 181, 'disappoint': 921, 'receiver': 2623, 'output': 2272, 'vintage': 3572, 'stereo': 3160, 'edit': 1036, 'longevity': 1942, 'compliments': 643, 'bough': 386, 'echoes': 1027, 'bathrooms': 299, 'detect': 872, 'disconnects': 933, 'significant': 2952, 'shelled': 2918, 'awhile': 266, 'electronically': 1055, 'savy': 2823, 'sink': 2969, 'ran': 2581, 'refurbishedthought': 2667, 'guys': 1451, 'meditation': 2036, 'eye': 1186, 'drops': 1006, 'eyes': 1187, 'closed': 578, 'minute': 2076, 'backyard': 273, 'deck': 821, 'substitute': 3207, 'highest': 1530, 'level': 1874, 'netflix': 2155, 'stick': 3161, 'warranty': 3613, 'assumed': 227, 'sold': 3032, 'higher': 1529, 'standards': 3134, 'guaranteeing': 1444, 'junk': 1780, 'whatsoever': 3649, 'uncle': 3473, 'haywire': 1491, 'quit': 2569, 'soft': 3028, 'advised': 86, 'writing': 3702, 'raised': 2579, 'customer': 778, 'dunno': 1011, 'lately': 1842, 'guy': 1450, 'rambled': 2580, 'unhelpful': 3482, 'script': 2850, 'middle': 2061, 'spiel': 3102, 'norm': 2183, 'finicky': 1261, 'ghz': 1375, 'reconnecting': 2645, 'mic': 2056, 'sensitivity': 2887, 'limitations': 1895, 'hey': 1524, 'responsiveness': 2751, 'hold': 1541, 'true': 3434, 'albeit': 111, 'arlo': 203, 'nil': 2174, 'special': 3084, 'led': 1865, 'rainbow': 2578, 'effects': 1042, 'handle': 1463, 'knows': 1814, 'solid': 3034, 'colors': 595, 'brightness': 404, 'levels': 1875, 'rating': 2591, 'lower': 1969, 'decent': 816, 'connectivity': 671, 'persist': 2355, 'exchange': 1146, 'growing': 1440, 'theirs': 3327, 'treadmill': 3416, 'tower': 3399, 'xs': 3709, 'model': 2091, 'activated': 39, 'yell': 3717, 'lauded': 1844, 'convenience': 704, 'screaming': 2844, 'chance': 514, 'excuses': 1151, 'disappointments': 925, 'effortless': 1046, 'flawless': 1279, 'walk': 3601, 'door': 978, 'viola': 3573, 'instant': 1677, 'atmosphere': 231, 'accessing': 16, 'joy': 1775, 'sooo': 3050, 'ocean': 2213, 'groups': 1439, 'excitement': 1150, 'alexas': 117, 'obvious': 2209, 'mode': 2090, 'unnecessary': 3495, 'preciously': 2460, 'guard': 1445, 'dog': 970, 'sense': 2885, 'leaves': 1863, 'blinks': 354, 'tricks': 3423, 'functionalities': 1332, 'human': 1583, 'interface': 1703, 'shout': 2936, 'chores': 548, 'dogs': 971, 'golden': 1396, 'expensive': 1163, 'tapped': 3278, 'capable': 470, 'absolutly': 8, 'existing': 1155, 'apprehensive': 190, 'electronic': 1054, 'guarantee': 1443, 'form': 1306, 'sits': 2977, 'desk': 867, 'footprint': 1296, 'verbally': 3552, 'occasionally': 2212, 'alert': 113, 'tardis': 3279, 'land': 1833, 'geeks': 1361, 'chose': 549, 'majel': 1994, 'barret': 289, 'geek': 1360, 'heaven': 1507, 'properly': 2519, 'attached': 234, 'nsa': 2197, 'packaged': 2295, 'zero': 3733, 'entertained': 1092, 'honest': 1551, 'opinion': 2247, 'reads': 2603, 'refurbish': 2665, 'neat': 2142, 'drives': 1001, 'nuts': 2204, 'garbage': 1351, 'total': 3392, 'dissatisfaction': 952, 'lived': 1914, 'low': 1968, 'interesting': 1702, 'wikipedia': 3660, 'department': 854, 'forgotten': 1304, 'mainstream': 1991, 'amusing': 156, 'yards': 3713, 'cotton': 728, 'refer': 2656, 'football': 1295, 'sorely': 3055, 'reasonable': 2612, 'hal': 1459, 'brought': 411, 'seldom': 2871, 'tired': 3372, 'troubleshooting': 3431, 'reconnected': 2644, 'monthly': 2101, 'workout': 3688, 'reaching': 2598, 'row': 2797, 'accurate': 29, 'imagined': 1607, 'im': 1602, 'thats': 3324, 'complaint': 636, 'conspiracy': 679, 'theories': 3329, 'eavesdropping': 1025, 'efforts': 1047, 'government': 1407, 'current': 773, 'degrees': 840, 'requesting': 2728, 'recording': 2648, 'weren': 3647, 'labeled': 1821, 'known': 1813, 'report': 2722, 'ai': 102, 'educational': 1038, 'eh': 1048, 'refurbishing': 2668, 'type': 3458, 'wont': 3677, 'irritating': 1740, 'ita': 1750, 'inexperience': 1651, 'intended': 1692, 'perfecto': 2346, 'white': 3653, 'black': 347, 'shown': 2941, 'realize': 2607, 'died': 889, 'boss': 380, 'performed': 2349, 'owlhead': 2288, 'jacuzzi': 1758, 'attention': 239, 'gaming': 1348, 'nrw': 2196, 'defently': 832, 'ok': 2223, 'stupid': 3193, 'couch': 729, 'shortly': 2934, 'niece': 2168, 'upsetting': 3517, 'crackling': 749, 'noise': 2179, 'introduction': 1719, 'grand': 1410, 'gone': 1397, 'version': 3558, 'plans': 2402, 'date': 803, 'despite': 869, 'trained': 3408, 'wonder': 3673, 'realized': 2608, 'faulty': 1226, 'send': 2881, 'according': 24, 'toilet': 3378, 'truly': 3435, 'contacted': 686, 'credited': 759, 'shop': 2928, 'deliver': 844, 'suggest': 3217, 'hosting': 1565, 'l': 1819, 'lm': 1921, 'fanatic': 1213, 'extend': 1175, 'offers': 2218, 'outdoor': 2268, 'possible': 2445, 'disturbing': 957, 'indoor': 1647, 'weekend': 3639, 'reminder': 2696, 'bible': 336, 'verses': 3557, 'commute': 621, 'dodging': 966, 'linked': 1900, 'refurbs': 2669, 'wakes': 3599, 'unused': 3503, 'states': 3147, 'synced': 3255, 'cam': 455, 'baby': 270, 'crib': 761, 'lyrics': 1980, 'ish': 1742, 'understood': 3478, 'worthy': 3698, 'successor': 3211, 'benefit': 325, 'screen': 2845, 'nightstand': 2173, 'faces': 1193, 'choose': 545, 'displays': 950, 'facetime': 1194, 'shape': 2914, 'bedside': 313, 'theecho': 3326, 'mybedroom': 2121, 'answered': 163, 'wasconcerned': 3614, 'discoveredthat': 939, 'avoid': 260, 'confusion': 666, 'named': 2124, 'male': 2001, 'tomy': 3381, 'camera': 459, 'doorbell': 979, 'thestand': 3331, 'advantages': 79, 'reviews': 2767, 'heck': 1509, 'convinced': 709, 'kept': 1789, 'drag': 993, 'dining': 908, 'bring': 405, 'customization': 781, 'disagree': 920, 'chat': 531, 'freezes': 1314, 'error': 1104, 'lack': 1822, 'resetting': 2739, 'resolves': 2744, 'important': 1614, 'creepy': 760, 'specifying': 3090, 'disconcerting': 928, 'negative': 2148, 'groggy': 1436, 'snooze': 3019, 'slow': 2999, 'compared': 629, 'designed': 864, 'face': 1191, 'factor': 1196, 'seeing': 2869, 'square': 3121, 'rectangular': 2650, 'gizmo': 1383, 'purposes': 2551, 'individual': 1645, 'individually': 1646, 'shut': 2945, 'falling': 1207, 'asleep': 218, 'switch': 3250, 'accomplish': 22, 'repeating': 2712, 'altering': 136, 'hopefully': 1558, 'reminds': 2699, 'phones': 2373, 'computers': 647, 'ipads': 1736, 'fussing': 1337, 'park': 2314, 'runs': 2803, 'awsome': 268, 'ceases': 497, 'amaze': 141, 'bang': 282, 'softly': 3029, 'rain': 2577, 'scratched': 2842, 'surface': 3239, 'devise': 880, 'skeptical': 2982, 'grows': 1442, 'disappointing': 923, 'rid': 2770, 'glorified': 1390, 'cost': 726, 'effective': 1041, 'scrolling': 2852, 'saw': 2824, 'entering': 1090, 'world': 3691, 'programmed': 2506, 'previously': 2478, 'specifically': 3087, 'cloud': 581, 'display': 947, 'ant': 166, 'trailer': 3406, 'laptop': 1836, 'desktop': 868, 'appliance': 184, 'interrupt': 1714, 'photos': 2377, 'paired': 2304, 'lamps': 1832, 'capability': 469, 'tad': 3263, 'recipient': 2633, 'challenged': 512, 'changed': 516, 'selling': 2878, 'point': 2427, 'cropping': 764, 'strange': 3177, 'selection': 2873, 'glaring': 1385, 'exception': 1143, 'scroll': 2851, 'defeats': 829, 'reminded': 2695, 'advertising': 83, 'dims': 907, 'based': 293, 'ambient': 149, 'years': 3716, 'glow': 1391, 'typical': 3461, 'clocks': 575, 'bother': 382, 'bothersome': 385, 'bunch': 430, 'walls': 3606, 'lover': 1965, 'resembling': 2736, 'alabama': 108, 'anyways': 175, 'table': 3260, 'website': 3633, 'pair': 2303, 'viewed': 3569, 'solves': 3039, 'efficiency': 1043, 'displaying': 949, 'routinely': 2795, 'interested': 1701, 'furthermore': 1336, 'basic': 295, 'navigation': 2133, 'tailor': 3264, 'waking': 3600, 'dark': 799, 'cameras': 460, 'route': 2792, 'accordingly': 25, 'involved': 1731, 'returnef': 2763, 'spanish': 3075, 'hardcore': 1476, 'infact': 1652, 'members': 2040, 'toddler': 3377, 'variant': 3544, 'beauty': 308, 'placing': 2397, 'soundtouch': 3065, 'sing': 2965, 'careless': 479, 'whisper': 3651, 'ear': 1017, 'normal': 2184, 'viewing': 3570, 'combination': 598, 'plugins': 2419, 'alex': 115, 'matter': 2024, 'indispensable': 1644, 'extrimelly': 1185, 'personalization': 2359, 'aloud': 133, 'typed': 3459, 'unlocking': 3493, 'codes': 586, 'unwitty': 3504, 'developers': 875, 'positive': 2442, 'privacy': 2490, 'invasions': 1723, 'happened': 1470, 'carrier': 482, 'defence': 831, 'surprisingly': 3243, 'hands': 1466, 'interpret': 1712, 'distance': 953, 'ridiculous': 2772, 'note': 2187, 'event': 1123, 'calendar': 448, 'task': 3281, 'difficulty': 897, 'span': 3074, 'imagine': 1606, 'boring': 377, 'college': 592, 'paying': 2335, 'waited': 3595, 'advertisement': 82, 'skype': 2986, 'aunt': 249, 'disappointment': 924, 'notice': 2188, 'searching': 2861, 'pen': 2338, 'regular': 2677, 'rest': 2753, 'id': 1590, 'adds': 63, 'xm': 3708, 'trailers': 3407, 'served': 2897, 'pm': 2423, 'protected': 2522, 'directly': 914, 'safe': 2808, 'basically': 296, 'skill': 2983, 'beam': 304, 'specially': 3085, 'reactive': 2599, 'receive': 2621, 'til': 3357, 'opened': 2239, 'convert': 708, 'enabled': 1068, 'spots': 3115, 'general': 1364, 'sweet': 3246, 'dimat': 903, 'bright': 403, 'fall': 1206, 'mu': 2114, 'hcfe': 1493, 'bot': 381, 'rings': 2776, 'moms': 2096, 'ise': 1741, 'christmas': 551, 'unnannounced': 3494, 'warning': 3611, 'activities': 44, 'events': 1124, 'misunderstands': 2085, 'lit': 1909, 'end': 1071, 'listens': 1907, 'short': 2930, 'dropped': 1004, 'consistent': 677, 'bringing': 406, 'pro': 2492, 'feed': 1234, 'displayed': 948, 'grandfather': 1414, 'lesson': 1871, 'visits': 3580, 'font': 1293, 'apparently': 179, 'lags': 1829, 'possibly': 2446, 'angle': 160, 'attractive': 240, 'alternative': 137, 'clean': 563, 'lightning': 1886, 'sleeps': 2991, 'addicted': 54, 'dependable': 855, 'places': 2396, 'meh': 2038, 'inability': 1626, 'fits': 1268, 'lightening': 1884, 'storm': 3172, 'images': 1604, 'messaging': 2049, 'travel': 3413, 'ad': 47, 'law': 1849, 'currently': 774, 'related': 2680, 'flaws': 1281, 'unusable': 3502, 'card': 474, 'homescreen': 1549, 'cards': 475, 'cycle': 787, 'automatically': 252, 'incredibly': 1640, 'opt': 2249, 'continuously': 696, 'critically': 763, 'rebooted': 2616, 'su': 3197, 'funcionamiento': 1329, 'y': 3710, 'llama': 1919, 'la': 1820, 'atenci': 230, 'rapidez': 2586, 'respuesta': 2752, 'el': 1049, 'se': 2854, 'logra': 1936, 'trav': 3412, 'utilizaci': 3536, 'sorprendi': 3056, 'gratamente': 1425, 'muy': 2120, 'recomendable': 2637, 'missed': 2082, 'snoozes': 3021, 'swipe': 3248, 'prompts': 2517, 'dismiss': 945, 'glasses': 1386, 'dismissed': 946, 'tomorrow': 3380, 'mon': 2097, 'thu': 3347, 'fri': 1316, 'early': 1018, 'apparent': 178, 'indicator': 1643, 'fingertips': 1260, 'puts': 2554, 'crisp': 762, 'habit': 1452, 'cleaning': 565, 'ladies': 1825, 'ceiling': 498, 'gripe': 1434, 'view': 3568, 'simpler': 2957, 'novelty': 2194, 'acts': 45, 'sleek': 2987, 'scrolls': 2853, 'etekcity': 1119, 'voltson': 3589, 'harvard': 1480, 'degree': 839, 'updating': 3510, 'complaining': 635, 'goodness': 1402, 'lov': 1961, 'station': 3148, 'iheart': 1597, 'sucks': 3213, 'overwhelming': 2286, 'cutting': 786, 'counters': 732, 'wide': 3656, 'forth': 1307, 'felt': 1244, 'dying': 1014, 'attempted': 237, 'jaws': 1761, 'comfortable': 605, 'dressed': 997, 'business': 434, 'owner': 2290, 'staff': 3127, 'driven': 999, 'hired': 1534, 'organized': 2262, 'updated': 3508, 'assistance': 224, 'smoothly': 3014, 'suggested': 3218, 'versions': 3559, 'reportsalarm': 2725, 'register': 2673, 'cut': 783, 'fit': 1267, 'circle': 554, 'pop': 2434, 'stay': 3152, 'treat': 3417, 'dumb': 1008, 'bloomberg': 357, 'npr': 2195, 'gain': 1343, 'familiar': 1210, 'key': 1790, 'catch': 489, 'space': 3070, 'conditions': 656, 'iy': 1756, 'coolest': 714, 'sliced': 2993, 'bread': 394, 'finds': 1258, 'deactivate': 809, 'cover': 741, 'anytime': 174, 'location': 1929, 'nervana': 2151, 'geared': 1359, 'nigh': 2169, 'dimmer': 905, 'beta': 329, 'india': 1641, 'suppose': 3235, 'network': 2156, 'jamming': 1759, 'weekday': 3637, 'delivers': 846, 'period': 2352, 'helper': 1516, 'tasks': 3282, 'adequate': 65, 'travelling': 3415, 'youngest': 3727, 'mama': 2003, 'companion': 625, 'elegant': 1057, 'goodies': 1400, 'omg': 2230, 'reading': 2602, 'silly': 2953, 'selfies': 2876, 'sends': 2883, 'hubby': 1577, 'beautifully': 307, 'hide': 1527, 'cause': 492, 'squirms': 3122, 'conscious': 674, 'blocking': 355, 'cancel': 464, 'pre': 2459, 'weekdays': 3638, 'permanently': 2354, 'rotates': 2787, 'upset': 3516, 'acting': 35, 'fail': 1199, 'sadly': 2807, 'misplace': 2080, 'blessing': 351, 'bedtime': 314, 'kid': 1794, 'liking': 1892, 'unobtrusive': 3496, 'numerous': 2202, 'practically': 2455, 'themes': 3328, 'menu': 2045, 'precise': 2461, 'east': 1023, 'coast': 585, 'massive': 2020, 'failing': 1201, 'woken': 3671, 'partner': 2320, 'manually': 2011, 'swiping': 3249, 'touching': 3397, 'results': 2758, 'ii': 1600, 'manage': 2005, 'delete': 843, 'recurring': 2651, 'happen': 1469, 'screw': 2849, 'repair': 2708, 'receivded': 2620, 'advise': 85, 'hadn': 1454, 'thrown': 3346, 'ting': 3365, 'fascinating': 1218, 'microphones': 2058, 'models': 2092, 'picture': 2386, 'forces': 1298, 'disable': 918, 'persuasion': 2362, 'enters': 1091, 'hell': 1513, 'monitor': 2099, 'syncing': 3257, 'hasn': 1481, 'alerts': 114, 'enable': 1067, 'ignoring': 1596, 'customers': 779, 'marketing': 2018, 'customize': 782, 'contents': 690, 'content': 689, 'acceptable': 11, 'debating': 814, 'person': 2356, 'fell': 1243, 'briefings': 401, 'recipes': 2632, 'concern': 649, 'grandparents': 1418, 'tend': 3308, 'conferencing': 658, 'tools': 3388, 'impede': 1611, 'operations': 2245, 'takes': 3266, 'care': 477, 'thursday': 3351, 'unwrapped': 3505, 'reoccurring': 2705, 'rotate': 2786, 'believer': 322, 'shell': 2917, 'arm': 204, 'leg': 1867, 'reference': 2657, 'cohesive': 588, 'manual': 2010, 'websites': 3634, 'instruction': 1681, 'e': 1016, 'kwikset': 1818, 'pizza': 2392, 'hut': 1587, 'views': 3571, 'hype': 1589, 'bugging': 420, 'downright': 989, 'ugly': 3466, 'soundbar': 3060, 'smartphone': 3008, 'interact': 1694, 'media': 2032, 'navigating': 2132, 'pages': 2300, 'arrive': 206, 'fiances': 1247, 'preferred': 2464, 'notifications': 2192, 'seen': 2870, 'delivered': 845, 'integrating': 1686, 'dash': 801, 'renting': 2704, 'tinker': 3366, 'road': 2778, 'hvac': 1588, 'looooooove': 1947, 'disaster': 927, 'chachki': 508, 'genres': 1369, 'adjustment': 69, 'hong': 1553, 'kong': 1816, 'sized': 2981, 'bezel': 332, 'usable': 3521, 'involves': 1732, 'starts': 3143, 'crap': 750, 'dare': 798, 'child': 539, 'outrageous': 2273, 'meant': 2031, 'nonsense': 2181, 'nanny': 2127, 'adorable': 73, 'recently': 2627, 'subscriber': 3201, 'alternatives': 138, 'alleviate': 124, 'shine': 2920, 'items': 1754, 'analog': 157, 'buyers': 441, 'remorse': 2700, 'sight': 2950, 'decor': 822, 'thongs': 3337, 'numb': 2199, 'thunderstorm': 3350, 'yesterday': 3722, 'indundated': 1648, 'stimulus': 3163, 'suitable': 3222, 'sony': 3047, 'pull': 2535, 'entirely': 1096, 'knocked': 1807, 'decision': 820, 'cycles': 789, 'screens': 2847, 'rotation': 2788, 'promotion': 2514, 'packing': 2298, 'heads': 1500, 'emergency': 1063, 'folks': 1290, 'woke': 3670, 'advertise': 80, 'town': 3400, 'lady': 1826, 'researched': 2734, 'avail': 257, 'occasional': 2211, 'force': 1297, 'trending': 3421, 'greatly': 1430, 'depreciates': 859, 'willing': 3661, 'billboard': 340, 'streamline': 3180, 'warns': 3612, 'snarls': 3016, 'suggesting': 3219, 'introducing': 1718, 'artists': 211, 'amaonmazing': 139, 'blanket': 348, 'infotainment': 1659, 'sleepy': 2992, 'zonked': 3735, 'zzzzzzz': 3737, 'awake': 261, 'yep': 3720, 'statement': 3146, 'excessive': 1145, 'rotations': 2789, 'screenselect': 2848, 'settingshome': 2904, 'clockhome': 573, 'cardsrotate': 476, 'onceproblem': 2231, 'nicely': 2166, 'constructed': 682, 'replaces': 2718, 'arriving': 208, 'pricey': 2482, 'https': 1574, 'www': 3704, 'com': 596, 'dp': 992, 'b': 269, 'sqyxtw': 3123, 'ref': 2655, 'cm': 583, 'cr': 746, 'ryp': 2804, 'prd': 2458, 'ttl': 3439, 'sol': 3031, 'choice': 543, 'positives': 2443, 'nearly': 2141, 'literally': 1910, 'initial': 1660, 'pros': 2521, 'unlike': 3491, 'clearer': 567, 'cons': 673, 'web': 3632, 'installed': 1674, 'porch': 2435, 'mount': 2108, 'lcd': 1854, 'dim': 902, 'sensitive': 2886, 'sleeper': 2989, 'wind': 3662, 'taping': 3277, 'tape': 3276, 'tiny': 3369, 'suffer': 3214, 'ads': 74, 'forever': 1301, 'swell': 3247, 'crazy': 755, 'eeaanh': 1039, 'slide': 2994, 'pivoting': 2390, 'separately': 2891, 'colon': 593, 'celebs': 500, 'jump': 1776, 'board': 364, 'voices': 3585, 'nit': 2175, 'picky': 2384, 'beefy': 315, 'compliment': 642, 'determined': 873, 'overheating': 2281, 'technical': 3289, 'replied': 2720, 'inline': 1663, 'unacceptable': 3470, 'arises': 202, 'farther': 1217, 'cleaner': 564, 'sounding': 3062, 'perk': 2353, 'print': 2488, 'split': 3106, 'hairs': 1458, 'increasing': 1638, 'weekly': 3640, 'overtime': 2284, 'project': 2509, 'feedback': 1235, 'self': 2875, 'staying': 3154, 'hotel': 1567, 'bundle': 431, 'girls': 1379, 'deployed': 858, 'appropriate': 192, 'particularly': 2318, 'engineers': 1079, 'tested': 3314, 'schedules': 2833, 'walking': 3603, 'fumble': 1326, 'plain': 2398, 'cumbersome': 771, 'situations': 2979, 'spouse': 3116, 'separate': 2890, 'cancels': 467, 'cancelled': 466, 'snoozed': 3020, 'amused': 155, 'summoning': 3223, 'creapy': 756, 'af': 88, 'tall': 3273, 'vice': 3564, 'versa': 3553, 'tends': 3309, 'break': 395, 'intermittent': 1707, 'optical': 2250, 'stands': 3136, 'grandmother': 1416, 'sets': 2901, 'mind': 2066, 'podcast': 2425, 'expired': 1168, 'digs': 901, 'cartoons': 485, 'desired': 866, 'hectic': 1510, 'voila': 3587, 'virtual': 3574, 'hire': 1533, 'libraries': 1877, 'sooooo': 3051, 'sopt': 3053, 'past': 2325, 'realizing': 2609, 'amazonia': 147, 'lil': 1893, 'text': 3317, 'recipe': 2631, 'lost': 1955, 'mentioned': 2044, 'caused': 493, 'effected': 1040, 'children': 541, 'happens': 1472, 'hand': 1462, 'pleasedsimple': 2414, 'aspects': 220, 'interacting': 1695, 'tremendous': 3420, 'country': 735, 'dhiw': 882, 'hmm': 1538, 'cnn': 584, 'preview': 2476, 'pricing': 2483, 'underestimated': 3474, 'cart': 484, 'chatting': 532, 'isnt': 1745, 'image': 1603, 'pixelated': 2391, 'oh': 2222, 'slideshow': 2995, 'sticks': 3162, 'leave': 1862, 'articles': 209, 'solution': 3037, 'shutting': 2947, 'mexico': 2053, 'usa': 3520, 'houses': 1572, 'systems': 3258, 'homes': 1548, 'mimic': 2065, 'bulbs': 426, 'baseball': 292, 'scores': 2838, 'cooler': 713, 'audiobooks': 246, 'loses': 1952, 'applications': 187, 'optional': 2253, 'bezos': 333, 'spying': 3120, 'reccomend': 2619, 'disposable': 951, 'income': 1633, 'cat': 488, 'vacation': 3540, 'idea': 1591, 'routine': 2794, 'imhave': 1608, 'hate': 1484, 'recommending': 2640, 'continually': 692, 'bc': 303, 'guide': 1448, 'floating': 1286, 'purely': 2549, 'aesthetic': 87, 'natural': 2129, 'mediocre': 2035, 'track': 3403, 'holiday': 1545, 'gifts': 1377, 'organization': 2261, 'virtually': 3575, 'heavy': 1508, 'punch': 2539, 'mids': 2062, 'awful': 265, 'rarely': 2588, 'activates': 40, 'meaningful': 2029, 'distraction': 956, 'practicalthan': 2456, 'powerful': 2453, 'pics': 2385, 'constant': 680, 'uninstall': 3485, 'reinstall': 2679, 'reconfigure': 2642, 'jumped': 1777, 'resistant': 2741, 'york': 3724, 'fair': 1203, 'worker': 3686, 'telephone': 3299, 'directions': 913, 'laughter': 1847, 'eliminate': 1059, 'payed': 2334, 'held': 1511, 'sooooooo': 3052, 'expectation': 1159, 'pia': 2379, 'shipped': 2924, 'manuals': 2012, 'magically': 1987, 'maximize': 2025, 'examples': 1136, 'kick': 1792, 'pants': 2308, 'udefulness': 3465, 'engine': 1078, 'hated': 1485, 'parties': 2319, 'correct': 721, 'dish': 942, 'ti': 3352, 'definately': 833, 'hesitated': 1523, 'recent': 2626, 'mac': 1982, 'air': 105, 'stuck': 3189, 'unable': 3469, 'referred': 2659, 'intelagence': 1688, 'dependence': 856, 'pushed': 2553, 'accessable': 14, 'gather': 1353, 'subsequently': 3206, 'ihome': 1599, 'docking': 963, 'created': 758, 'visual': 3581, 'clothes': 580, 'dryer': 1007, 'eco': 1030, 'lines': 1898, 'resolution': 2742, 'trigger': 3427, 'literate': 1911, 'controlled': 700, 'net': 2154, 'fills': 1254, 'connects': 672, 'resume': 2759, 'utility': 3535, 'owe': 2287, 'marked': 2016, 'lyrical': 1979, 'post': 2447, 'malone': 2002, 'consumer': 684, 'argument': 200, 'state': 3145, 'feeds': 1236, 'spectacular': 3092, 'stellar': 3157, 'hi': 1525, 'campus': 461, 'carry': 483, 'stationary': 3149, 'comfort': 604, 'invasion': 1722, 'relief': 2687, 'onme': 2235, 'visa': 3576, 'voiceview': 3586, 'reader': 2601, 'blind': 352, 'single': 2967, 'vast': 3547, 'library': 1878, 'canary': 463, 'agree': 99, 'deeper': 827, 'havent': 1489, 'capacity': 471, 'join': 1770, 'backgrounds': 272, 'primeday': 2487, 'blows': 359, 'sources': 3067, 'advantage': 78, 'incredible': 1639, 'untapped': 3501, 'locked': 1932, 'restrictions': 2755, 'navigate': 2131, 'hd': 1494, 'priced': 2480, 'louis': 1960, 'thrilled': 3344, 'seprately': 2892, 'mics': 2059, 'tg': 3319, 'ed': 1034, 'k': 1782, 'sharp': 2916, 'tries': 3426, 'drawback': 995, 'noticed': 2190, 'recordings': 2649, 'secret': 2865, 'agent': 96, 'johnny': 1769, 'rivers': 2777, 'history': 1536, 'comeletely': 602, 'concept': 648, 'irritated': 1739, 'communicating': 618, 'baffled': 276, 'eventually': 1125, 'abay': 0, 'combined': 600, 'cylinder': 790, 'writes': 3701, 'accompanying': 21, 'f': 1188, 'anylist': 171, 'pause': 2331, 'decides': 819, 'exceeds': 1139, 'wealth': 3628, 'topic': 3390, 'customizable': 780, 'hole': 1544, 'preparing': 2467, 'spotlight': 3114, 'cams': 462, 'demand': 848, 'clients': 570, 'cracked': 747, 'fourth': 1311, 'graphics': 1424, 'cozi': 744, 'drawing': 996, 'essential': 1112, 'marvelous': 2019, 'lag': 1827, 'provider': 2530, 'speed': 3094, 'gb': 1357, 'conditioning': 655, 'friday': 1317, 'steep': 3156, 'diversity': 960, 'rock': 2779, 'dec': 815, 'window': 3663, 'opens': 2241, 'contains': 688, 'bar': 283, 'flashes': 1276, 'restart': 2754, 'grownups': 1441, 'requires': 2732, 'site': 2976, 'page': 2299, 'position': 2441, 'visuals': 3582, 'stove': 3174, 'cousin': 739, 'carolina': 481, 'addressed': 61, 'majes': 1995, 'enjoyable': 1083, 'glitching': 1389, 'repairs': 2709, 'newest': 2159, 'glitch': 1387, 'ty': 3457, 'jeapordy': 1763, 'visible': 3577, 'lazy': 1853, 'originally': 2267, 'competition': 631, 'developed': 874, 'doesnt': 969, 'shorted': 2932, 'lastly': 1840, 'membership': 2041, 'decorated': 823, 'minimal': 2069, 'subscription': 3203, 'nightmare': 2171, 'overpriced': 2282, 'vehicle': 3549, 'produc': 2498, 'fledged': 1282, 'tablet': 3261, 'accesss': 18, 'lurking': 1975, 'continous': 691, 'spam': 3073, 'promoting': 2513, 'settins': 2905, 'anti': 167, 'reasons': 2613, 'staging': 3129, 'acoustical': 33, 'cylindercal': 791, 'covered': 742, 'adjacent': 66, 'mixed': 2086, 'stinks': 3164, 'extras': 1183, 'afraid': 93, 'engaging': 1077, 'regard': 2670, 'bandwidth': 281, 'vs': 3591, 'accuracy': 28, 'spoiled': 3107, 'detailed': 870, 'offing': 2221, 'ass': 221, 'ase': 213, 'participating': 2316, 'compacity': 623, 'aint': 104, 'international': 1710, 'tune': 3443, 'pulling': 2536, 'teeth': 3297, 'sign': 2951, 'totallly': 3393, 'blink': 353, 'everybody': 1126, 'jetsons': 1766, 'draw': 994, 'teacher': 3283, 'ight': 1594, 'inviting': 1730, 'switches': 3252, 'expanding': 1157, 'maintaining': 1993, 'shuffle': 2944, 'photographs': 2376, 'sewing': 2910, 'smooth': 3013, 'wellfour': 3645, 'bizarre': 346, 'sore': 3054, 'thumb': 3348, 'powercord': 2452, 'flaw': 1278, 'strongly': 3185, 'urge': 3519, 'affirmations': 90, 'personalized': 2360, 'common': 615, 'allrecipes': 129, 'illustrated': 1601, 'orders': 2260, 'uhyour': 3467, 'selections': 2874, 'preferences': 2463, 'temp': 3304, 'c': 446, 'searches': 2860, 'visiting': 3579, 'frustration': 1323, 'laziness': 1852, 'headphones': 1499, 'dig': 898, 'bonkers': 369, 'brief': 399, 'floored': 1288, 'blurring': 363, 'shaking': 2913, 'jumping': 1778, 'talked': 3270, 'hassle': 1483, 'references': 2658, 'yup': 3731, 'hahaawesome': 1456, 'improving': 1622, 'impulse': 1623, 'hints': 1532, 'appears': 182, 'sparks': 3078, 'imagination': 1605, 'belong': 324, 'starting': 3142, 'nephews': 2150, 'grandparent': 1417, 'dementia': 849, 'memory': 2042, 'loss': 1954, 'medications': 2034, 'viceo': 3565, 'aka': 106, 'leaning': 1855, 'create': 757, 'nbsp': 2136, 'messages': 2048, 'puzzled': 2556, 'quot': 2572, 'intelligent': 1690, 'yhe': 3723, 'thou': 3340, 'calendars': 449, 'contacts': 687, 'alongside': 130, 'algo': 122, 'flickering': 1285, 'forums': 1309, 'isue': 1749, 'reported': 2723, 'soluci': 3036, 'tin': 3364, 'screenless': 2846, 'pointless': 2429, 'providing': 2532, 'story': 3173, 'hallway': 1461, 'bulky': 428, 'headline': 1497, 'suggests': 3221, 'adapted': 48, 'machines': 1984, 'cross': 765, 'activating': 41, 'rename': 2702, 'adept': 64, 'exceptionally': 1144, 'coffee': 587, 'prettier': 2472, 'dense': 852, 'ny': 2205, 'nj': 2177, 'regional': 2672, 'experiences': 1166, 'tablets': 3262, 'description': 862, 'surround': 3244, 'gadgets': 1342, 'spur': 3119, 'conversation': 706, 'dictionary': 885, 'areas': 196, 'reduced': 2653, 'auto': 250, 'imrproved': 1624, 'galaxy': 1344, 'string': 3182, 'explicit': 1171, 'electeonically': 1051, 'feee': 1237, 'lifht': 1881, 'bing': 342, 'combine': 599, 'fidelity': 1248, 'silver': 2954, 'unimportant': 3484, 'intention': 1693, 'scottish': 2839, 'oops': 2237, 'plenty': 2416, 'specs': 3091, 'straight': 3175, 'lightbulb': 1883, 'stubborn': 3188, 'patio': 2329, 'gatherings': 1354, 'extends': 1178, 'vision': 3578, 'impaired': 1610, 'loaded': 1924, 'social': 3025, 'facebook': 1192, 'twitter': 3456, 'left': 1866, 'isolated': 1746, 'direct': 911, 'whos': 3654, 'aspect': 219, 'distracting': 955, 'countless': 733, 'dunce': 1010, 'sigh': 2949, 'exasperation': 1137, 'ignored': 1595, 'workarounds': 3684, 'scoured': 2840, 'beginners': 317, 'section': 2867, 'addresses': 62, 'configure': 660, 'accepting': 12, 'karen': 1783, 'controllable': 699, 'bff': 335, 'cups': 772, 'pound': 2450, 'sons': 3046, 'picked': 2381, 'slight': 2996, 'confused': 663, 'begun': 319, 'array': 205, 'practical': 2454, 'concerns': 652, 'mute': 2119, 'equalizer': 1101, 'introduce': 1717, 'lock': 1931, 'posed': 2440, 'somebody': 3040, 'community': 620, 'z': 3732, 'wave': 3624, 'zigbee': 3734, 'body': 367, 'wink': 3665, 'integrate': 1683, 'hubs': 1578, 'innovative': 1664, 'upgrading': 3514, 'cases': 487, 'settle': 2906, 'plane': 2400, 'bundled': 432, 'philly': 2371, 'buys': 443, 'newer': 2158, 'mark': 2015, 'yale': 3711, 'techy': 3295, 'audibles': 242, 'tunein': 3444, 'heart': 1506, 'tivo': 3374, 'bolt': 368, 'reorder': 2706, 'notifies': 2193, 'mailed': 1988, 'tp': 3402, 'devises': 881, 'august': 248, 'ties': 3356, 'experienced': 1165, 'nexia': 2162, 'interactions': 1697, 'alread': 134, 'philips': 2367, 'nudged': 2198, 'build': 422, 'placed': 2394, 'fixtures': 1274, 'den': 850, 'fixture': 1273, 'required': 2731, 'configured': 661, 'brands': 393, 'disarm': 926, 'management': 2006, 'baffle': 275, 'esp': 1108, 'dented': 853, 'exchanging': 1148, 'coop': 715, 'luv': 1976, 'reauthorize': 2614, 'ton': 3382, 'jeopardy': 1765, 'ge': 1358, 'corresponds': 724, 'exchanges': 1147, 'makings': 2000, 'documentation': 965, 'becausse': 309, 'accident': 19, 'echoplus': 1028, 'extension': 1179, 'activate': 38, 'habla': 1453, 'espanol': 1110, 'cpr': 745, 'classical': 561, 'mistakes': 2084, 'sofa': 3027, 'sit': 2975, 'broke': 409, 'fixing': 1272, 'replacing': 2719, 'bridge': 398, 'philipshue': 2368, 'instantaneous': 1678, 'catches': 490, 'bothers': 384, 'conflict': 662, 'discovery': 941, 'fully': 1325, 'evaluate': 1121, 'communicated': 617, 'preset': 2469, 'firmare': 1265, 'featured': 1231, 'iot': 1733, 'needing': 2146, 'standalone': 3132, 'redundant': 2654, 'equal': 1099, 'soundlink': 3063, 'importantly': 1615, 'bye': 445, 'tinkering': 3367, 'chalk': 510, 'repertoire': 2714, 'hook': 1554, 'walks': 3604, 'successfully': 3210, 'completed': 639, 'technicians': 3291, 'chromebook': 552, 'luck': 1971, 'behaved': 320, 'blast': 349, 'soccer': 3024, 'sport': 3110, 'teams': 3284, 'american': 150, 'remaining': 2689, 'pairing': 2305, 'utilizing': 3538, 'ecobee': 1031, 'firestick': 1264, 'phillip': 2369, 'scooped': 2837, 'ball': 277, 'rcieved': 2594, 'buld': 427, 'mere': 2046, 'verbal': 3550, 'techno': 3292, 'knowledgable': 1810, 'hubbed': 1576, 'stump': 3192, 'googled': 1404, 'admit': 71, 'explored': 1173, 'refers': 2660, 'twice': 3454, 'steps': 3159, 'xfinity': 3707, 'cable': 447, 'geo': 1370, 'fencing': 1245, 'leisure': 1869, 'remedial': 2691, 'reconnect': 2643, 'false': 1209, 'ghost': 1374, 'ipdates': 1737, 'resolved': 2743, 'adapting': 50, 'cheapest': 535, 'profiles': 2503, 'spins': 3105, 'near': 2140, 'handles': 1465, 'links': 1902, 'hulu': 1582, 'pets': 2363, 'regardless': 2671, 'layer': 1850, 'protection': 2523, 'bf': 334, 'cousins': 740, 'italy': 1752, 'facts': 1198, 'touted': 3398, 'samsung': 2813, 'interferes': 1706, 'depth': 860, 'fairness': 1205, 'advance': 76, 'protocol': 2524, 'supports': 3234, 'upgrades': 3513, 'texts': 3318, 'necessity': 2143, 'commodity': 614, 'disabled': 919, 'doctor': 964, 'medical': 2033, 'rides': 2771, 'hospitals': 1564, 'cue': 769, 'nurses': 2203, 'aide': 103, 'chocolate': 542, 'assist': 223, 'anybody': 170, 'affirm': 89, 'jeff': 1764, 'allowing': 127, 'disability': 917, 'earn': 1019, 'ssdi': 3125, 'forecast': 1299, 'soaking': 3023, 'cursed': 775, 'scheduled': 2832, 'soaked': 3022, 'tec': 3286, 'complacated': 632, 'verbalize': 3551, 'sirrius': 2973, 'differences': 893, 'dimming': 906, 'scenes': 2829, 'tones': 3383, 'misled': 2079, 'explanation': 1170, 'throw': 3345, 'invest': 1726, 'shortcomings': 2931, 'fees': 1241, 'differ': 891, 'speedy': 3096, 'steaming': 3155, 'skips': 2985, 'subscriptiondoes': 3204, 'audioapple': 244, 'deviceoverall': 878, 'jack': 1757, 'philip': 2366, 'attempting': 238, 'failed': 1200, 'watched': 3620, 'poster': 2448, 'insanity': 1667, 'operator': 2246, 'hr': 1573, 'mins': 2073, 'patience': 2327, 'shifting': 2919, 'mindset': 2067, 'kicking': 1793, 'locate': 1927, 'pray': 2457, 'attempt': 236, 'successful': 3209, 'revise': 2768, 'odds': 2215, 'defuser': 838, 'wasted': 3618, 'purchaser': 2545, 'phase': 2364, 'expanded': 1156, 'usage': 3522, 'noticeable': 2189, 'ends': 1074, 'unavailable': 3471, 'interrogated': 1713, 'originale': 2266, 'dimension': 904, 'weight': 3642, 'woofer': 3678, 'tweeter': 3452, 'pointed': 2428, 'sub': 3198, 'losing': 1953, 'edge': 1035, 'fw': 1340, 'inferior': 1653, 'rattling': 2593, 'vibrating': 3563, 'distorted': 954, 'rattle': 2592, 'crackle': 748, 'characteristics': 522, 'assuming': 228, 'classic': 560, 'orchestra': 2256, 'screamig': 2843, 'carefully': 478, 'click': 569, 'sneaky': 3017, 'wasnt': 3616, 'keen': 1785, 'goodmorning': 1401, 'sang': 2814, 'lolol': 1938, 'educated': 1037, 'laughs': 1846, 'waits': 3597, 'hes': 1520, 'island': 1743, 'direction': 912, 'placement': 2395, 'appealing': 180, 'neighbors': 2149, 'building': 423, 'knob': 1805, 'adjusting': 68, 'inconvenience': 1634, 'sturdy': 3194, 'grip': 1433, 'granite': 1422, 'rub': 2799, 'scent': 2830, 'tipping': 3370, 'floor': 1287, 'assigned': 222, 'shining': 2921, 'tony': 3385, 'stark': 3138, 'quote': 2573, 'ownership': 2292, 'lucky': 1973, 'taller': 3274, 'spin': 3104, 'researching': 2735, 'setups': 2908, 'ontrac': 2236, 'usual': 3533, 'suck': 3212, 'smells': 3011, 'x': 3705, 'regularly': 2678, 'checked': 537, 'cycled': 788, 'industry': 1649, 'continues': 694, 'roll': 2782, 'prove': 2525, 'clue': 582, 'em': 1060, 'grace': 1409, 'amplifier': 154, 'driving': 1002, 'standing': 3135, 'snell': 3018, 'clapper': 557, 'ceilings': 499, 'smartthings': 3010, 'muffled': 2115, 'eq': 1098, 'consistently': 678, 'hmmm': 1539, 'spending': 3100, 'senior': 2884, 'citizens': 555, 'mobility': 2089, 'depending': 857, 'comments': 612, 'sibling': 2948, 'versus': 3560, 'downstairs': 991, 'singing': 2966, 'commanded': 609, 'lifetime': 1880, 'approaching': 191, 'hundreds': 1585, 'thousands': 3343, 'approximately': 193, 'subpar': 3200, 'rarity': 2589, 'discourage': 936, 'investing': 1728, 'ecosystem': 1033, 'holy': 1546, 'batman': 300, 'jams': 1760, 'insanely': 1666, 'sooner': 3049, 'girlfriend': 1378, 'incorporated': 1636, 'dates': 805, 'science': 2836, 'core': 720, 'reminding': 2698, 'equalized': 1100, 'length': 1870, 'vacuum': 3542, 'replying': 2721, 'hassel': 1482, 'unsettling': 3500, 'repeats': 2713, 'obtrusive': 2208, 'training': 3410, 'coordinator': 716, 'blueprints': 361, 'gameshow': 1347, 'quiz': 2571, 'orientation': 2263, 'engage': 1075, 'trainees': 3409, 'success': 3208, 'classes': 559, 'filling': 1253, 'logitech': 1934, 'harmony': 1479, 'nope': 2182, 'denon': 851, 'av': 256, 'receivers': 2624, 'putting': 2555, 'consulting': 683, 'sincerely': 2964, 'smartthing': 3009, 'transferring': 3411, 'initiate': 1662, 'zzzz': 3736, 'ideal': 1592, 'boyfriend': 389, 'chromecast': 553, 'load': 1923, 'rebooting': 2617, 'attachment': 235, 'loose': 1948, 'wished': 3668, 'guilty': 1449, 'assume': 226, 'oldest': 2228, 'mirroring': 2078, 'ummm': 3468, 'sever': 2909, 'agreement': 100, 'expires': 1169, 'rent': 2703, 'headphone': 1498, 'roku': 2781, 'faster': 1221, 'darn': 800, 'kodi': 1815, 'addons': 60, 'platform': 2403, 'lagging': 1828, 'utilize': 3537, 'confident': 659, 'resemption': 2737, 'downfall': 985, 'subscriptions': 3205, 'funciona': 1328, 'genial': 1367, 'june': 1779, 'crunchyroll': 766, 'pep': 2342, 'overcoming': 2280, 'switching': 3253, 'programming': 2507, 'charm': 528, 'simplify': 2960, 'alexus': 121, 'bet': 328, 'doubtful': 984, 'pluto': 2422, 'tubi': 3441, 'lyric': 1978, 'programing': 2505, 'bills': 341, 'supplied': 3229, 'mounted': 2109, 'platforms': 2404, 'vudu': 3592, 'voltage': 3588, 'typically': 3462, 'quiet': 2568, 'relay': 2683, 'canceling': 465, 'satellite': 2816, 'alexis': 120, 'bettter': 331, 'extended': 1176, 'v': 3539, 'relatively': 2681, 'inexpensive': 1650, 'gap': 1349, 'ethernet': 1120, 'speeds': 3095, 'hiccups': 1526, 'ridiculously': 2773, 'prices': 2481, 'storage': 3169, 'downloading': 988, 'upcoming': 3506, 'includes': 1630, 'nfl': 2163, 'troublesome': 3432, 'record': 2646, 'remains': 2690, 'electricity': 1053, 'amounts': 152, 'luckily': 1972, 'directtv': 915, 'woohoo': 3680, 'snap': 3015, 'feeling': 1239, 'inspired': 1671, 'gateway': 1352, 'trial': 3422, 'keyboard': 1791, 'typing': 3463, 'clips': 571, 'opportunity': 2248, 'mi': 2054, 'similar': 2955, 'evening': 1122, 'season': 2862, 'bloods': 356, 'csi': 767, 'miami': 2055, 'optimum': 2251, 'suffolk': 3216, 'county': 736, 'lovee': 1964, 'evrything': 1131, 'hahahaha': 1457, 'addicts': 55, 'amazin': 143, 'alots': 132, 'traditional': 3404, 'rst': 2798, 'crashes': 753, 'buffer': 416, 'budget': 415, 'maneuver': 2008, 'activation': 42, 'ditched': 959, 'market': 2017, 'unhappy': 3481, 'errors': 1105, 'crashing': 754, 'sling': 2998, 'endless': 1073, 'existent': 1154, 'sry': 3124, 'allowed': 126, 'officially': 2220, 'hdm': 1495, 'bob': 366, 'dylan': 1015, 'xbox': 3706, 'buffering': 417, 'interruption': 1715, 'rewards': 2769, 'drive': 998, 'singley': 2968, 'entry': 1097, 'inactivity': 1627, 'finish': 1262, 'availability': 258, 'arguments': 201, 'logo': 1935, 'younger': 3726, 'ditch': 958, 'charmed': 529, 'forjust': 1305, 'clocking': 574, 'mb': 2027, 'mandatory': 2007, 'final': 1255, 'upload': 3515, 'charlotte': 527, 'nc': 2137, 'pur': 2542, 'cbs': 495, 'nbc': 2135, 'abc': 1, 'discounts': 935, 'oriented': 2264, 'looses': 1949, 'closer': 579, 'rare': 2587, 'occasion': 2210, 'thete': 3332, 'cave': 494, 'las': 1839, 'pel': 2337, 'culas': 770, 'tiene': 3355, 'o': 2206, 'pueden': 2534, 'cambiar': 456, 'tulos': 3442, 'element': 1058, 'maddening': 1985, 'disconnections': 932, 'inclusive': 1632, 'hdmi': 1496, 'ni': 2164, 'hbo': 1492, 'showtime': 2943, 'onetime': 2233, 'procedure': 2496, 'tge': 3320, 'batteries': 301, 'hauler': 1487, 'trip': 3428, 'commercials': 613, 'livingroom': 1917, 'semi': 2880, 'reviewing': 2766, 'factory': 1197, 'abd': 2, 'scratch': 2841, 'traveling': 3414, 'ban': 278, 'installs': 1676, 'theater': 3325, 'fat': 1222, 'forecasts': 1300, 'interactive': 1698, 'bug': 419, 'newsflash': 2161, 'reboots': 2618, 'stage': 3128, 'invention': 1725, 'tricky': 3424, 'stayed': 3153, 'hmmmm': 1540, 'appreciated': 189, 'disconnecting': 931, 'tickled': 3353, 'keeper': 1786, 'linking': 1901, 'rough': 2790, 'patch': 2326, 'sunroom': 3224, 'helful': 1512, 'supported': 3232, 'reached': 2597, 'sprint': 3118, 'bare': 284, 'minimum': 2070, 'hospital': 1563, 'grands': 1419, 'welcome': 3644, 'serius': 2895, 'sm': 3001, 'alot': 131, 'fashioned': 1219, 'digitol': 900, 'vacations': 3541, 'everytime': 1128, 'paranoid': 2311, 'vlan': 3583, 'require': 2730, 'questionable': 2563, 'carful': 480, 'vetted': 3561, 'askes': 216, 'handled': 1464, 'lonely': 1939, 'spark': 3077, 'ifs': 1593, 'ands': 159, 'buts': 436, 'minorly': 2072, 'comands': 597, 'capasity': 472, 'complained': 634, 'medium': 2037, 'doors': 980, 'barn': 288, 'horse': 1562, 'healing': 1501, 'continuous': 695, 'spa': 3069, 'par': 2310, 'nite': 2176, 'boombox': 374, 'dated': 804, 'champ': 513, 'yeah': 3714, 'insert': 1668, 'equipo': 1103, 'inteligente': 1689, 'al': 107, 'estar': 1116, 'conectado': 657, 'nos': 2186, 'provee': 2527, 'ltiples': 1970, 'funciones': 1330, 'tales': 3268, 'como': 622, 'tiempo': 3354, 'hora': 1560, 'informaci': 1655, 'cualquier': 768, 'estudio': 1118, 'est': 1114, 'realizando': 2606, 'atr': 232, 'vez': 3562, 'del': 841, 'forgot': 1303, 'amaxing': 140, 'greeting': 1432, 'oven': 2277, 'temps': 3306, 'simplified': 2959, 'bandwagon': 280, 'struggle': 3187, 'sharing': 2915, 'testing': 3315, 'reliable': 2686, 'qualty': 2558, 'filled': 1252, 'compound': 645, 'projects': 2511, 'projection': 2510, 'awkward': 267, 'students': 3190, 'dorm': 981, 'spacing': 3072, 'smarter': 3006, 'smarthome': 3007, 'alright': 135, 'reputation': 2726, 'nois': 2178, 'shooting': 2927, 'motown': 2107, 'salsa': 2812, 'phonetically': 2374, 'intend': 1691, 'released': 2685, 'proper': 2518, 'development': 876, 'fails': 1202, 'british': 407, 'restrictive': 2756, 'refined': 2661, 'informed': 1658, 'verse': 3556, 'argue': 199, 'imusic': 1625, 'structure': 3186, 'dumber': 1009, 'affordable': 92, 'lullaby': 1974, 'survived': 3245, 'bells': 323, 'whistles': 3652, 'satisified': 2818, 'flexible': 1284, 'alexi': 118, 'humour': 1584, 'favorites': 1228, 'wishing': 3669, 'solely': 3033, 'loosing': 1950, 'presumably': 2471, 'interference': 1705, 'buzzing': 444, 'king': 1801, 'cutie': 785, 'sanity': 2815, 'choppy': 547, 'domain': 975, 'city': 556, 'dial': 884, 'lame': 1830, 'legally': 1868, 'godsend': 1393, 'numbers': 2201, 'choosing': 546, 'shipment': 2923, 'costs': 727, 'wattage': 3623, 'dollars': 974, 'obsessed': 2207, 'stairs': 3130, 'certainly': 506, 'unexpected': 3479, 'remind': 2694, 'seams': 2858, 'maintain': 1992, 'smiths': 3012, 'falls': 1208, 'learnimg': 1858, 'sounded': 3061, 'emoji': 1064, 'accustom': 31, 'pup': 2541, 'calm': 453, 'wonders': 3676, 'calmer': 454, 'bark': 287, 'expert': 1167, 'operation': 2244, 'confuses': 664, 'engagement': 1076, 'sales': 2811, 'tempting': 3307, 'este': 1117, 'producto': 2500, 'lleg': 1920, 'semana': 2879, 'qued': 2560, 'sin': 2963, 'olor': 2229, 'perdi': 2343, 'toda': 3375, 'escencia': 1107, 'huele': 1580, 'solo': 3035, 'alcohol': 112, 'barry': 290, 'ages': 97, 'adults': 75, 'locations': 1930, 'dead': 810, 'stat': 3144, 'bothered': 383, 'spaces': 3071}\n"
     ]
    }
   ],
   "source": [
    "# Printing the identified Unique words along with their indices\n",
    "print(\"Vocabulary: \", count_vectorizer.vocabulary_)"
   ],
   "metadata": {
    "collapsed": false,
    "ExecuteTime": {
     "start_time": "2023-05-01T11:55:05.832564Z",
     "end_time": "2023-05-01T11:55:05.837994Z"
    }
   }
  },
  {
   "cell_type": "code",
   "execution_count": 45,
   "outputs": [
    {
     "name": "stdout",
     "output_type": "stream",
     "text": [
      " Feature Names:  ['abay' 'abc' 'abd' ... 'zonked' 'zzzz' 'zzzzzzz']\n"
     ]
    }
   ],
   "source": [
    "# Get output feature names for transformation\n",
    "print(\" Feature Names: \", count_vectorizer.get_feature_names_out())"
   ],
   "metadata": {
    "collapsed": false,
    "ExecuteTime": {
     "start_time": "2023-05-01T13:26:08.217370Z",
     "end_time": "2023-05-01T13:26:08.222965Z"
    }
   }
  },
  {
   "cell_type": "code",
   "execution_count": 46,
   "outputs": [
    {
     "name": "stdout",
     "output_type": "stream",
     "text": [
      "Stop Words:  frozenset({'thereupon', 'though', 'noone', 'six', 'thick', 'otherwise', 'take', 'eleven', 'forty', 'amoungst', 'therein', 'enough', 'thereby', 'per', 'although', 'or', 'besides', 'each', 'anywhere', 'made', 'describe', 'thence', 'it', 'myself', 'least', 'into', 'meanwhile', 'not', 'back', 'across', 'wherever', 'sincere', 'system', 'towards', 'give', 'yourselves', 'why', 'beside', 'always', 'empty', 'ourselves', 'to', 'couldnt', 'else', 'becomes', 'whereafter', 'if', 'in', 'must', 'once', 'serious', 'yours', 'front', 'first', 're', 'latterly', 'when', 'herself', 'until', 'please', 'should', 'fifty', 'all', 'mine', 'whenever', 'etc', 'he', 'how', 'no', 'anyhow', 'also', 'detail', 'everywhere', 'own', 'this', 'there', 'ie', 'so', 'sixty', 'several', 'anyway', 'less', 'seemed', 'and', 'who', 'nine', 'due', 'one', 'around', 'thereafter', 'she', 'nothing', 'along', 'five', 'con', 'well', 'about', 'bottom', 'alone', 'keep', 'during', 'under', 'toward', 'same', 'be', 'only', 'afterwards', 'us', 'over', 'neither', 'out', 'sometime', 'ours', 'co', 'become', 'before', 'anything', 'go', 'via', 'than', 'still', 'we', 'inc', 'then', 'bill', 'those', 'too', 'much', 'beyond', 'between', 'at', 'became', 'them', 'through', 'will', 'interest', 'often', 'yourself', 'while', 'whether', 'could', 'ltd', 'hundred', 'more', 'was', 'without', 'among', 'few', 'both', 'three', 'do', 'something', 'these', 'am', 'nowhere', 'whoever', 'side', 'rather', 'upon', 'former', 'her', 'however', 'somehow', 'ten', 'for', 'himself', 'nobody', 'within', 'except', 'cannot', 'moreover', 'i', 'hereby', 'almost', 'de', 'hasnt', 'mostly', 'they', 'becoming', 'might', 'an', 'never', 'here', 'indeed', 'fill', 'being', 'seem', 'eight', 'found', 'mill', 'him', 'that', 'throughout', 'full', 'thru', 'now', 'whereby', 'had', 'cry', 'find', 'my', 'someone', 'by', 'put', 'on', 'elsewhere', 'get', 'a', 'hers', 'its', 'whom', 'have', 'fire', 'herein', 'is', 'namely', 'others', 'been', 'amongst', 'twelve', 'were', 'either', 'formerly', 'hence', 'but', 'call', 'whither', 'themselves', 'above', 'move', 'where', 'every', 'of', 'thin', 'itself', 'everything', 'because', 'after', 'down', 'hereafter', 'most', 'seems', 'off', 'third', 'with', 'very', 'already', 'me', 'fifteen', 'your', 'would', 'thus', 'somewhere', 'see', 'which', 'as', 'further', 'cant', 'amount', 'any', 'you', 'next', 'another', 'nor', 'ever', 'has', 'their', 'our', 'whereas', 'twenty', 'therefore', 'wherein', 'sometimes', 'whereupon', 'what', 'anyone', 'many', 'latter', 'everyone', 'four', 'since', 'such', 'behind', 'other', 'whatever', 'un', 'from', 'whence', 'whole', 'some', 'beforehand', 'last', 'show', 'part', 'against', 'up', 'seeming', 'eg', 'name', 'may', 'can', 'two', 'again', 'done', 'top', 'none', 'perhaps', 'even', 'yet', 'nevertheless', 'are', 'his', 'the', 'together', 'below', 'hereupon', 'onto', 'whose'})\n"
     ]
    }
   ],
   "source": [
    "# Fetch the effective stop words list.\n",
    "print(\"Stop Words: \", count_vectorizer.get_stop_words())"
   ],
   "metadata": {
    "collapsed": false,
    "ExecuteTime": {
     "start_time": "2023-05-01T13:26:28.525889Z",
     "end_time": "2023-05-01T13:26:28.540556Z"
    }
   }
  },
  {
   "cell_type": "code",
   "execution_count": 47,
   "outputs": [
    {
     "name": "stdout",
     "output_type": "stream",
     "text": [
      "Encoded Document:  [[0 0 0 ... 0 0 0]\n",
      " [0 0 0 ... 0 0 0]\n",
      " [0 0 0 ... 0 0 0]\n",
      " ...\n",
      " [0 0 0 ... 0 0 0]\n",
      " [0 0 0 ... 0 0 0]\n",
      " [0 0 0 ... 0 0 0]]\n"
     ]
    }
   ],
   "source": [
    "# Summarizing the Encoded Texts\n",
    "print(\"Encoded Document: \", count_vectors.toarray())"
   ],
   "metadata": {
    "collapsed": false,
    "ExecuteTime": {
     "start_time": "2023-05-01T13:26:50.313137Z",
     "end_time": "2023-05-01T13:26:50.348864Z"
    }
   }
  },
  {
   "cell_type": "markdown",
   "metadata": {},
   "source": [
    "#### Split train and test set"
   ]
  },
  {
   "cell_type": "code",
   "execution_count": 49,
   "metadata": {
    "ExecuteTime": {
     "start_time": "2023-05-01T13:30:47.527650Z",
     "end_time": "2023-05-01T13:30:47.533855Z"
    }
   },
   "outputs": [],
   "source": [
    "# Import train_test_split\n",
    "from sklearn.model_selection import train_test_split\n",
    " \n",
    "# Partition data into training and testing set \n",
    "X_train, X_test, y_train, y_test = train_test_split(count_vectors, df['feedback'], test_size=0.3, random_state=1)"
   ]
  },
  {
   "cell_type": "markdown",
   "metadata": {},
   "source": [
    "#### Classification Model Building using Logistic Regression"
   ]
  },
  {
   "cell_type": "code",
   "execution_count": 50,
   "metadata": {
    "ExecuteTime": {
     "start_time": "2023-05-01T13:30:49.873835Z",
     "end_time": "2023-05-01T13:30:49.915589Z"
    }
   },
   "outputs": [],
   "source": [
    "# import logistic regression scikit-learn model\n",
    "from sklearn.linear_model import LogisticRegression\n",
    " \n",
    "# instantiate the model\n",
    "logreg = LogisticRegression(solver='lbfgs')\n",
    " \n",
    "# fit the model with data\n",
    "logreg.fit(X_train,y_train)\n",
    " \n",
    "# Forecast the target variable for given test dataset\n",
    "predictions = logreg.predict(X_test)"
   ]
  },
  {
   "cell_type": "markdown",
   "metadata": {},
   "source": [
    "#### Evaluate the Classification Model"
   ]
  },
  {
   "cell_type": "code",
   "execution_count": 51,
   "metadata": {
    "scrolled": true,
    "ExecuteTime": {
     "start_time": "2023-05-01T13:30:53.650701Z",
     "end_time": "2023-05-01T13:30:53.662031Z"
    }
   },
   "outputs": [
    {
     "name": "stdout",
     "output_type": "stream",
     "text": [
      "Logistic Regression Model Accuracy: 0.9428571428571428\n",
      "Logistic Regression Model Precision: 0.952433628318584\n",
      "Logistic Regression Model Recall: 0.9873853211009175\n",
      "Logistic Regression Model F1-Score: 0.9695945945945945\n"
     ]
    }
   ],
   "source": [
    "# Import metrics module for performance evaluation\n",
    "from sklearn.metrics import accuracy_score\n",
    "from sklearn.metrics import precision_score\n",
    "from sklearn.metrics import recall_score\n",
    "from sklearn.metrics import f1_score\n",
    "\n",
    "# Assess model performance using accuracy measure\n",
    "print(\"Logistic Regression Model Accuracy:\",accuracy_score(y_test, predictions))\n",
    "# Calculate model precision\n",
    "print(\"Logistic Regression Model Precision:\",precision_score(y_test, predictions))\n",
    "# Calculate model recall\n",
    "print(\"Logistic Regression Model Recall:\",recall_score(y_test, predictions))\n",
    "# Calculate model f1 score\n",
    "print(\"Logistic Regression Model F1-Score:\",f1_score(y_test, predictions))"
   ]
  },
  {
   "cell_type": "markdown",
   "metadata": {},
   "source": [
    "### Classification using TF-IDF"
   ]
  },
  {
   "cell_type": "code",
   "execution_count": 52,
   "metadata": {
    "ExecuteTime": {
     "start_time": "2023-05-01T13:38:12.013745Z",
     "end_time": "2023-05-01T13:38:12.031451Z"
    }
   },
   "outputs": [
    {
     "name": "stderr",
     "output_type": "stream",
     "text": [
      "/Users/dmmil/.pyenv/versions/env3.10.8/lib/python3.10/site-packages/sklearn/feature_extraction/text.py:528: UserWarning: The parameter 'token_pattern' will not be used since 'tokenizer' is not None'\n",
      "  warnings.warn(\n"
     ]
    }
   ],
   "source": [
    "# Import TfidfVectorizer and RegexTokenizer\n",
    "from nltk.tokenize import RegexpTokenizer\n",
    "from sklearn.feature_extraction.text import TfidfVectorizer\n",
    "\n",
    "# Create Regex tokenizer for removing special symbols and numeric values \n",
    "regex_tokenizer = RegexpTokenizer(r'[a-zA-Z]+')\n",
    " \n",
    "# Initialize TfidfVectorizer object\n",
    "tfidf = TfidfVectorizer(lowercase=True,stop_words='english',ngram_range = (1,1),tokenizer = regex_tokenizer.tokenize)\n",
    " \n",
    "# Fit and transform the dataset\n",
    "text_tfidf= tfidf.fit_transform(df['verified_reviews'])"
   ]
  },
  {
   "cell_type": "code",
   "execution_count": 56,
   "outputs": [
    {
     "name": "stdout",
     "output_type": "stream",
     "text": [
      "Vocabulary:  {'love': 1962, 'echo': 1026, 'loved': 1963, 'playing': 2408, 'game': 1345, 'answer': 162, 'question': 2562, 'correctly': 723, 'alexa': 116, 'says': 2827, 'got': 1405, 'wrong': 3703, 'answers': 165, 'like': 1888, 'able': 5, 'turn': 3446, 'lights': 1887, 'away': 263, 'home': 1547, 'lot': 1956, 'fun': 1327, 'thing': 3333, 'yr': 3729, 'old': 2226, 'learns': 1860, 'dinosaurs': 910, 'control': 697, 'play': 2405, 'games': 1346, 'categories': 491, 'nice': 2165, 'sound': 3059, 'music': 2118, 'received': 2622, 'gift': 1376, 'needed': 2145, 'bluetooth': 362, 'easily': 1022, 'accessible': 15, 'smart': 3004, 'speaker': 3080, 't': 3259, 'wait': 3594, 'having': 1490, 'cellphone': 502, 'use': 3525, 'features': 1232, 'ipad': 1735, 'great': 1427, 'alarm': 109, 'u': 3464, 'r': 2575, 'deaf': 811, 'hear': 1502, 'bedroom': 311, 'living': 1916, 'room': 2783, 'reason': 2611, 'ask': 214, 'random': 2582, 'questions': 2564, 'response': 2748, 'does': 967, 'smartbon': 3005, 'politics': 2430, 'think': 3335, 'th': 3321, 've': 3548, 'purchased': 2544, 'm': 1981, 'working': 3687, 'getting': 1372, 'house': 1570, 'really': 2610, 'offer': 2216, 'specifily': 3088, 'echos': 1029, 'controlling': 702, 'looks': 1946, 'listened': 1905, 'songs': 3044, 'haven': 1488, 'heard': 1503, 'childhood': 540, 'news': 2160, 'weather': 3631, 'information': 1656, 's': 2805, 'sent': 2888, 'year': 3715, 'dad': 793, 'talks': 3272, 'constantly': 681, 'learning': 1859, 'knew': 1804, 'things': 3334, 'eveyday': 1129, 'figuring': 1251, 'works': 3690, 'far': 1216, 'easy': 1024, 'understand': 3475, 'make': 1997, 'laugh': 1845, 'times': 3362, 'mother': 2105, 'knee': 1803, 'problems': 2495, 'trying': 3438, 'come': 601, 'fast': 1220, 'did': 886, 'enjoys': 1087, 'little': 1912, 'big': 337, 'song': 3043, 'time': 3359, 'cook': 710, 'just': 1781, 'expected': 1161, 'wife': 3658, 'hates': 1486, 'happy': 1474, 'purchase': 2543, 'set': 2900, 'using': 3532, 'couple': 737, 'days': 808, 'new': 2157, 'toy': 3401, 'household': 1571, 'member': 2039, 'learn': 1856, 'different': 894, 'featues': 1229, 'benefits': 326, 'size': 2980, 'nd': 2138, 'generation': 1366, 'needs': 2147, 'improvement': 1620, 'liked': 1889, 'original': 2265, 'shorter': 2933, 'greater': 1428, 'fabric': 1189, 'color': 594, 'choices': 544, 'miss': 2081, 'volume': 3590, 'ring': 2775, 'plus': 2421, 'minus': 2075, 'buttons': 438, 'deal': 812, 'w': 3593, 'comforting': 606, 'standard': 3133, 'usb': 3523, 'charger': 525, 'port': 2436, 'instead': 1680, 'previous': 2477, 'round': 2791, 'pin': 2389, 'guess': 1446, 'sounds': 3064, 'work': 3683, 'computer': 646, 'good': 1399, 'understands': 3477, 'commands': 610, 'difficult': 896, 'specific': 3086, 'playlists': 2410, 'spotify': 3113, 'amazon': 146, 'lacking': 1823, 'major': 1996, 'programs': 2508, 'radio': 2576, 'itunes': 1755, 'podcasts': 2426, 'anypod': 173, 'reminders': 2697, 'listen': 1904, 'flash': 1275, 'briefing': 400, 'morning': 2104, 'rely': 2688, 'custom': 777, 'lists': 1908, 'voice': 3584, 'sure': 3237, 'll': 1918, 'continue': 693, 'uses': 3531, 'bit': 345, 'frustrating': 1322, 'doesn': 968, 'saying': 2826, 'adding': 56, 'devices': 879, 'stationed': 3150, 'kitchen': 1802, 'counter': 731, 'intrusive': 1720, 'look': 1943, 'plays': 2411, 'sleep': 2988, 'immediately': 1609, 'second': 2863, 'unit': 3487, 'expecting': 1162, 'improved': 1619, 'didnt': 888, 'difference': 892, 'overall': 2279, 'st': 3126, 'amazing': 144, 'product': 2499, 'operate': 2243, 'loads': 1925, 'advertised': 81, 'mainly': 1990, 'favorite': 1227, 'tunes': 3445, 'test': 3313, 'knowledge': 1811, 'item': 1753, 'used': 3526, 'hard': 1475, 'answering': 164, 'better': 330, 'capabilities': 468, 'pretty': 2473, 'command': 608, 'unique': 3486, 'owners': 2291, 'users': 3530, 'tasha': 3280, 'birthday': 344, 'definition': 836, 'fine': 1259, 'speakers': 3081, 'small': 3002, 'setup': 2907, 'bought': 387, 'rate': 2590, 'followed': 1292, 'instructions': 1682, 'synching': 3256, 'units': 3488, 'know': 1808, 'won': 3672, 'sync': 3254, 'primary': 2485, 'motivation': 2106, 'purchasing': 2547, 'multiple': 2117, 'device': 877, 'awesome': 264, 'compare': 628, 'quality': 2557, 'ship': 2922, 'daughter': 806, 'fact': 1195, 'chargeable': 524, 'base': 291, 'keeps': 1788, 'mobile': 2088, 'wasn': 3615, 'follow': 1291, 'included': 1629, 'package': 2294, 'tube': 3440, 'way': 3625, 'cool': 712, 'want': 3607, 'digital': 899, 'assistant': 225, 'giving': 1382, 'review': 2765, 'cheap': 533, 'price': 2479, 'prime': 2486, 'day': 807, 'clock': 572, 'going': 1395, 'place': 2393, 'ended': 1072, 'definitely': 835, 'try': 3437, 'best': 327, 'number': 2200, 'connect': 667, 'came': 457, 'plug': 2417, 'lamp': 1831, 'husband': 1586, 'likes': 1891, 'wish': 3667, 'android': 158, 'allow': 125, 'fortunately': 1308, 'sister': 2974, 'apple': 183, 'cell': 501, 'hour': 1568, 'tech': 3287, 'support': 3231, 'fixed': 1270, 'glitches': 1388, 'running': 2802, 'tried': 3425, 'certain': 505, 'broadway': 408, 'shows': 2942, 'camelot': 458, 'gives': 1381, 'ne': 2139, 'group': 1438, 'satisfied': 2817, 'controls': 703, 'family': 1211, 'jimmy': 1767, 'buffet': 418, 'asking': 217, 'siri': 2971, 'accurately': 30, 'don': 976, 'real': 2605, 'need': 2144, 'bargain': 286, 'deals': 813, 'tons': 3384, 'list': 1903, 'account': 26, 'pay': 2333, 'stars': 3139, 'excelente': 1140, 'lo': 1922, 'unico': 3483, 'es': 1106, 'que': 2559, 'esta': 1115, 'en': 1066, 'espa': 1109, 'ol': 2225, 'actually': 46, 'd': 792, 'expect': 1158, 'considering': 676, 'sale': 2810, 'phenomenal': 2365, 'mention': 2043, 'helpful': 1517, 'google': 1403, 'lets': 1873, 'friends': 1320, 'company': 626, 'say': 2825, 'tells': 3303, 'joke': 1771, 'available': 259, 'overview': 2285, 'built': 424, 'hub': 1575, 'primarily': 2484, 'wonderfully': 3675, 'tips': 3371, 'thanks': 3323, 'help': 1514, 'clear': 566, 'concise': 653, 'fantastic': 1215, 'alexia': 119, 'usde': 3524, 'extent': 1180, 'na': 2123, 'nana': 2126, 'said': 2809, 'speak': 3079, 'function': 1331, 'collections': 590, 'setting': 2902, 'fios': 1263, 'television': 3300, 'hoping': 1559, 'discovered': 938, 'stations': 3151, 'long': 1940, 'ranger': 2585, 'apps': 194, 'add': 51, 'abilities': 3, 'played': 2406, 'madlibs': 1986, 'appliances': 185, 'compatible': 630, 'power': 2451, 'strips': 3183, 'lighting': 1885, 'fans': 1214, 'tv': 3450, 'components': 644, 'looking': 1945, 'forward': 1310, 'implementing': 1613, 'controll': 698, 'chosen': 550, 'rooms': 2785, 'located': 1928, 'excellent': 1141, 'perfectly': 2345, 'nervous': 2152, 'savvy': 2822, 'intimidating': 1716, 'didn': 887, 'figure': 1249, 'thinking': 3336, 'spot': 3112, 'technology': 3294, 'believe': 321, 'wonderful': 3674, 'dot': 982, 'fathers': 1224, 'hearing': 1504, 'brainer': 390, 'charge': 523, 'cent': 503, 'unlimited': 3492, 'buy': 439, 'fuller': 1324, 'phone': 2372, 'calls': 452, 'contact': 685, 'patient': 2328, 'discount': 934, 'offered': 2217, 'pass': 2323, 'comes': 603, 'playlist': 2409, 'iphone': 1738, 'pandora': 2307, 'youtube': 3728, 'videos': 3567, 'types': 3460, 'countries': 734, 'downside': 990, 'limited': 1896, 'data': 802, 'wifi': 3659, 'plan': 2399, 'burns': 433, 'strictly': 3181, 'material': 2023, 'hooked': 1555, 'light': 1882, 'additional': 58, 'thermostat': 3330, 'traffic': 3405, 'trivia': 3429, 'entire': 1095, 'loves': 1966, 'functions': 1334, 'wow': 3700, 'homework': 1550, 'talking': 3271, 'grandchildren': 1412, 'huge': 1581, 'bonus': 370, 'worked': 3685, 'exactly': 1134, 'perfect': 2344, 'classroom': 562, 'gadget': 1341, 'lives': 1915, 'easier': 1021, 'personal': 2357, 'secretary': 2866, 'hardly': 1478, 'cd': 496, 'anymore': 172, 'dots': 983, 'soon': 3048, 'surprising': 3242, 'impressed': 1616, 'bass': 297, 'coming': 607, 'bigger': 338, 'props': 2520, 'worse': 3694, 'feels': 1240, 'gen': 1362, 'addition': 57, 'outlet': 2270, 'disappointed': 922, 'responsive': 2750, 'terrible': 3311, 'bose': 379, 'troubling': 3433, 'paid': 2301, 'extra': 1182, 'money': 2098, 'access': 13, 'million': 2064, 'ex': 1132, 'italian': 1751, 'opera': 2242, 'tosca': 3391, 'sorry': 3057, 'bad': 274, 'plugged': 2418, 'outside': 2274, 'battery': 302, 'recharged': 2630, 'ways': 3626, 'hit': 1537, 'grandkids': 1415, 'dance': 796, 'yrs': 3730, 'cute': 784, 'generally': 1365, 'doing': 972, 'timers': 3361, 'making': 1999, 'connection': 670, 'dies': 890, 'stops': 3168, 'red': 2652, 'issue': 1747, 'upgraded': 3512, 'couldn': 730, 'happier': 1473, 'lilttle': 1894, 'ease': 1020, 'provides': 2531, 'enhanced': 1081, 'clarity': 558, 'age': 95, 'delivery': 847, 'initially': 1661, 'harder': 1477, 'called': 450, 'knowledgeable': 1812, 'live': 1913, 'enjoy': 1082, 'style': 3195, 'greade': 1426, 'wireless': 3666, 'blasting': 350, 'busy': 435, 'picks': 2383, 'asked': 215, 'check': 536, 'remembering': 2693, 'week': 3636, 'quicker': 2566, 'grab': 1408, 'twist': 3455, 'press': 2470, 'thoroughly': 3339, 'enjoying': 1085, 'ecoo': 1032, 'read': 2600, 'audiobook': 245, 'office': 2219, 'simply': 2961, 'open': 2238, 'kindle': 1799, 'listening': 1906, 'mood': 2103, 'book': 371, 'talk': 3269, 'turning': 3448, 'job': 1768, 'streaming': 3179, 'sirius': 2972, 'process': 2497, 'started': 3141, 'keeping': 1787, 'shopping': 2929, 'grocery': 1435, 'search': 2859, 'paper': 2309, 'pencil': 2339, 'temperature': 3305, 'reports': 2724, 'fussy': 1338, 'woofers': 3679, 'tweeters': 3453, 'afternoon': 94, 'dropping': 1005, 'son': 3042, 'gets': 1371, 'surprise': 3240, 'multi': 2116, 'qvc': 2574, 'annoying': 161, 'downloaded': 987, 'spend': 3099, 'phrase': 2378, 'machine': 1983, 'beginning': 318, 'accidentally': 20, 'spilled': 3103, 'water': 3622, 'replaced': 2716, 'decided': 818, 'minutes': 2077, 'tell': 3301, 'trouble': 3430, 'finding': 1257, 'title': 3373, 'moved': 2110, 'basement': 294, 'requests': 2729, 'somewhat': 3041, 'half': 1460, 'recognize': 2635, 'sprinkler': 3117, 'controller': 701, 'details': 871, 'program': 2504, 'change': 515, 'settings': 2903, 'matched': 2022, 'router': 2793, 'handy': 1467, 'player': 2407, 'kids': 1795, 'pleasantly': 2412, 'surprised': 3241, 'particular': 2317, 'artist': 210, 'books': 372, 'simple': 2956, 'exploring': 1174, 'options': 2254, 'met': 2051, 'exceeded': 1138, 'expectations': 1160, 'quick': 2565, 'responses': 2749, 'kind': 1797, 'request': 2727, 'informative': 1657, 'photo': 2375, 'pamphlet': 2306, 'thorough': 3338, 'line': 1897, 'video': 3566, 'app': 177, 'define': 834, 'example': 1135, 'integrated': 1684, 'words': 3682, 'exact': 1133, 'match': 2021, 'names': 2125, 'remember': 2692, 'ready': 2604, 'nature': 2130, 'respond': 2745, 'queries': 2561, 'added': 52, 'audible': 241, 'makes': 1998, 'thank': 3322, 'resist': 2740, 'connecting': 669, 'plugs': 2420, 'let': 1872, 'skills': 2984, 'routines': 2796, 'audiophile': 247, 'watching': 3621, 'movies': 2112, 'high': 1528, 'design': 863, 'modern': 2093, 'touch': 3396, 'covers': 743, 'enables': 1069, 'possibilities': 2444, 'versatile': 3554, 'killer': 1796, 'regret': 2675, 'waiting': 3596, 'pleased': 2413, 'stopped': 3167, 'weeks': 3641, 'performs': 2351, 'provide': 2528, 'terminology': 3310, 'various': 3546, 'kinds': 1800, 'subscribing': 3202, 'service': 2898, 'knowing': 1809, 'provided': 2529, 'free': 1312, 'chart': 530, 'showing': 2939, 'language': 1834, 'investment': 1729, 'helped': 1515, 'exho': 1152, 'gender': 1363, 'band': 279, 'jazz': 1762, 'local': 1926, 'stop': 3166, 'value': 3543, 'super': 3226, 'loving': 1967, 'whats': 3648, 'father': 1223, 'joked': 1772, 'mom': 2094, 'repeated': 2711, 'stories': 3171, 'breakfast': 396, 'instantly': 1679, 'slowly': 3000, 'sad': 2806, 'worthless': 3697, 'entertainment': 1094, 'beat': 305, 'portability': 2437, 'till': 3358, 'stoled': 3165, 'afford': 91, 'replace': 2715, 'rocks': 2780, 'allows': 128, 'amozon': 153, 'worth': 3696, 'briefs': 402, 'jokes': 1773, 'told': 3379, 'hours': 1569, 'later': 1843, 'life': 1879, 'large': 1837, 'returning': 2764, 'order': 2257, 'tou': 3395, 'user': 3529, 'friendly': 1319, 'wall': 3605, 'socket': 3026, 'fault': 1225, 'checking': 538, 'assumption': 229, 'technologically': 3293, 'advanced': 77, 'sell': 2877, 'rechargeable': 2629, 'return': 2761, 'boom': 373, 'flexibility': 1283, 'aux': 254, 'external': 1181, 'wouldn': 3699, 'isn': 1744, 'override': 2283, 'default': 828, 'prevents': 2475, 'blue': 360, 'tooth': 3389, 'delay': 842, 'bt': 412, 'interaction': 1696, 'schedule': 2831, 'connected': 668, 'supberb': 3225, 'lots': 1957, 'updates': 3509, 'sports': 3111, 'intuitive': 1721, 'link': 1899, 'hang': 1468, 'complaints': 637, 'suggestions': 3220, 'future': 1339, 'series': 2893, 'communication': 619, 'ability': 4, 'unless': 3490, 'specify': 3089, 'prior': 2489, 'repeat': 2710, 'odd': 2214, 'maybe': 2026, 'southern': 3068, 'manners': 2009, 'described': 861, 'automatic': 251, 'enrolment': 1088, 'owned': 2289, 'overa': 2278, 'lacks': 1824, 'increase': 1637, 'decrease': 824, 'telling': 3302, 'english': 1080, 'born': 378, 'korea': 1817, 'superb': 3227, 'info': 1654, 'hot': 1566, 'recognizes': 2636, 'discovering': 940, 'paroduct': 2315, 'range': 2584, 'complicated': 641, 'quite': 2570, 'speaking': 3082, 'clearly': 568, 'feature': 1230, 'interfacing': 1704, 'abode': 6, 'security': 2868, 'absolutely': 7, 'dislike': 943, 'installation': 1673, 'kasa': 1784, 'sinqued': 2970, 'right': 2774, 'bulb': 425, 'seamless': 2856, 'automation': 253, 'anticipated': 169, 'fairly': 1204, 'manufacturers': 2013, 'lg': 1876, 'supporting': 3233, 'older': 2227, 'tvs': 3451, 'locks': 1933, 'piece': 2388, 'equipment': 1102, 'fabulous': 1190, 'invested': 1727, 'extremely': 1184, 'warehouse': 3610, 'minor': 2071, 'imperfection': 1612, 'packaging': 2297, 'sealed': 2855, 'damage': 795, 'missing': 2083, 'knock': 1806, 'curve': 776, 'integrates': 1685, 'seamlessly': 2857, 'services': 2899, 'sleeping': 2990, 'changer': 517, 'seriously': 2894, 'start': 3140, 'wake': 3598, 'gotten': 1406, 'hesitate': 1522, 'unbelievable': 3472, 'buying': 442, 'cordless': 718, 'holder': 1542, 'lapsed': 1835, 'differentiate': 895, 'accounts': 27, 'randomly': 2583, 'speaks': 3083, 'today': 3376, 'unplugged': 3498, 'electronics': 1056, 'comment': 611, 'pod': 2424, 'car': 473, 'penny': 2340, 'employees': 1065, 'flat': 1277, 'bedrooms': 312, 'drop': 1003, 'intercom': 1699, 'alarms': 110, 'school': 2835, 'timer': 3360, 'condition': 654, 'responds': 2747, 'quickly': 2567, 'issues': 1748, 'scheduling': 2834, 'thoughts': 3342, 'recorded': 2647, 'amazed': 142, 'actions': 37, 'perform': 2347, 'smaller': 3003, 'funny': 1335, 'winds': 3664, 'totally': 3394, 'useful': 3527, 'slightly': 2997, 'hears': 1505, 'unfortunately': 3480, 'frequently': 1315, 'usually': 3534, 'consider': 675, 'upgrade': 3511, 'experience': 1164, 'personality': 2358, 'mini': 2068, 'yes': 3721, 'excited': 1149, 'begin': 316, 'grandsons': 1421, 'watch': 3619, 'goo': 1398, 'enjoyed': 1084, 'result': 2757, 'straightforward': 3176, 'messed': 2050, 'thought': 3341, 'step': 3158, 'complete': 638, 'lose': 1951, 'ground': 1437, 'figured': 1250, 'advice': 84, 'biggest': 339, 'moment': 2095, 'intercoms': 1700, 'aware': 262, 'existence': 1153, 'likely': 1890, 'designers': 865, 'anticipate': 168, 'people': 2341, 'challenge': 511, 'tap': 3275, 'improvements': 1621, 'bugs': 421, 'adjust': 67, 'treble': 3418, 'probably': 2493, 'fan': 1212, 'deep': 826, 'sufficient': 3215, 'potential': 2449, 'option': 2252, 'explore': 1172, 'evolve': 1130, 'recognition': 2634, 'impressive': 1617, 'stylish': 3196, 'regrets': 2676, 'technically': 3290, 'changes': 518, 'movie': 2111, 'elderly': 1050, 'premium': 2465, 'blown': 358, 'dj': 962, 'conversations': 707, 'embarrassed': 1062, 'packages': 2296, 'addict': 53, 'arrived': 207, 'ago': 98, 'forget': 1302, 'ordering': 2259, 'pool': 2431, 'worry': 3693, 'hiring': 1535, 'electrician': 1052, 'outlets': 2271, 'yard': 3712, 'terrific': 3312, 'nicer': 2167, 'late': 1841, 'adopters': 72, 'decide': 817, 'serve': 2896, 'source': 3066, 'changing': 519, 'directv': 916, 'channels': 521, 'iheartradio': 1598, 'adjusts': 70, 'ac': 9, 'turns': 3449, 'wanting': 3609, 'glad': 1384, 'stuff': 3191, 'non': 2180, 'personally': 2361, 'cooking': 711, 'simultaneously': 2962, 'integration': 1687, 'daily': 794, 'subject': 3199, 'hesitant': 1521, 'feel': 1238, 'superior': 3228, 'greatest': 1429, 'showman': 2940, 'pain': 2302, 'crappy': 751, 'internet': 1711, 'inside': 1669, 'bummed': 429, 'efficient': 1044, 'comparable': 627, 'gave': 1355, 'concerned': 650, 'enjoyment': 1086, 'pleasure': 2415, 'timing': 3363, 'enter': 1089, 'password': 2324, 'apartment': 176, 'given': 1380, 'bathroom': 298, 'metro': 2052, 'booming': 375, 'replacement': 2717, 'night': 2170, 'stand': 3131, 'barely': 285, 'sf': 2911, 'sitting': 2978, 'functionality': 1333, 'discover': 937, 'pure': 2548, 'especially': 1111, 'communicate': 616, 'turned': 3447, 'calling': 451, 'dancing': 797, 'lol': 1937, 'wedding': 3635, 'update': 3507, 'genre': 1368, 'wi': 3655, 'fi': 1246, 'entertaining': 1093, 'products': 2501, 'helps': 1519, 'prepare': 2466, 'weak': 3627, 'stream': 3178, 'months': 2102, 'kinda': 1798, 'useless': 3528, 'hoped': 1557, 'download': 986, 'pc': 2336, 'installing': 1675, 'invasive': 1724, 'drivers': 1000, 'retired': 2760, 'install': 1672, 'supplying': 3230, 'inconvenient': 1635, 'compact': 624, 'upstairs': 3518, 'lve': 1977, 'tekkie': 3298, 'prize': 2491, 'course': 738, 'longer': 1941, 'unresponsive': 3499, 'reset': 2738, 'grandaughter': 1411, 'miles': 2063, 'ones': 2232, 'duty': 1013, 'boost': 376, 'definitively': 837, 'star': 3137, 'ahead': 101, 'audio': 243, 'auxiliary': 255, 'input': 1665, 'dedicated': 825, 'proved': 2526, 'brand': 391, 'main': 1989, 'refurbished': 2666, 'relaxing': 2682, 'recommend': 2638, 'loud': 1958, 'select': 2872, 'rd': 2595, 'party': 2322, 'box': 388, 'sending': 2882, 'asap': 212, 'waste': 3617, 'man': 2004, 'pictures': 2387, 'cord': 717, 'prefer': 2462, 'purpose': 2550, 'cheaper': 534, 'act': 34, 'encyclopedias': 1070, 'nest': 2153, 'phillips': 2370, 'hue': 1579, 'leaving': 1864, 'chair': 509, 'aren': 197, 'dislikes': 944, 'amazons': 148, 'promised': 2512, 'returned': 2762, 'refund': 2662, 'refunds': 2663, 'weird': 3643, 'pauses': 2332, 'speech': 3093, 'pattern': 2330, 'present': 2468, 'shower': 2937, 'spoken': 3109, 'promp': 2515, 'word': 3681, 'shipping': 2925, 'poop': 2432, 'month': 2100, 'poor': 2433, 'arent': 198, 'naw': 2134, 'techie': 3288, 'friend': 1318, 'looked': 1944, 'adapter': 49, 'strong': 3184, 'dollar': 973, 'store': 3170, 'hope': 1556, 'trek': 3419, 'outsmart': 2275, 'include': 1628, 'spelling': 3098, 'background': 271, 'wanted': 3608, 'responding': 2746, 'foot': 1294, 'yelling': 3718, 'performing': 2350, 'dont': 977, 'trust': 3436, 'beautiful': 306, 'accessories': 17, 'divertido': 961, 'guest': 1447, 'center': 504, 'save': 2819, 'bucks': 413, 'prompt': 2516, 'flawlessly': 1280, 'complain': 633, 'n': 2122, 'spell': 3097, 'iove': 1734, 'tinny': 3368, 'attach': 233, 'fm': 1289, 'reception': 2628, 'software': 3030, 'horrible': 1561, 'native': 2128, 'americans': 151, 'north': 2185, 'texas': 3316, 'accent': 10, 'birth': 343, 'area': 195, 'understanding': 3476, 'additionally': 59, 'marginal': 2014, 'extender': 1177, 'feet': 1242, 'switched': 3251, 'disconnected': 930, 'dust': 1012, 'collectors': 591, 'broken': 410, 'spent': 3101, 'fixes': 1271, 'accomplished': 23, 'went': 3646, 'rubber': 2800, 'unplug': 3497, 'laundry': 1848, 'granddaughter': 1413, 'moving': 2113, 'outdoors': 2269, 'certified': 507, 'receiving': 2625, 'acknowledge': 32, 'indicated': 1642, 'productsand': 2502, 'journey': 1774, 'improve': 1618, 'problem': 2494, 'surely': 3238, 'larger': 1838, 'portion': 2439, 'leary': 1861, 'puny': 2540, 'wear': 3629, 'tear': 3285, 'shuts': 2946, 'mint': 2074, 'owning': 2293, 'frustrated': 1321, 'finally': 1256, 'reach': 2596, 'remote': 2701, 'parts': 2321, 'teenagers': 3296, 'insist': 1670, 'dinner': 909, 'convenient': 705, 'refurb': 2664, 'saved': 2820, 'worried': 3692, 'nights': 2172, 'planning': 2401, 'parents': 2313, 'everyday': 1127, 'granted': 1423, 'young': 3725, 'simplicity': 2958, 'gazebo': 1356, 'sort': 3058, 'research': 2733, 'tool': 3387, 'variety': 3545, 'louder': 1959, 'internal': 1709, 'universal': 3489, 'charging': 526, 'outstanding': 2276, 'saving': 2821, 'means': 2030, 'run': 2801, 'diagnostics': 883, 'corrected': 722, 'roomba': 2784, 'goes': 1394, 'mean': 2028, 'crashed': 752, 'disconnect': 929, 'orange': 2255, 'freeze': 1313, 'reboot': 2615, 'mid': 2060, 'sentence': 2889, 'holding': 1543, 'action': 36, 'button': 437, 'seconds': 2864, 'fix': 1269, 'buyer': 440, 'purchases': 2546, 'ordered': 2258, 'honestly': 1552, 'performance': 2348, 'learned': 1857, 'portable': 2438, 'highly': 1531, 'recommended': 2639, 'rep': 2707, 'walked': 3602, 'solved': 3038, 'shocked': 2926, 'effort': 1045, 'including': 1631, 'email': 1061, 'clone': 576, 'boat': 365, 'garage': 1350, 'gf': 1373, 'intermittently': 1708, 'channel': 520, 'okay': 2224, 'confusing': 665, 'green': 1431, 'case': 486, 'took': 3386, 'notification': 2191, 'supposed': 3236, 'yellow': 3719, 'pulsate': 2537, 'message': 2047, 'pulsed': 2538, 'buddies': 414, 'breeze': 397, 'close': 577, 'psychological': 2533, 'haha': 1455, 'defective': 830, 'taken': 3265, 'excellently': 1142, 'amazingly': 145, 'helping': 1518, 'appointments': 188, 'whe': 3650, 'showering': 2938, 'reconditioned': 2641, 'pare': 2312, 'weary': 3630, 'picking': 2382, 'actively': 43, 'happening': 1471, 'concerning': 651, 'release': 2684, 'widespread': 3657, 'push': 2552, 'firmware': 1266, 'prevent': 2474, 'cortna': 725, 'application': 186, 'alive': 123, 'thumbs': 3349, 'workreat': 3689, 'spoke': 3108, 'registered': 2674, 'spanking': 3076, 'grandson': 1420, 'taking': 3267, 'laying': 1851, 'bed': 310, 'moana': 2087, 'completely': 640, 'scared': 2828, 'sh': 2912, 'essentially': 1113, 'opening': 2240, 'versatility': 3555, 'fee': 1233, 'cordthank': 719, 'shouldn': 2935, 'brandnew': 392, 'collection': 589, 'god': 1392, 'sonos': 3045, 'worst': 3695, 'online': 2234, 'microphone': 2057, 'pick': 2380, 'appear': 181, 'disappoint': 921, 'receiver': 2623, 'output': 2272, 'vintage': 3572, 'stereo': 3160, 'edit': 1036, 'longevity': 1942, 'compliments': 643, 'bough': 386, 'echoes': 1027, 'bathrooms': 299, 'detect': 872, 'disconnects': 933, 'significant': 2952, 'shelled': 2918, 'awhile': 266, 'electronically': 1055, 'savy': 2823, 'sink': 2969, 'ran': 2581, 'refurbishedthought': 2667, 'guys': 1451, 'meditation': 2036, 'eye': 1186, 'drops': 1006, 'eyes': 1187, 'closed': 578, 'minute': 2076, 'backyard': 273, 'deck': 821, 'substitute': 3207, 'highest': 1530, 'level': 1874, 'netflix': 2155, 'stick': 3161, 'warranty': 3613, 'assumed': 227, 'sold': 3032, 'higher': 1529, 'standards': 3134, 'guaranteeing': 1444, 'junk': 1780, 'whatsoever': 3649, 'uncle': 3473, 'haywire': 1491, 'quit': 2569, 'soft': 3028, 'advised': 86, 'writing': 3702, 'raised': 2579, 'customer': 778, 'dunno': 1011, 'lately': 1842, 'guy': 1450, 'rambled': 2580, 'unhelpful': 3482, 'script': 2850, 'middle': 2061, 'spiel': 3102, 'norm': 2183, 'finicky': 1261, 'ghz': 1375, 'reconnecting': 2645, 'mic': 2056, 'sensitivity': 2887, 'limitations': 1895, 'hey': 1524, 'responsiveness': 2751, 'hold': 1541, 'true': 3434, 'albeit': 111, 'arlo': 203, 'nil': 2174, 'special': 3084, 'led': 1865, 'rainbow': 2578, 'effects': 1042, 'handle': 1463, 'knows': 1814, 'solid': 3034, 'colors': 595, 'brightness': 404, 'levels': 1875, 'rating': 2591, 'lower': 1969, 'decent': 816, 'connectivity': 671, 'persist': 2355, 'exchange': 1146, 'growing': 1440, 'theirs': 3327, 'treadmill': 3416, 'tower': 3399, 'xs': 3709, 'model': 2091, 'activated': 39, 'yell': 3717, 'lauded': 1844, 'convenience': 704, 'screaming': 2844, 'chance': 514, 'excuses': 1151, 'disappointments': 925, 'effortless': 1046, 'flawless': 1279, 'walk': 3601, 'door': 978, 'viola': 3573, 'instant': 1677, 'atmosphere': 231, 'accessing': 16, 'joy': 1775, 'sooo': 3050, 'ocean': 2213, 'groups': 1439, 'excitement': 1150, 'alexas': 117, 'obvious': 2209, 'mode': 2090, 'unnecessary': 3495, 'preciously': 2460, 'guard': 1445, 'dog': 970, 'sense': 2885, 'leaves': 1863, 'blinks': 354, 'tricks': 3423, 'functionalities': 1332, 'human': 1583, 'interface': 1703, 'shout': 2936, 'chores': 548, 'dogs': 971, 'golden': 1396, 'expensive': 1163, 'tapped': 3278, 'capable': 470, 'absolutly': 8, 'existing': 1155, 'apprehensive': 190, 'electronic': 1054, 'guarantee': 1443, 'form': 1306, 'sits': 2977, 'desk': 867, 'footprint': 1296, 'verbally': 3552, 'occasionally': 2212, 'alert': 113, 'tardis': 3279, 'land': 1833, 'geeks': 1361, 'chose': 549, 'majel': 1994, 'barret': 289, 'geek': 1360, 'heaven': 1507, 'properly': 2519, 'attached': 234, 'nsa': 2197, 'packaged': 2295, 'zero': 3733, 'entertained': 1092, 'honest': 1551, 'opinion': 2247, 'reads': 2603, 'refurbish': 2665, 'neat': 2142, 'drives': 1001, 'nuts': 2204, 'garbage': 1351, 'total': 3392, 'dissatisfaction': 952, 'lived': 1914, 'low': 1968, 'interesting': 1702, 'wikipedia': 3660, 'department': 854, 'forgotten': 1304, 'mainstream': 1991, 'amusing': 156, 'yards': 3713, 'cotton': 728, 'refer': 2656, 'football': 1295, 'sorely': 3055, 'reasonable': 2612, 'hal': 1459, 'brought': 411, 'seldom': 2871, 'tired': 3372, 'troubleshooting': 3431, 'reconnected': 2644, 'monthly': 2101, 'workout': 3688, 'reaching': 2598, 'row': 2797, 'accurate': 29, 'imagined': 1607, 'im': 1602, 'thats': 3324, 'complaint': 636, 'conspiracy': 679, 'theories': 3329, 'eavesdropping': 1025, 'efforts': 1047, 'government': 1407, 'current': 773, 'degrees': 840, 'requesting': 2728, 'recording': 2648, 'weren': 3647, 'labeled': 1821, 'known': 1813, 'report': 2722, 'ai': 102, 'educational': 1038, 'eh': 1048, 'refurbishing': 2668, 'type': 3458, 'wont': 3677, 'irritating': 1740, 'ita': 1750, 'inexperience': 1651, 'intended': 1692, 'perfecto': 2346, 'white': 3653, 'black': 347, 'shown': 2941, 'realize': 2607, 'died': 889, 'boss': 380, 'performed': 2349, 'owlhead': 2288, 'jacuzzi': 1758, 'attention': 239, 'gaming': 1348, 'nrw': 2196, 'defently': 832, 'ok': 2223, 'stupid': 3193, 'couch': 729, 'shortly': 2934, 'niece': 2168, 'upsetting': 3517, 'crackling': 749, 'noise': 2179, 'introduction': 1719, 'grand': 1410, 'gone': 1397, 'version': 3558, 'plans': 2402, 'date': 803, 'despite': 869, 'trained': 3408, 'wonder': 3673, 'realized': 2608, 'faulty': 1226, 'send': 2881, 'according': 24, 'toilet': 3378, 'truly': 3435, 'contacted': 686, 'credited': 759, 'shop': 2928, 'deliver': 844, 'suggest': 3217, 'hosting': 1565, 'l': 1819, 'lm': 1921, 'fanatic': 1213, 'extend': 1175, 'offers': 2218, 'outdoor': 2268, 'possible': 2445, 'disturbing': 957, 'indoor': 1647, 'weekend': 3639, 'reminder': 2696, 'bible': 336, 'verses': 3557, 'commute': 621, 'dodging': 966, 'linked': 1900, 'refurbs': 2669, 'wakes': 3599, 'unused': 3503, 'states': 3147, 'synced': 3255, 'cam': 455, 'baby': 270, 'crib': 761, 'lyrics': 1980, 'ish': 1742, 'understood': 3478, 'worthy': 3698, 'successor': 3211, 'benefit': 325, 'screen': 2845, 'nightstand': 2173, 'faces': 1193, 'choose': 545, 'displays': 950, 'facetime': 1194, 'shape': 2914, 'bedside': 313, 'theecho': 3326, 'mybedroom': 2121, 'answered': 163, 'wasconcerned': 3614, 'discoveredthat': 939, 'avoid': 260, 'confusion': 666, 'named': 2124, 'male': 2001, 'tomy': 3381, 'camera': 459, 'doorbell': 979, 'thestand': 3331, 'advantages': 79, 'reviews': 2767, 'heck': 1509, 'convinced': 709, 'kept': 1789, 'drag': 993, 'dining': 908, 'bring': 405, 'customization': 781, 'disagree': 920, 'chat': 531, 'freezes': 1314, 'error': 1104, 'lack': 1822, 'resetting': 2739, 'resolves': 2744, 'important': 1614, 'creepy': 760, 'specifying': 3090, 'disconcerting': 928, 'negative': 2148, 'groggy': 1436, 'snooze': 3019, 'slow': 2999, 'compared': 629, 'designed': 864, 'face': 1191, 'factor': 1196, 'seeing': 2869, 'square': 3121, 'rectangular': 2650, 'gizmo': 1383, 'purposes': 2551, 'individual': 1645, 'individually': 1646, 'shut': 2945, 'falling': 1207, 'asleep': 218, 'switch': 3250, 'accomplish': 22, 'repeating': 2712, 'altering': 136, 'hopefully': 1558, 'reminds': 2699, 'phones': 2373, 'computers': 647, 'ipads': 1736, 'fussing': 1337, 'park': 2314, 'runs': 2803, 'awsome': 268, 'ceases': 497, 'amaze': 141, 'bang': 282, 'softly': 3029, 'rain': 2577, 'scratched': 2842, 'surface': 3239, 'devise': 880, 'skeptical': 2982, 'grows': 1442, 'disappointing': 923, 'rid': 2770, 'glorified': 1390, 'cost': 726, 'effective': 1041, 'scrolling': 2852, 'saw': 2824, 'entering': 1090, 'world': 3691, 'programmed': 2506, 'previously': 2478, 'specifically': 3087, 'cloud': 581, 'display': 947, 'ant': 166, 'trailer': 3406, 'laptop': 1836, 'desktop': 868, 'appliance': 184, 'interrupt': 1714, 'photos': 2377, 'paired': 2304, 'lamps': 1832, 'capability': 469, 'tad': 3263, 'recipient': 2633, 'challenged': 512, 'changed': 516, 'selling': 2878, 'point': 2427, 'cropping': 764, 'strange': 3177, 'selection': 2873, 'glaring': 1385, 'exception': 1143, 'scroll': 2851, 'defeats': 829, 'reminded': 2695, 'advertising': 83, 'dims': 907, 'based': 293, 'ambient': 149, 'years': 3716, 'glow': 1391, 'typical': 3461, 'clocks': 575, 'bother': 382, 'bothersome': 385, 'bunch': 430, 'walls': 3606, 'lover': 1965, 'resembling': 2736, 'alabama': 108, 'anyways': 175, 'table': 3260, 'website': 3633, 'pair': 2303, 'viewed': 3569, 'solves': 3039, 'efficiency': 1043, 'displaying': 949, 'routinely': 2795, 'interested': 1701, 'furthermore': 1336, 'basic': 295, 'navigation': 2133, 'tailor': 3264, 'waking': 3600, 'dark': 799, 'cameras': 460, 'route': 2792, 'accordingly': 25, 'involved': 1731, 'returnef': 2763, 'spanish': 3075, 'hardcore': 1476, 'infact': 1652, 'members': 2040, 'toddler': 3377, 'variant': 3544, 'beauty': 308, 'placing': 2397, 'soundtouch': 3065, 'sing': 2965, 'careless': 479, 'whisper': 3651, 'ear': 1017, 'normal': 2184, 'viewing': 3570, 'combination': 598, 'plugins': 2419, 'alex': 115, 'matter': 2024, 'indispensable': 1644, 'extrimelly': 1185, 'personalization': 2359, 'aloud': 133, 'typed': 3459, 'unlocking': 3493, 'codes': 586, 'unwitty': 3504, 'developers': 875, 'positive': 2442, 'privacy': 2490, 'invasions': 1723, 'happened': 1470, 'carrier': 482, 'defence': 831, 'surprisingly': 3243, 'hands': 1466, 'interpret': 1712, 'distance': 953, 'ridiculous': 2772, 'note': 2187, 'event': 1123, 'calendar': 448, 'task': 3281, 'difficulty': 897, 'span': 3074, 'imagine': 1606, 'boring': 377, 'college': 592, 'paying': 2335, 'waited': 3595, 'advertisement': 82, 'skype': 2986, 'aunt': 249, 'disappointment': 924, 'notice': 2188, 'searching': 2861, 'pen': 2338, 'regular': 2677, 'rest': 2753, 'id': 1590, 'adds': 63, 'xm': 3708, 'trailers': 3407, 'served': 2897, 'pm': 2423, 'protected': 2522, 'directly': 914, 'safe': 2808, 'basically': 296, 'skill': 2983, 'beam': 304, 'specially': 3085, 'reactive': 2599, 'receive': 2621, 'til': 3357, 'opened': 2239, 'convert': 708, 'enabled': 1068, 'spots': 3115, 'general': 1364, 'sweet': 3246, 'dimat': 903, 'bright': 403, 'fall': 1206, 'mu': 2114, 'hcfe': 1493, 'bot': 381, 'rings': 2776, 'moms': 2096, 'ise': 1741, 'christmas': 551, 'unnannounced': 3494, 'warning': 3611, 'activities': 44, 'events': 1124, 'misunderstands': 2085, 'lit': 1909, 'end': 1071, 'listens': 1907, 'short': 2930, 'dropped': 1004, 'consistent': 677, 'bringing': 406, 'pro': 2492, 'feed': 1234, 'displayed': 948, 'grandfather': 1414, 'lesson': 1871, 'visits': 3580, 'font': 1293, 'apparently': 179, 'lags': 1829, 'possibly': 2446, 'angle': 160, 'attractive': 240, 'alternative': 137, 'clean': 563, 'lightning': 1886, 'sleeps': 2991, 'addicted': 54, 'dependable': 855, 'places': 2396, 'meh': 2038, 'inability': 1626, 'fits': 1268, 'lightening': 1884, 'storm': 3172, 'images': 1604, 'messaging': 2049, 'travel': 3413, 'ad': 47, 'law': 1849, 'currently': 774, 'related': 2680, 'flaws': 1281, 'unusable': 3502, 'card': 474, 'homescreen': 1549, 'cards': 475, 'cycle': 787, 'automatically': 252, 'incredibly': 1640, 'opt': 2249, 'continuously': 696, 'critically': 763, 'rebooted': 2616, 'su': 3197, 'funcionamiento': 1329, 'y': 3710, 'llama': 1919, 'la': 1820, 'atenci': 230, 'rapidez': 2586, 'respuesta': 2752, 'el': 1049, 'se': 2854, 'logra': 1936, 'trav': 3412, 'utilizaci': 3536, 'sorprendi': 3056, 'gratamente': 1425, 'muy': 2120, 'recomendable': 2637, 'missed': 2082, 'snoozes': 3021, 'swipe': 3248, 'prompts': 2517, 'dismiss': 945, 'glasses': 1386, 'dismissed': 946, 'tomorrow': 3380, 'mon': 2097, 'thu': 3347, 'fri': 1316, 'early': 1018, 'apparent': 178, 'indicator': 1643, 'fingertips': 1260, 'puts': 2554, 'crisp': 762, 'habit': 1452, 'cleaning': 565, 'ladies': 1825, 'ceiling': 498, 'gripe': 1434, 'view': 3568, 'simpler': 2957, 'novelty': 2194, 'acts': 45, 'sleek': 2987, 'scrolls': 2853, 'etekcity': 1119, 'voltson': 3589, 'harvard': 1480, 'degree': 839, 'updating': 3510, 'complaining': 635, 'goodness': 1402, 'lov': 1961, 'station': 3148, 'iheart': 1597, 'sucks': 3213, 'overwhelming': 2286, 'cutting': 786, 'counters': 732, 'wide': 3656, 'forth': 1307, 'felt': 1244, 'dying': 1014, 'attempted': 237, 'jaws': 1761, 'comfortable': 605, 'dressed': 997, 'business': 434, 'owner': 2290, 'staff': 3127, 'driven': 999, 'hired': 1534, 'organized': 2262, 'updated': 3508, 'assistance': 224, 'smoothly': 3014, 'suggested': 3218, 'versions': 3559, 'reportsalarm': 2725, 'register': 2673, 'cut': 783, 'fit': 1267, 'circle': 554, 'pop': 2434, 'stay': 3152, 'treat': 3417, 'dumb': 1008, 'bloomberg': 357, 'npr': 2195, 'gain': 1343, 'familiar': 1210, 'key': 1790, 'catch': 489, 'space': 3070, 'conditions': 656, 'iy': 1756, 'coolest': 714, 'sliced': 2993, 'bread': 394, 'finds': 1258, 'deactivate': 809, 'cover': 741, 'anytime': 174, 'location': 1929, 'nervana': 2151, 'geared': 1359, 'nigh': 2169, 'dimmer': 905, 'beta': 329, 'india': 1641, 'suppose': 3235, 'network': 2156, 'jamming': 1759, 'weekday': 3637, 'delivers': 846, 'period': 2352, 'helper': 1516, 'tasks': 3282, 'adequate': 65, 'travelling': 3415, 'youngest': 3727, 'mama': 2003, 'companion': 625, 'elegant': 1057, 'goodies': 1400, 'omg': 2230, 'reading': 2602, 'silly': 2953, 'selfies': 2876, 'sends': 2883, 'hubby': 1577, 'beautifully': 307, 'hide': 1527, 'cause': 492, 'squirms': 3122, 'conscious': 674, 'blocking': 355, 'cancel': 464, 'pre': 2459, 'weekdays': 3638, 'permanently': 2354, 'rotates': 2787, 'upset': 3516, 'acting': 35, 'fail': 1199, 'sadly': 2807, 'misplace': 2080, 'blessing': 351, 'bedtime': 314, 'kid': 1794, 'liking': 1892, 'unobtrusive': 3496, 'numerous': 2202, 'practically': 2455, 'themes': 3328, 'menu': 2045, 'precise': 2461, 'east': 1023, 'coast': 585, 'massive': 2020, 'failing': 1201, 'woken': 3671, 'partner': 2320, 'manually': 2011, 'swiping': 3249, 'touching': 3397, 'results': 2758, 'ii': 1600, 'manage': 2005, 'delete': 843, 'recurring': 2651, 'happen': 1469, 'screw': 2849, 'repair': 2708, 'receivded': 2620, 'advise': 85, 'hadn': 1454, 'thrown': 3346, 'ting': 3365, 'fascinating': 1218, 'microphones': 2058, 'models': 2092, 'picture': 2386, 'forces': 1298, 'disable': 918, 'persuasion': 2362, 'enters': 1091, 'hell': 1513, 'monitor': 2099, 'syncing': 3257, 'hasn': 1481, 'alerts': 114, 'enable': 1067, 'ignoring': 1596, 'customers': 779, 'marketing': 2018, 'customize': 782, 'contents': 690, 'content': 689, 'acceptable': 11, 'debating': 814, 'person': 2356, 'fell': 1243, 'briefings': 401, 'recipes': 2632, 'concern': 649, 'grandparents': 1418, 'tend': 3308, 'conferencing': 658, 'tools': 3388, 'impede': 1611, 'operations': 2245, 'takes': 3266, 'care': 477, 'thursday': 3351, 'unwrapped': 3505, 'reoccurring': 2705, 'rotate': 2786, 'believer': 322, 'shell': 2917, 'arm': 204, 'leg': 1867, 'reference': 2657, 'cohesive': 588, 'manual': 2010, 'websites': 3634, 'instruction': 1681, 'e': 1016, 'kwikset': 1818, 'pizza': 2392, 'hut': 1587, 'views': 3571, 'hype': 1589, 'bugging': 420, 'downright': 989, 'ugly': 3466, 'soundbar': 3060, 'smartphone': 3008, 'interact': 1694, 'media': 2032, 'navigating': 2132, 'pages': 2300, 'arrive': 206, 'fiances': 1247, 'preferred': 2464, 'notifications': 2192, 'seen': 2870, 'delivered': 845, 'integrating': 1686, 'dash': 801, 'renting': 2704, 'tinker': 3366, 'road': 2778, 'hvac': 1588, 'looooooove': 1947, 'disaster': 927, 'chachki': 508, 'genres': 1369, 'adjustment': 69, 'hong': 1553, 'kong': 1816, 'sized': 2981, 'bezel': 332, 'usable': 3521, 'involves': 1732, 'starts': 3143, 'crap': 750, 'dare': 798, 'child': 539, 'outrageous': 2273, 'meant': 2031, 'nonsense': 2181, 'nanny': 2127, 'adorable': 73, 'recently': 2627, 'subscriber': 3201, 'alternatives': 138, 'alleviate': 124, 'shine': 2920, 'items': 1754, 'analog': 157, 'buyers': 441, 'remorse': 2700, 'sight': 2950, 'decor': 822, 'thongs': 3337, 'numb': 2199, 'thunderstorm': 3350, 'yesterday': 3722, 'indundated': 1648, 'stimulus': 3163, 'suitable': 3222, 'sony': 3047, 'pull': 2535, 'entirely': 1096, 'knocked': 1807, 'decision': 820, 'cycles': 789, 'screens': 2847, 'rotation': 2788, 'promotion': 2514, 'packing': 2298, 'heads': 1500, 'emergency': 1063, 'folks': 1290, 'woke': 3670, 'advertise': 80, 'town': 3400, 'lady': 1826, 'researched': 2734, 'avail': 257, 'occasional': 2211, 'force': 1297, 'trending': 3421, 'greatly': 1430, 'depreciates': 859, 'willing': 3661, 'billboard': 340, 'streamline': 3180, 'warns': 3612, 'snarls': 3016, 'suggesting': 3219, 'introducing': 1718, 'artists': 211, 'amaonmazing': 139, 'blanket': 348, 'infotainment': 1659, 'sleepy': 2992, 'zonked': 3735, 'zzzzzzz': 3737, 'awake': 261, 'yep': 3720, 'statement': 3146, 'excessive': 1145, 'rotations': 2789, 'screenselect': 2848, 'settingshome': 2904, 'clockhome': 573, 'cardsrotate': 476, 'onceproblem': 2231, 'nicely': 2166, 'constructed': 682, 'replaces': 2718, 'arriving': 208, 'pricey': 2482, 'https': 1574, 'www': 3704, 'com': 596, 'dp': 992, 'b': 269, 'sqyxtw': 3123, 'ref': 2655, 'cm': 583, 'cr': 746, 'ryp': 2804, 'prd': 2458, 'ttl': 3439, 'sol': 3031, 'choice': 543, 'positives': 2443, 'nearly': 2141, 'literally': 1910, 'initial': 1660, 'pros': 2521, 'unlike': 3491, 'clearer': 567, 'cons': 673, 'web': 3632, 'installed': 1674, 'porch': 2435, 'mount': 2108, 'lcd': 1854, 'dim': 902, 'sensitive': 2886, 'sleeper': 2989, 'wind': 3662, 'taping': 3277, 'tape': 3276, 'tiny': 3369, 'suffer': 3214, 'ads': 74, 'forever': 1301, 'swell': 3247, 'crazy': 755, 'eeaanh': 1039, 'slide': 2994, 'pivoting': 2390, 'separately': 2891, 'colon': 593, 'celebs': 500, 'jump': 1776, 'board': 364, 'voices': 3585, 'nit': 2175, 'picky': 2384, 'beefy': 315, 'compliment': 642, 'determined': 873, 'overheating': 2281, 'technical': 3289, 'replied': 2720, 'inline': 1663, 'unacceptable': 3470, 'arises': 202, 'farther': 1217, 'cleaner': 564, 'sounding': 3062, 'perk': 2353, 'print': 2488, 'split': 3106, 'hairs': 1458, 'increasing': 1638, 'weekly': 3640, 'overtime': 2284, 'project': 2509, 'feedback': 1235, 'self': 2875, 'staying': 3154, 'hotel': 1567, 'bundle': 431, 'girls': 1379, 'deployed': 858, 'appropriate': 192, 'particularly': 2318, 'engineers': 1079, 'tested': 3314, 'schedules': 2833, 'walking': 3603, 'fumble': 1326, 'plain': 2398, 'cumbersome': 771, 'situations': 2979, 'spouse': 3116, 'separate': 2890, 'cancels': 467, 'cancelled': 466, 'snoozed': 3020, 'amused': 155, 'summoning': 3223, 'creapy': 756, 'af': 88, 'tall': 3273, 'vice': 3564, 'versa': 3553, 'tends': 3309, 'break': 395, 'intermittent': 1707, 'optical': 2250, 'stands': 3136, 'grandmother': 1416, 'sets': 2901, 'mind': 2066, 'podcast': 2425, 'expired': 1168, 'digs': 901, 'cartoons': 485, 'desired': 866, 'hectic': 1510, 'voila': 3587, 'virtual': 3574, 'hire': 1533, 'libraries': 1877, 'sooooo': 3051, 'sopt': 3053, 'past': 2325, 'realizing': 2609, 'amazonia': 147, 'lil': 1893, 'text': 3317, 'recipe': 2631, 'lost': 1955, 'mentioned': 2044, 'caused': 493, 'effected': 1040, 'children': 541, 'happens': 1472, 'hand': 1462, 'pleasedsimple': 2414, 'aspects': 220, 'interacting': 1695, 'tremendous': 3420, 'country': 735, 'dhiw': 882, 'hmm': 1538, 'cnn': 584, 'preview': 2476, 'pricing': 2483, 'underestimated': 3474, 'cart': 484, 'chatting': 532, 'isnt': 1745, 'image': 1603, 'pixelated': 2391, 'oh': 2222, 'slideshow': 2995, 'sticks': 3162, 'leave': 1862, 'articles': 209, 'solution': 3037, 'shutting': 2947, 'mexico': 2053, 'usa': 3520, 'houses': 1572, 'systems': 3258, 'homes': 1548, 'mimic': 2065, 'bulbs': 426, 'baseball': 292, 'scores': 2838, 'cooler': 713, 'audiobooks': 246, 'loses': 1952, 'applications': 187, 'optional': 2253, 'bezos': 333, 'spying': 3120, 'reccomend': 2619, 'disposable': 951, 'income': 1633, 'cat': 488, 'vacation': 3540, 'idea': 1591, 'routine': 2794, 'imhave': 1608, 'hate': 1484, 'recommending': 2640, 'continually': 692, 'bc': 303, 'guide': 1448, 'floating': 1286, 'purely': 2549, 'aesthetic': 87, 'natural': 2129, 'mediocre': 2035, 'track': 3403, 'holiday': 1545, 'gifts': 1377, 'organization': 2261, 'virtually': 3575, 'heavy': 1508, 'punch': 2539, 'mids': 2062, 'awful': 265, 'rarely': 2588, 'activates': 40, 'meaningful': 2029, 'distraction': 956, 'practicalthan': 2456, 'powerful': 2453, 'pics': 2385, 'constant': 680, 'uninstall': 3485, 'reinstall': 2679, 'reconfigure': 2642, 'jumped': 1777, 'resistant': 2741, 'york': 3724, 'fair': 1203, 'worker': 3686, 'telephone': 3299, 'directions': 913, 'laughter': 1847, 'eliminate': 1059, 'payed': 2334, 'held': 1511, 'sooooooo': 3052, 'expectation': 1159, 'pia': 2379, 'shipped': 2924, 'manuals': 2012, 'magically': 1987, 'maximize': 2025, 'examples': 1136, 'kick': 1792, 'pants': 2308, 'udefulness': 3465, 'engine': 1078, 'hated': 1485, 'parties': 2319, 'correct': 721, 'dish': 942, 'ti': 3352, 'definately': 833, 'hesitated': 1523, 'recent': 2626, 'mac': 1982, 'air': 105, 'stuck': 3189, 'unable': 3469, 'referred': 2659, 'intelagence': 1688, 'dependence': 856, 'pushed': 2553, 'accessable': 14, 'gather': 1353, 'subsequently': 3206, 'ihome': 1599, 'docking': 963, 'created': 758, 'visual': 3581, 'clothes': 580, 'dryer': 1007, 'eco': 1030, 'lines': 1898, 'resolution': 2742, 'trigger': 3427, 'literate': 1911, 'controlled': 700, 'net': 2154, 'fills': 1254, 'connects': 672, 'resume': 2759, 'utility': 3535, 'owe': 2287, 'marked': 2016, 'lyrical': 1979, 'post': 2447, 'malone': 2002, 'consumer': 684, 'argument': 200, 'state': 3145, 'feeds': 1236, 'spectacular': 3092, 'stellar': 3157, 'hi': 1525, 'campus': 461, 'carry': 483, 'stationary': 3149, 'comfort': 604, 'invasion': 1722, 'relief': 2687, 'onme': 2235, 'visa': 3576, 'voiceview': 3586, 'reader': 2601, 'blind': 352, 'single': 2967, 'vast': 3547, 'library': 1878, 'canary': 463, 'agree': 99, 'deeper': 827, 'havent': 1489, 'capacity': 471, 'join': 1770, 'backgrounds': 272, 'primeday': 2487, 'blows': 359, 'sources': 3067, 'advantage': 78, 'incredible': 1639, 'untapped': 3501, 'locked': 1932, 'restrictions': 2755, 'navigate': 2131, 'hd': 1494, 'priced': 2480, 'louis': 1960, 'thrilled': 3344, 'seprately': 2892, 'mics': 2059, 'tg': 3319, 'ed': 1034, 'k': 1782, 'sharp': 2916, 'tries': 3426, 'drawback': 995, 'noticed': 2190, 'recordings': 2649, 'secret': 2865, 'agent': 96, 'johnny': 1769, 'rivers': 2777, 'history': 1536, 'comeletely': 602, 'concept': 648, 'irritated': 1739, 'communicating': 618, 'baffled': 276, 'eventually': 1125, 'abay': 0, 'combined': 600, 'cylinder': 790, 'writes': 3701, 'accompanying': 21, 'f': 1188, 'anylist': 171, 'pause': 2331, 'decides': 819, 'exceeds': 1139, 'wealth': 3628, 'topic': 3390, 'customizable': 780, 'hole': 1544, 'preparing': 2467, 'spotlight': 3114, 'cams': 462, 'demand': 848, 'clients': 570, 'cracked': 747, 'fourth': 1311, 'graphics': 1424, 'cozi': 744, 'drawing': 996, 'essential': 1112, 'marvelous': 2019, 'lag': 1827, 'provider': 2530, 'speed': 3094, 'gb': 1357, 'conditioning': 655, 'friday': 1317, 'steep': 3156, 'diversity': 960, 'rock': 2779, 'dec': 815, 'window': 3663, 'opens': 2241, 'contains': 688, 'bar': 283, 'flashes': 1276, 'restart': 2754, 'grownups': 1441, 'requires': 2732, 'site': 2976, 'page': 2299, 'position': 2441, 'visuals': 3582, 'stove': 3174, 'cousin': 739, 'carolina': 481, 'addressed': 61, 'majes': 1995, 'enjoyable': 1083, 'glitching': 1389, 'repairs': 2709, 'newest': 2159, 'glitch': 1387, 'ty': 3457, 'jeapordy': 1763, 'visible': 3577, 'lazy': 1853, 'originally': 2267, 'competition': 631, 'developed': 874, 'doesnt': 969, 'shorted': 2932, 'lastly': 1840, 'membership': 2041, 'decorated': 823, 'minimal': 2069, 'subscription': 3203, 'nightmare': 2171, 'overpriced': 2282, 'vehicle': 3549, 'produc': 2498, 'fledged': 1282, 'tablet': 3261, 'accesss': 18, 'lurking': 1975, 'continous': 691, 'spam': 3073, 'promoting': 2513, 'settins': 2905, 'anti': 167, 'reasons': 2613, 'staging': 3129, 'acoustical': 33, 'cylindercal': 791, 'covered': 742, 'adjacent': 66, 'mixed': 2086, 'stinks': 3164, 'extras': 1183, 'afraid': 93, 'engaging': 1077, 'regard': 2670, 'bandwidth': 281, 'vs': 3591, 'accuracy': 28, 'spoiled': 3107, 'detailed': 870, 'offing': 2221, 'ass': 221, 'ase': 213, 'participating': 2316, 'compacity': 623, 'aint': 104, 'international': 1710, 'tune': 3443, 'pulling': 2536, 'teeth': 3297, 'sign': 2951, 'totallly': 3393, 'blink': 353, 'everybody': 1126, 'jetsons': 1766, 'draw': 994, 'teacher': 3283, 'ight': 1594, 'inviting': 1730, 'switches': 3252, 'expanding': 1157, 'maintaining': 1993, 'shuffle': 2944, 'photographs': 2376, 'sewing': 2910, 'smooth': 3013, 'wellfour': 3645, 'bizarre': 346, 'sore': 3054, 'thumb': 3348, 'powercord': 2452, 'flaw': 1278, 'strongly': 3185, 'urge': 3519, 'affirmations': 90, 'personalized': 2360, 'common': 615, 'allrecipes': 129, 'illustrated': 1601, 'orders': 2260, 'uhyour': 3467, 'selections': 2874, 'preferences': 2463, 'temp': 3304, 'c': 446, 'searches': 2860, 'visiting': 3579, 'frustration': 1323, 'laziness': 1852, 'headphones': 1499, 'dig': 898, 'bonkers': 369, 'brief': 399, 'floored': 1288, 'blurring': 363, 'shaking': 2913, 'jumping': 1778, 'talked': 3270, 'hassle': 1483, 'references': 2658, 'yup': 3731, 'hahaawesome': 1456, 'improving': 1622, 'impulse': 1623, 'hints': 1532, 'appears': 182, 'sparks': 3078, 'imagination': 1605, 'belong': 324, 'starting': 3142, 'nephews': 2150, 'grandparent': 1417, 'dementia': 849, 'memory': 2042, 'loss': 1954, 'medications': 2034, 'viceo': 3565, 'aka': 106, 'leaning': 1855, 'create': 757, 'nbsp': 2136, 'messages': 2048, 'puzzled': 2556, 'quot': 2572, 'intelligent': 1690, 'yhe': 3723, 'thou': 3340, 'calendars': 449, 'contacts': 687, 'alongside': 130, 'algo': 122, 'flickering': 1285, 'forums': 1309, 'isue': 1749, 'reported': 2723, 'soluci': 3036, 'tin': 3364, 'screenless': 2846, 'pointless': 2429, 'providing': 2532, 'story': 3173, 'hallway': 1461, 'bulky': 428, 'headline': 1497, 'suggests': 3221, 'adapted': 48, 'machines': 1984, 'cross': 765, 'activating': 41, 'rename': 2702, 'adept': 64, 'exceptionally': 1144, 'coffee': 587, 'prettier': 2472, 'dense': 852, 'ny': 2205, 'nj': 2177, 'regional': 2672, 'experiences': 1166, 'tablets': 3262, 'description': 862, 'surround': 3244, 'gadgets': 1342, 'spur': 3119, 'conversation': 706, 'dictionary': 885, 'areas': 196, 'reduced': 2653, 'auto': 250, 'imrproved': 1624, 'galaxy': 1344, 'string': 3182, 'explicit': 1171, 'electeonically': 1051, 'feee': 1237, 'lifht': 1881, 'bing': 342, 'combine': 599, 'fidelity': 1248, 'silver': 2954, 'unimportant': 3484, 'intention': 1693, 'scottish': 2839, 'oops': 2237, 'plenty': 2416, 'specs': 3091, 'straight': 3175, 'lightbulb': 1883, 'stubborn': 3188, 'patio': 2329, 'gatherings': 1354, 'extends': 1178, 'vision': 3578, 'impaired': 1610, 'loaded': 1924, 'social': 3025, 'facebook': 1192, 'twitter': 3456, 'left': 1866, 'isolated': 1746, 'direct': 911, 'whos': 3654, 'aspect': 219, 'distracting': 955, 'countless': 733, 'dunce': 1010, 'sigh': 2949, 'exasperation': 1137, 'ignored': 1595, 'workarounds': 3684, 'scoured': 2840, 'beginners': 317, 'section': 2867, 'addresses': 62, 'configure': 660, 'accepting': 12, 'karen': 1783, 'controllable': 699, 'bff': 335, 'cups': 772, 'pound': 2450, 'sons': 3046, 'picked': 2381, 'slight': 2996, 'confused': 663, 'begun': 319, 'array': 205, 'practical': 2454, 'concerns': 652, 'mute': 2119, 'equalizer': 1101, 'introduce': 1717, 'lock': 1931, 'posed': 2440, 'somebody': 3040, 'community': 620, 'z': 3732, 'wave': 3624, 'zigbee': 3734, 'body': 367, 'wink': 3665, 'integrate': 1683, 'hubs': 1578, 'innovative': 1664, 'upgrading': 3514, 'cases': 487, 'settle': 2906, 'plane': 2400, 'bundled': 432, 'philly': 2371, 'buys': 443, 'newer': 2158, 'mark': 2015, 'yale': 3711, 'techy': 3295, 'audibles': 242, 'tunein': 3444, 'heart': 1506, 'tivo': 3374, 'bolt': 368, 'reorder': 2706, 'notifies': 2193, 'mailed': 1988, 'tp': 3402, 'devises': 881, 'august': 248, 'ties': 3356, 'experienced': 1165, 'nexia': 2162, 'interactions': 1697, 'alread': 134, 'philips': 2367, 'nudged': 2198, 'build': 422, 'placed': 2394, 'fixtures': 1274, 'den': 850, 'fixture': 1273, 'required': 2731, 'configured': 661, 'brands': 393, 'disarm': 926, 'management': 2006, 'baffle': 275, 'esp': 1108, 'dented': 853, 'exchanging': 1148, 'coop': 715, 'luv': 1976, 'reauthorize': 2614, 'ton': 3382, 'jeopardy': 1765, 'ge': 1358, 'corresponds': 724, 'exchanges': 1147, 'makings': 2000, 'documentation': 965, 'becausse': 309, 'accident': 19, 'echoplus': 1028, 'extension': 1179, 'activate': 38, 'habla': 1453, 'espanol': 1110, 'cpr': 745, 'classical': 561, 'mistakes': 2084, 'sofa': 3027, 'sit': 2975, 'broke': 409, 'fixing': 1272, 'replacing': 2719, 'bridge': 398, 'philipshue': 2368, 'instantaneous': 1678, 'catches': 490, 'bothers': 384, 'conflict': 662, 'discovery': 941, 'fully': 1325, 'evaluate': 1121, 'communicated': 617, 'preset': 2469, 'firmare': 1265, 'featured': 1231, 'iot': 1733, 'needing': 2146, 'standalone': 3132, 'redundant': 2654, 'equal': 1099, 'soundlink': 3063, 'importantly': 1615, 'bye': 445, 'tinkering': 3367, 'chalk': 510, 'repertoire': 2714, 'hook': 1554, 'walks': 3604, 'successfully': 3210, 'completed': 639, 'technicians': 3291, 'chromebook': 552, 'luck': 1971, 'behaved': 320, 'blast': 349, 'soccer': 3024, 'sport': 3110, 'teams': 3284, 'american': 150, 'remaining': 2689, 'pairing': 2305, 'utilizing': 3538, 'ecobee': 1031, 'firestick': 1264, 'phillip': 2369, 'scooped': 2837, 'ball': 277, 'rcieved': 2594, 'buld': 427, 'mere': 2046, 'verbal': 3550, 'techno': 3292, 'knowledgable': 1810, 'hubbed': 1576, 'stump': 3192, 'googled': 1404, 'admit': 71, 'explored': 1173, 'refers': 2660, 'twice': 3454, 'steps': 3159, 'xfinity': 3707, 'cable': 447, 'geo': 1370, 'fencing': 1245, 'leisure': 1869, 'remedial': 2691, 'reconnect': 2643, 'false': 1209, 'ghost': 1374, 'ipdates': 1737, 'resolved': 2743, 'adapting': 50, 'cheapest': 535, 'profiles': 2503, 'spins': 3105, 'near': 2140, 'handles': 1465, 'links': 1902, 'hulu': 1582, 'pets': 2363, 'regardless': 2671, 'layer': 1850, 'protection': 2523, 'bf': 334, 'cousins': 740, 'italy': 1752, 'facts': 1198, 'touted': 3398, 'samsung': 2813, 'interferes': 1706, 'depth': 860, 'fairness': 1205, 'advance': 76, 'protocol': 2524, 'supports': 3234, 'upgrades': 3513, 'texts': 3318, 'necessity': 2143, 'commodity': 614, 'disabled': 919, 'doctor': 964, 'medical': 2033, 'rides': 2771, 'hospitals': 1564, 'cue': 769, 'nurses': 2203, 'aide': 103, 'chocolate': 542, 'assist': 223, 'anybody': 170, 'affirm': 89, 'jeff': 1764, 'allowing': 127, 'disability': 917, 'earn': 1019, 'ssdi': 3125, 'forecast': 1299, 'soaking': 3023, 'cursed': 775, 'scheduled': 2832, 'soaked': 3022, 'tec': 3286, 'complacated': 632, 'verbalize': 3551, 'sirrius': 2973, 'differences': 893, 'dimming': 906, 'scenes': 2829, 'tones': 3383, 'misled': 2079, 'explanation': 1170, 'throw': 3345, 'invest': 1726, 'shortcomings': 2931, 'fees': 1241, 'differ': 891, 'speedy': 3096, 'steaming': 3155, 'skips': 2985, 'subscriptiondoes': 3204, 'audioapple': 244, 'deviceoverall': 878, 'jack': 1757, 'philip': 2366, 'attempting': 238, 'failed': 1200, 'watched': 3620, 'poster': 2448, 'insanity': 1667, 'operator': 2246, 'hr': 1573, 'mins': 2073, 'patience': 2327, 'shifting': 2919, 'mindset': 2067, 'kicking': 1793, 'locate': 1927, 'pray': 2457, 'attempt': 236, 'successful': 3209, 'revise': 2768, 'odds': 2215, 'defuser': 838, 'wasted': 3618, 'purchaser': 2545, 'phase': 2364, 'expanded': 1156, 'usage': 3522, 'noticeable': 2189, 'ends': 1074, 'unavailable': 3471, 'interrogated': 1713, 'originale': 2266, 'dimension': 904, 'weight': 3642, 'woofer': 3678, 'tweeter': 3452, 'pointed': 2428, 'sub': 3198, 'losing': 1953, 'edge': 1035, 'fw': 1340, 'inferior': 1653, 'rattling': 2593, 'vibrating': 3563, 'distorted': 954, 'rattle': 2592, 'crackle': 748, 'characteristics': 522, 'assuming': 228, 'classic': 560, 'orchestra': 2256, 'screamig': 2843, 'carefully': 478, 'click': 569, 'sneaky': 3017, 'wasnt': 3616, 'keen': 1785, 'goodmorning': 1401, 'sang': 2814, 'lolol': 1938, 'educated': 1037, 'laughs': 1846, 'waits': 3597, 'hes': 1520, 'island': 1743, 'direction': 912, 'placement': 2395, 'appealing': 180, 'neighbors': 2149, 'building': 423, 'knob': 1805, 'adjusting': 68, 'inconvenience': 1634, 'sturdy': 3194, 'grip': 1433, 'granite': 1422, 'rub': 2799, 'scent': 2830, 'tipping': 3370, 'floor': 1287, 'assigned': 222, 'shining': 2921, 'tony': 3385, 'stark': 3138, 'quote': 2573, 'ownership': 2292, 'lucky': 1973, 'taller': 3274, 'spin': 3104, 'researching': 2735, 'setups': 2908, 'ontrac': 2236, 'usual': 3533, 'suck': 3212, 'smells': 3011, 'x': 3705, 'regularly': 2678, 'checked': 537, 'cycled': 788, 'industry': 1649, 'continues': 694, 'roll': 2782, 'prove': 2525, 'clue': 582, 'em': 1060, 'grace': 1409, 'amplifier': 154, 'driving': 1002, 'standing': 3135, 'snell': 3018, 'clapper': 557, 'ceilings': 499, 'smartthings': 3010, 'muffled': 2115, 'eq': 1098, 'consistently': 678, 'hmmm': 1539, 'spending': 3100, 'senior': 2884, 'citizens': 555, 'mobility': 2089, 'depending': 857, 'comments': 612, 'sibling': 2948, 'versus': 3560, 'downstairs': 991, 'singing': 2966, 'commanded': 609, 'lifetime': 1880, 'approaching': 191, 'hundreds': 1585, 'thousands': 3343, 'approximately': 193, 'subpar': 3200, 'rarity': 2589, 'discourage': 936, 'investing': 1728, 'ecosystem': 1033, 'holy': 1546, 'batman': 300, 'jams': 1760, 'insanely': 1666, 'sooner': 3049, 'girlfriend': 1378, 'incorporated': 1636, 'dates': 805, 'science': 2836, 'core': 720, 'reminding': 2698, 'equalized': 1100, 'length': 1870, 'vacuum': 3542, 'replying': 2721, 'hassel': 1482, 'unsettling': 3500, 'repeats': 2713, 'obtrusive': 2208, 'training': 3410, 'coordinator': 716, 'blueprints': 361, 'gameshow': 1347, 'quiz': 2571, 'orientation': 2263, 'engage': 1075, 'trainees': 3409, 'success': 3208, 'classes': 559, 'filling': 1253, 'logitech': 1934, 'harmony': 1479, 'nope': 2182, 'denon': 851, 'av': 256, 'receivers': 2624, 'putting': 2555, 'consulting': 683, 'sincerely': 2964, 'smartthing': 3009, 'transferring': 3411, 'initiate': 1662, 'zzzz': 3736, 'ideal': 1592, 'boyfriend': 389, 'chromecast': 553, 'load': 1923, 'rebooting': 2617, 'attachment': 235, 'loose': 1948, 'wished': 3668, 'guilty': 1449, 'assume': 226, 'oldest': 2228, 'mirroring': 2078, 'ummm': 3468, 'sever': 2909, 'agreement': 100, 'expires': 1169, 'rent': 2703, 'headphone': 1498, 'roku': 2781, 'faster': 1221, 'darn': 800, 'kodi': 1815, 'addons': 60, 'platform': 2403, 'lagging': 1828, 'utilize': 3537, 'confident': 659, 'resemption': 2737, 'downfall': 985, 'subscriptions': 3205, 'funciona': 1328, 'genial': 1367, 'june': 1779, 'crunchyroll': 766, 'pep': 2342, 'overcoming': 2280, 'switching': 3253, 'programming': 2507, 'charm': 528, 'simplify': 2960, 'alexus': 121, 'bet': 328, 'doubtful': 984, 'pluto': 2422, 'tubi': 3441, 'lyric': 1978, 'programing': 2505, 'bills': 341, 'supplied': 3229, 'mounted': 2109, 'platforms': 2404, 'vudu': 3592, 'voltage': 3588, 'typically': 3462, 'quiet': 2568, 'relay': 2683, 'canceling': 465, 'satellite': 2816, 'alexis': 120, 'bettter': 331, 'extended': 1176, 'v': 3539, 'relatively': 2681, 'inexpensive': 1650, 'gap': 1349, 'ethernet': 1120, 'speeds': 3095, 'hiccups': 1526, 'ridiculously': 2773, 'prices': 2481, 'storage': 3169, 'downloading': 988, 'upcoming': 3506, 'includes': 1630, 'nfl': 2163, 'troublesome': 3432, 'record': 2646, 'remains': 2690, 'electricity': 1053, 'amounts': 152, 'luckily': 1972, 'directtv': 915, 'woohoo': 3680, 'snap': 3015, 'feeling': 1239, 'inspired': 1671, 'gateway': 1352, 'trial': 3422, 'keyboard': 1791, 'typing': 3463, 'clips': 571, 'opportunity': 2248, 'mi': 2054, 'similar': 2955, 'evening': 1122, 'season': 2862, 'bloods': 356, 'csi': 767, 'miami': 2055, 'optimum': 2251, 'suffolk': 3216, 'county': 736, 'lovee': 1964, 'evrything': 1131, 'hahahaha': 1457, 'addicts': 55, 'amazin': 143, 'alots': 132, 'traditional': 3404, 'rst': 2798, 'crashes': 753, 'buffer': 416, 'budget': 415, 'maneuver': 2008, 'activation': 42, 'ditched': 959, 'market': 2017, 'unhappy': 3481, 'errors': 1105, 'crashing': 754, 'sling': 2998, 'endless': 1073, 'existent': 1154, 'sry': 3124, 'allowed': 126, 'officially': 2220, 'hdm': 1495, 'bob': 366, 'dylan': 1015, 'xbox': 3706, 'buffering': 417, 'interruption': 1715, 'rewards': 2769, 'drive': 998, 'singley': 2968, 'entry': 1097, 'inactivity': 1627, 'finish': 1262, 'availability': 258, 'arguments': 201, 'logo': 1935, 'younger': 3726, 'ditch': 958, 'charmed': 529, 'forjust': 1305, 'clocking': 574, 'mb': 2027, 'mandatory': 2007, 'final': 1255, 'upload': 3515, 'charlotte': 527, 'nc': 2137, 'pur': 2542, 'cbs': 495, 'nbc': 2135, 'abc': 1, 'discounts': 935, 'oriented': 2264, 'looses': 1949, 'closer': 579, 'rare': 2587, 'occasion': 2210, 'thete': 3332, 'cave': 494, 'las': 1839, 'pel': 2337, 'culas': 770, 'tiene': 3355, 'o': 2206, 'pueden': 2534, 'cambiar': 456, 'tulos': 3442, 'element': 1058, 'maddening': 1985, 'disconnections': 932, 'inclusive': 1632, 'hdmi': 1496, 'ni': 2164, 'hbo': 1492, 'showtime': 2943, 'onetime': 2233, 'procedure': 2496, 'tge': 3320, 'batteries': 301, 'hauler': 1487, 'trip': 3428, 'commercials': 613, 'livingroom': 1917, 'semi': 2880, 'reviewing': 2766, 'factory': 1197, 'abd': 2, 'scratch': 2841, 'traveling': 3414, 'ban': 278, 'installs': 1676, 'theater': 3325, 'fat': 1222, 'forecasts': 1300, 'interactive': 1698, 'bug': 419, 'newsflash': 2161, 'reboots': 2618, 'stage': 3128, 'invention': 1725, 'tricky': 3424, 'stayed': 3153, 'hmmmm': 1540, 'appreciated': 189, 'disconnecting': 931, 'tickled': 3353, 'keeper': 1786, 'linking': 1901, 'rough': 2790, 'patch': 2326, 'sunroom': 3224, 'helful': 1512, 'supported': 3232, 'reached': 2597, 'sprint': 3118, 'bare': 284, 'minimum': 2070, 'hospital': 1563, 'grands': 1419, 'welcome': 3644, 'serius': 2895, 'sm': 3001, 'alot': 131, 'fashioned': 1219, 'digitol': 900, 'vacations': 3541, 'everytime': 1128, 'paranoid': 2311, 'vlan': 3583, 'require': 2730, 'questionable': 2563, 'carful': 480, 'vetted': 3561, 'askes': 216, 'handled': 1464, 'lonely': 1939, 'spark': 3077, 'ifs': 1593, 'ands': 159, 'buts': 436, 'minorly': 2072, 'comands': 597, 'capasity': 472, 'complained': 634, 'medium': 2037, 'doors': 980, 'barn': 288, 'horse': 1562, 'healing': 1501, 'continuous': 695, 'spa': 3069, 'par': 2310, 'nite': 2176, 'boombox': 374, 'dated': 804, 'champ': 513, 'yeah': 3714, 'insert': 1668, 'equipo': 1103, 'inteligente': 1689, 'al': 107, 'estar': 1116, 'conectado': 657, 'nos': 2186, 'provee': 2527, 'ltiples': 1970, 'funciones': 1330, 'tales': 3268, 'como': 622, 'tiempo': 3354, 'hora': 1560, 'informaci': 1655, 'cualquier': 768, 'estudio': 1118, 'est': 1114, 'realizando': 2606, 'atr': 232, 'vez': 3562, 'del': 841, 'forgot': 1303, 'amaxing': 140, 'greeting': 1432, 'oven': 2277, 'temps': 3306, 'simplified': 2959, 'bandwagon': 280, 'struggle': 3187, 'sharing': 2915, 'testing': 3315, 'reliable': 2686, 'qualty': 2558, 'filled': 1252, 'compound': 645, 'projects': 2511, 'projection': 2510, 'awkward': 267, 'students': 3190, 'dorm': 981, 'spacing': 3072, 'smarter': 3006, 'smarthome': 3007, 'alright': 135, 'reputation': 2726, 'nois': 2178, 'shooting': 2927, 'motown': 2107, 'salsa': 2812, 'phonetically': 2374, 'intend': 1691, 'released': 2685, 'proper': 2518, 'development': 876, 'fails': 1202, 'british': 407, 'restrictive': 2756, 'refined': 2661, 'informed': 1658, 'verse': 3556, 'argue': 199, 'imusic': 1625, 'structure': 3186, 'dumber': 1009, 'affordable': 92, 'lullaby': 1974, 'survived': 3245, 'bells': 323, 'whistles': 3652, 'satisified': 2818, 'flexible': 1284, 'alexi': 118, 'humour': 1584, 'favorites': 1228, 'wishing': 3669, 'solely': 3033, 'loosing': 1950, 'presumably': 2471, 'interference': 1705, 'buzzing': 444, 'king': 1801, 'cutie': 785, 'sanity': 2815, 'choppy': 547, 'domain': 975, 'city': 556, 'dial': 884, 'lame': 1830, 'legally': 1868, 'godsend': 1393, 'numbers': 2201, 'choosing': 546, 'shipment': 2923, 'costs': 727, 'wattage': 3623, 'dollars': 974, 'obsessed': 2207, 'stairs': 3130, 'certainly': 506, 'unexpected': 3479, 'remind': 2694, 'seams': 2858, 'maintain': 1992, 'smiths': 3012, 'falls': 1208, 'learnimg': 1858, 'sounded': 3061, 'emoji': 1064, 'accustom': 31, 'pup': 2541, 'calm': 453, 'wonders': 3676, 'calmer': 454, 'bark': 287, 'expert': 1167, 'operation': 2244, 'confuses': 664, 'engagement': 1076, 'sales': 2811, 'tempting': 3307, 'este': 1117, 'producto': 2500, 'lleg': 1920, 'semana': 2879, 'qued': 2560, 'sin': 2963, 'olor': 2229, 'perdi': 2343, 'toda': 3375, 'escencia': 1107, 'huele': 1580, 'solo': 3035, 'alcohol': 112, 'barry': 290, 'ages': 97, 'adults': 75, 'locations': 1930, 'dead': 810, 'stat': 3144, 'bothered': 383, 'spaces': 3071}\n"
     ]
    }
   ],
   "source": [
    "# Printing the identified Unique words along with their indices\n",
    "print(\"Vocabulary: \", tfidf.vocabulary_)"
   ],
   "metadata": {
    "collapsed": false,
    "ExecuteTime": {
     "start_time": "2023-05-01T13:41:14.239890Z",
     "end_time": "2023-05-01T13:41:14.256963Z"
    }
   }
  },
  {
   "cell_type": "code",
   "execution_count": 57,
   "outputs": [
    {
     "name": "stdout",
     "output_type": "stream",
     "text": [
      " Feature Names:  ['abay' 'abc' 'abd' ... 'zonked' 'zzzz' 'zzzzzzz']\n"
     ]
    }
   ],
   "source": [
    "# Get output feature names for transformation\n",
    "print(\" Feature Names: \", tfidf.get_feature_names_out())"
   ],
   "metadata": {
    "collapsed": false,
    "ExecuteTime": {
     "start_time": "2023-05-01T13:41:39.229639Z",
     "end_time": "2023-05-01T13:41:39.236023Z"
    }
   }
  },
  {
   "cell_type": "code",
   "execution_count": 58,
   "outputs": [
    {
     "name": "stdout",
     "output_type": "stream",
     "text": [
      "Stop Words:  frozenset({'thereupon', 'though', 'noone', 'six', 'thick', 'otherwise', 'take', 'eleven', 'forty', 'amoungst', 'therein', 'enough', 'thereby', 'per', 'although', 'or', 'besides', 'each', 'anywhere', 'made', 'describe', 'thence', 'it', 'myself', 'least', 'into', 'meanwhile', 'not', 'back', 'across', 'wherever', 'sincere', 'system', 'towards', 'give', 'yourselves', 'why', 'beside', 'always', 'empty', 'ourselves', 'to', 'couldnt', 'else', 'becomes', 'whereafter', 'if', 'in', 'must', 'once', 'serious', 'yours', 'front', 'first', 're', 'latterly', 'when', 'herself', 'until', 'please', 'should', 'fifty', 'all', 'mine', 'whenever', 'etc', 'he', 'how', 'no', 'anyhow', 'also', 'detail', 'everywhere', 'own', 'this', 'there', 'ie', 'so', 'sixty', 'several', 'anyway', 'less', 'seemed', 'and', 'who', 'nine', 'due', 'one', 'around', 'thereafter', 'she', 'nothing', 'along', 'five', 'con', 'well', 'about', 'bottom', 'alone', 'keep', 'during', 'under', 'toward', 'same', 'be', 'only', 'afterwards', 'us', 'over', 'neither', 'out', 'sometime', 'ours', 'co', 'become', 'before', 'anything', 'go', 'via', 'than', 'still', 'we', 'inc', 'then', 'bill', 'those', 'too', 'much', 'beyond', 'between', 'at', 'became', 'them', 'through', 'will', 'interest', 'often', 'yourself', 'while', 'whether', 'could', 'ltd', 'hundred', 'more', 'was', 'without', 'among', 'few', 'both', 'three', 'do', 'something', 'these', 'am', 'nowhere', 'whoever', 'side', 'rather', 'upon', 'former', 'her', 'however', 'somehow', 'ten', 'for', 'himself', 'nobody', 'within', 'except', 'cannot', 'moreover', 'i', 'hereby', 'almost', 'de', 'hasnt', 'mostly', 'they', 'becoming', 'might', 'an', 'never', 'here', 'indeed', 'fill', 'being', 'seem', 'eight', 'found', 'mill', 'him', 'that', 'throughout', 'full', 'thru', 'now', 'whereby', 'had', 'cry', 'find', 'my', 'someone', 'by', 'put', 'on', 'elsewhere', 'get', 'a', 'hers', 'its', 'whom', 'have', 'fire', 'herein', 'is', 'namely', 'others', 'been', 'amongst', 'twelve', 'were', 'either', 'formerly', 'hence', 'but', 'call', 'whither', 'themselves', 'above', 'move', 'where', 'every', 'of', 'thin', 'itself', 'everything', 'because', 'after', 'down', 'hereafter', 'most', 'seems', 'off', 'third', 'with', 'very', 'already', 'me', 'fifteen', 'your', 'would', 'thus', 'somewhere', 'see', 'which', 'as', 'further', 'cant', 'amount', 'any', 'you', 'next', 'another', 'nor', 'ever', 'has', 'their', 'our', 'whereas', 'twenty', 'therefore', 'wherein', 'sometimes', 'whereupon', 'what', 'anyone', 'many', 'latter', 'everyone', 'four', 'since', 'such', 'behind', 'other', 'whatever', 'un', 'from', 'whence', 'whole', 'some', 'beforehand', 'last', 'show', 'part', 'against', 'up', 'seeming', 'eg', 'name', 'may', 'can', 'two', 'again', 'done', 'top', 'none', 'perhaps', 'even', 'yet', 'nevertheless', 'are', 'his', 'the', 'together', 'below', 'hereupon', 'onto', 'whose'})\n"
     ]
    }
   ],
   "source": [
    "# Fetch the effective stop words list.\n",
    "print(\"Stop Words: \", tfidf.get_stop_words())"
   ],
   "metadata": {
    "collapsed": false,
    "ExecuteTime": {
     "start_time": "2023-05-01T13:41:59.376765Z",
     "end_time": "2023-05-01T13:41:59.384936Z"
    }
   }
  },
  {
   "cell_type": "code",
   "execution_count": 59,
   "outputs": [
    {
     "name": "stdout",
     "output_type": "stream",
     "text": [
      "Encoded Document:  [[0. 0. 0. ... 0. 0. 0.]\n",
      " [0. 0. 0. ... 0. 0. 0.]\n",
      " [0. 0. 0. ... 0. 0. 0.]\n",
      " ...\n",
      " [0. 0. 0. ... 0. 0. 0.]\n",
      " [0. 0. 0. ... 0. 0. 0.]\n",
      " [0. 0. 0. ... 0. 0. 0.]]\n"
     ]
    }
   ],
   "source": [
    "# Summarizing the Encoded Texts\n",
    "print(\"Encoded Document: \", text_tfidf.toarray())"
   ],
   "metadata": {
    "collapsed": false,
    "ExecuteTime": {
     "start_time": "2023-05-01T13:42:22.226577Z",
     "end_time": "2023-05-01T13:42:22.280911Z"
    }
   }
  },
  {
   "cell_type": "code",
   "execution_count": 53,
   "metadata": {
    "ExecuteTime": {
     "start_time": "2023-05-01T13:38:14.310206Z",
     "end_time": "2023-05-01T13:38:14.325347Z"
    }
   },
   "outputs": [],
   "source": [
    "# Import train_test_split\n",
    "from sklearn.model_selection import train_test_split\n",
    " \n",
    "# Partition data into training and testing set \n",
    "from sklearn.model_selection import train_test_split\n",
    "feature_train, feature_test, target_train, target_test = train_test_split(text_tfidf, df['feedback'], test_size=0.3, random_state=1)"
   ]
  },
  {
   "cell_type": "code",
   "execution_count": 54,
   "metadata": {
    "ExecuteTime": {
     "start_time": "2023-05-01T13:38:15.906638Z",
     "end_time": "2023-05-01T13:38:15.946753Z"
    }
   },
   "outputs": [],
   "source": [
    "# import logistic regression scikit-learn model\n",
    "from sklearn.linear_model import LogisticRegression\n",
    " \n",
    "# instantiate the model\n",
    "logreg = LogisticRegression(solver='lbfgs')\n",
    " \n",
    "# fit the model with data\n",
    "logreg.fit(feature_train,target_train)\n",
    " \n",
    "# Forecast the target variable for given test dataset\n",
    "predictions = logreg.predict(feature_test)"
   ]
  },
  {
   "cell_type": "code",
   "execution_count": 55,
   "metadata": {
    "ExecuteTime": {
     "start_time": "2023-05-01T13:38:17.549249Z",
     "end_time": "2023-05-01T13:38:17.573280Z"
    }
   },
   "outputs": [
    {
     "name": "stdout",
     "output_type": "stream",
     "text": [
      "Logistic Regression Model Accuracy: 0.9238095238095239\n",
      "Logistic Regression Model Precision: 0.923728813559322\n",
      "Logistic Regression Model Recall: 1.0\n",
      "Logistic Regression Model F1-Score: 0.960352422907489\n"
     ]
    }
   ],
   "source": [
    "# Import metrics module for performance evaluation\n",
    "from sklearn.metrics import accuracy_score\n",
    "from sklearn.metrics import precision_score\n",
    "from sklearn.metrics import recall_score\n",
    "from sklearn.metrics import f1_score\n",
    "\n",
    "# Assess model performance using accuracy measure\n",
    "print(\"Logistic Regression Model Accuracy:\",accuracy_score(target_test, predictions))\n",
    "# Calculate model precision\n",
    "print(\"Logistic Regression Model Precision:\",precision_score(target_test, predictions))\n",
    "# Calculate model recall\n",
    "print(\"Logistic Regression Model Recall:\",recall_score(target_test, predictions))\n",
    "# Calculate model f1 score\n",
    "print(\"Logistic Regression Model F1-Score:\",f1_score(target_test, predictions))"
   ]
  },
  {
   "cell_type": "markdown",
   "metadata": {},
   "source": [
    "## Text Similarity"
   ]
  },
  {
   "cell_type": "code",
   "execution_count": 60,
   "metadata": {
    "ExecuteTime": {
     "start_time": "2023-05-01T14:05:32.439594Z",
     "end_time": "2023-05-01T14:05:33.165467Z"
    }
   },
   "outputs": [
    {
     "name": "stdout",
     "output_type": "stream",
     "text": [
      "0.6362041590639654\n"
     ]
    },
    {
     "name": "stderr",
     "output_type": "stream",
     "text": [
      "<ipython-input-60-f176bbb7687a>:12: UserWarning: [W007] The model you're using has no word vectors loaded, so the result of the Doc.similarity method will be based on the tagger, parser and NER, which may not give useful similarity judgements. This may happen if you're using one of the small models, e.g. `en_core_web_sm`, which don't ship with word vectors and only use context-sensitive tensors. You can always add your own word vectors, or use one of the larger models instead if available.\n",
      "  print(doc1.similarity(doc2))\n"
     ]
    }
   ],
   "source": [
    "# Import spacy\n",
    "import spacy\n",
    " \n",
    "# Load English model for tokenizer, tagger, parser, and NER \n",
    "nlp = spacy.load('en_core_web_sm')\n",
    " \n",
    "# Create documents\n",
    "doc1 = nlp(u'I love pets.')\n",
    "doc2 = nlp(u'I hate pets')\n",
    " \n",
    "# Find similarity\n",
    "print(doc1.similarity(doc2))"
   ]
  },
  {
   "cell_type": "code",
   "execution_count": 61,
   "outputs": [
    {
     "name": "stdout",
     "output_type": "stream",
     "text": [
      "0.9041243947777828\n"
     ]
    }
   ],
   "source": [
    "# Import spacy\n",
    "import spacy\n",
    "\n",
    "# Load English model for tokenizer, tagger, parser, and NER\n",
    "nlp = spacy.load('en_core_web_lg')\n",
    "\n",
    "# Create documents\n",
    "doc1 = nlp(u'I love pets.')\n",
    "doc2 = nlp(u'I hate pets')\n",
    "\n",
    "# Find similarity\n",
    "print(doc1.similarity(doc2))"
   ],
   "metadata": {
    "collapsed": false,
    "ExecuteTime": {
     "start_time": "2023-05-01T14:12:15.924932Z",
     "end_time": "2023-05-01T14:12:17.910201Z"
    }
   }
  },
  {
   "cell_type": "code",
   "execution_count": 63,
   "metadata": {
    "ExecuteTime": {
     "start_time": "2023-05-01T14:19:15.002981Z",
     "end_time": "2023-05-01T14:19:15.010348Z"
    }
   },
   "outputs": [],
   "source": [
    "def jaccard_similarity(sent1, sent2):\n",
    "    \"\"\"Find text similarity using jaccard similarity\"\"\"\n",
    "    \n",
    "    # Tokenize sentences\n",
    "    token1 = set(sent1.split())\n",
    "    token2 = set(sent2.split())\n",
    "     \n",
    "    # intersection between tokens of two sentences    \n",
    "    intersection_tokens = token1.intersection(token2)\n",
    "    \n",
    "    # Union between tokens of two sentences\n",
    "    union_tokens=token1.union(token2)\n",
    "    \n",
    "    # jaccard Similarity\n",
    "    sim_= float(len(intersection_tokens) / len(union_tokens))\n",
    "    return sim_"
   ]
  },
  {
   "cell_type": "code",
   "execution_count": 64,
   "outputs": [
    {
     "data": {
      "text/plain": "0.5"
     },
     "execution_count": 64,
     "metadata": {},
     "output_type": "execute_result"
    }
   ],
   "source": [
    "# Call function\n",
    "jaccard_similarity('I love pets.','I hate pets.')"
   ],
   "metadata": {
    "collapsed": false,
    "ExecuteTime": {
     "start_time": "2023-05-01T14:19:16.768699Z",
     "end_time": "2023-05-01T14:19:16.783736Z"
    }
   }
  },
  {
   "cell_type": "code",
   "execution_count": 74,
   "metadata": {
    "ExecuteTime": {
     "start_time": "2023-05-01T14:32:05.630368Z",
     "end_time": "2023-05-01T14:32:05.635141Z"
    }
   },
   "outputs": [
    {
     "name": "stdout",
     "output_type": "stream",
     "text": [
      "[[1.         0.33609693]\n",
      " [0.33609693 1.        ]]\n"
     ]
    }
   ],
   "source": [
    "# Let's import text feature extraction TfidfVectorizer\n",
    "from sklearn.feature_extraction.text import TfidfVectorizer\n",
    "# Import cosine_similarity metrics\n",
    "from sklearn.metrics.pairwise import cosine_similarity\n",
    "\n",
    "docs=['I love pets.','I hate pets.']\n",
    " \n",
    "# Initialize TfidfVectorizer object\n",
    "tfidf= TfidfVectorizer()\n",
    " \n",
    "# Fit and transform the given data\n",
    "tfidf_vector = tfidf.fit_transform(docs)\n",
    "\n",
    "# compute similarity using cosine similarity\n",
    "cos_sim=cosine_similarity(tfidf_vector, tfidf_vector)\n",
    "print(cos_sim)"
   ]
  },
  {
   "cell_type": "code",
   "execution_count": null,
   "outputs": [],
   "source": [],
   "metadata": {
    "collapsed": false
   }
  }
 ],
 "metadata": {
  "kernelspec": {
   "display_name": "Python 3",
   "language": "python",
   "name": "python3"
  },
  "language_info": {
   "codemirror_mode": {
    "name": "ipython",
    "version": 3
   },
   "file_extension": ".py",
   "mimetype": "text/x-python",
   "name": "python",
   "nbconvert_exporter": "python",
   "pygments_lexer": "ipython3",
   "version": "3.8.3"
  }
 },
 "nbformat": 4,
 "nbformat_minor": 2
}
